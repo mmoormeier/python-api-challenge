{
 "cells": [
  {
   "cell_type": "markdown",
   "metadata": {},
   "source": [
    "# WeatherPy\n",
    "----\n",
    "\n",
    "#### Note\n",
    "* Instructions have been included for each segment. You do not have to follow them exactly, but they are included to help you think through the steps."
   ]
  },
  {
   "cell_type": "code",
   "execution_count": 1,
   "metadata": {
    "scrolled": true
   },
   "outputs": [],
   "source": [
    "# Dependencies and Setup\n",
    "import matplotlib.pyplot as plt\n",
    "import pandas as pd\n",
    "import numpy as np\n",
    "import requests\n",
    "import time\n",
    "from scipy.stats import linregress\n",
    "import json\n",
    "import os\n",
    "import csv\n",
    "from scipy import stats\n",
    "\n",
    "# Import API key\n",
    "from config import weather_key\n",
    "\n",
    "# Incorporated citipy to determine city based on latitude and longitude\n",
    "from citipy import citipy\n",
    "\n",
    "# Range of latitudes and longitudes\n",
    "lat_range = (-90, 90)\n",
    "lng_range = (-180, 180)"
   ]
  },
  {
   "cell_type": "markdown",
   "metadata": {},
   "source": [
    "## Generate Cities List"
   ]
  },
  {
   "cell_type": "code",
   "execution_count": 2,
   "metadata": {},
   "outputs": [
    {
     "data": {
      "text/plain": [
       "630"
      ]
     },
     "execution_count": 2,
     "metadata": {},
     "output_type": "execute_result"
    }
   ],
   "source": [
    "# List for holding lat_lngs and cities\n",
    "lat_lngs = []\n",
    "cities = []\n",
    "\n",
    "# Create a set of random lat and lng combinations\n",
    "lats = np.random.uniform(lat_range[0], lat_range[1], size=1500)\n",
    "lngs = np.random.uniform(lng_range[0], lng_range[1], size=1500)\n",
    "lat_lngs = zip(lats, lngs)\n",
    "\n",
    "# Identify nearest city for each lat, lng combination\n",
    "for lat_lng in lat_lngs:\n",
    "    city = citipy.nearest_city(lat_lng[0], lat_lng[1]).city_name\n",
    "    \n",
    "    # If the city is unique, then add it to a our cities list\n",
    "    if city not in cities:\n",
    "        cities.append(city)\n",
    "\n",
    "# Print the city count to confirm sufficient count\n",
    "len(cities)\n"
   ]
  },
  {
   "cell_type": "markdown",
   "metadata": {},
   "source": [
    "### Perform API Calls\n",
    "* Perform a weather check on each city using a series of successive API calls.\n",
    "* Include a print log of each city as it'sbeing processed (with the city number and city name).\n"
   ]
  },
  {
   "cell_type": "code",
   "execution_count": 3,
   "metadata": {},
   "outputs": [
    {
     "name": "stdout",
     "output_type": "stream",
     "text": [
      "Processing Record: 0 for ID: hermanus\n",
      "Processing Record: 1 for ID: sumbawa\n",
      "Processing Record: 2 for ID: mar del plata\n",
      "Processing Record: 3 for ID: albany\n",
      "Processing Record: 4 for ID: ossora\n",
      "Processing Record: 5 for ID: maarianhamina\n",
      "Processing Record: 6 for ID: cherskiy\n",
      "Processing Record: 7 for ID: rikitea\n",
      "Processing Record: 8 for ID: byron bay\n",
      "Processing Record: 9 for ID: tasiilaq\n",
      "Processing Record: 10 for ID: lodja\n",
      "Processing Record: 11 for ID: buchanan\n",
      "Processing Record: 12 for ID: sedalia\n",
      "Processing Record: 13 for ID: busselton\n",
      "Processing Record: 14 for ID: naze\n",
      "Processing Record: 15 for ID: skeldon\n",
      "Processing Record: 16 for ID: illoqqortoormiut\n",
      "Processing Record: 17 for ID: bluff\n",
      "Processing Record: 18 for ID: takhtamygda\n",
      "Processing Record: 19 for ID: srednekolymsk\n",
      "Processing Record: 20 for ID: chernogorsk\n",
      "Processing Record: 21 for ID: guerrero negro\n",
      "Processing Record: 22 for ID: ushuaia\n",
      "Processing Record: 23 for ID: kruisfontein\n",
      "Processing Record: 24 for ID: saint-joseph\n",
      "Processing Record: 25 for ID: pisco\n",
      "Processing Record: 26 for ID: saskylakh\n",
      "Processing Record: 27 for ID: butaritari\n",
      "Processing Record: 28 for ID: flinders\n",
      "Processing Record: 29 for ID: yellowknife\n",
      "Processing Record: 30 for ID: noumea\n",
      "Processing Record: 31 for ID: tamiahua\n",
      "Processing Record: 32 for ID: bredasdorp\n",
      "Processing Record: 33 for ID: villa carlos paz\n",
      "Processing Record: 34 for ID: hobart\n",
      "Processing Record: 35 for ID: kuche\n",
      "Processing Record: 36 for ID: port alfred\n",
      "Processing Record: 37 for ID: yar-sale\n",
      "Processing Record: 38 for ID: bograd\n",
      "Processing Record: 39 for ID: chintamani\n",
      "Processing Record: 40 for ID: kautokeino\n",
      "Processing Record: 41 for ID: barcelona\n",
      "Processing Record: 42 for ID: sao filipe\n",
      "Processing Record: 43 for ID: biasca\n",
      "Processing Record: 44 for ID: barrow\n",
      "Processing Record: 45 for ID: itarema\n",
      "Processing Record: 46 for ID: saint-philippe\n",
      "Processing Record: 47 for ID: malakal\n",
      "Processing Record: 48 for ID: lebu\n",
      "Processing Record: 49 for ID: taolanaro\n",
      "Processing Record: 50 for ID: mabaruma\n",
      "Processing Record: 51 for ID: padang\n",
      "Processing Record: 52 for ID: talcahuano\n",
      "Processing Record: 53 for ID: samusu\n",
      "Processing Record: 54 for ID: carroll\n",
      "Processing Record: 55 for ID: hailar\n",
      "Processing Record: 56 for ID: mataura\n",
      "Processing Record: 57 for ID: tinaquillo\n",
      "Processing Record: 58 for ID: antalaha\n",
      "Processing Record: 59 for ID: oranjestad\n",
      "Processing Record: 60 for ID: rantepao\n",
      "Processing Record: 61 for ID: malangali\n",
      "Processing Record: 62 for ID: carnarvon\n",
      "Processing Record: 63 for ID: klaksvik\n",
      "Processing Record: 64 for ID: macamic\n",
      "Processing Record: 65 for ID: hami\n",
      "Processing Record: 66 for ID: beringovskiy\n",
      "Processing Record: 67 for ID: alyangula\n",
      "Processing Record: 68 for ID: warqla\n",
      "Processing Record: 69 for ID: ginda\n",
      "Processing Record: 70 for ID: ribeira grande\n",
      "Processing Record: 71 for ID: hithadhoo\n",
      "Processing Record: 72 for ID: new norfolk\n",
      "Processing Record: 73 for ID: bathsheba\n",
      "Processing Record: 74 for ID: belushya guba\n",
      "Processing Record: 75 for ID: grand river south east\n",
      "Processing Record: 76 for ID: nikolskoye\n",
      "Processing Record: 77 for ID: bhigvan\n",
      "Processing Record: 78 for ID: jamestown\n",
      "Processing Record: 79 for ID: geraldton\n",
      "Processing Record: 80 for ID: salalah\n",
      "Processing Record: 81 for ID: ballina\n",
      "Processing Record: 82 for ID: vaini\n",
      "Processing Record: 83 for ID: san luis\n",
      "Processing Record: 84 for ID: cape town\n",
      "Processing Record: 85 for ID: san patricio\n",
      "Processing Record: 86 for ID: tabiauea\n",
      "Processing Record: 87 for ID: haukipudas\n",
      "Processing Record: 88 for ID: saint george\n",
      "Processing Record: 89 for ID: punta arenas\n",
      "Processing Record: 90 for ID: mahebourg\n",
      "Processing Record: 91 for ID: broken hill\n",
      "Processing Record: 92 for ID: ketchikan\n",
      "Processing Record: 93 for ID: sawankhalok\n",
      "Processing Record: 94 for ID: east london\n",
      "Processing Record: 95 for ID: korhogo\n",
      "Processing Record: 96 for ID: ponta do sol\n",
      "Processing Record: 97 for ID: vila velha\n",
      "Processing Record: 98 for ID: nemuro\n",
      "Processing Record: 99 for ID: pangnirtung\n",
      "Processing Record: 100 for ID: north platte\n",
      "Processing Record: 101 for ID: paamiut\n",
      "Processing Record: 102 for ID: bam\n",
      "Processing Record: 103 for ID: dhidhdhoo\n",
      "Processing Record: 104 for ID: cidreira\n",
      "Processing Record: 105 for ID: gasa\n",
      "Processing Record: 106 for ID: cabo san lucas\n",
      "Processing Record: 107 for ID: faya\n",
      "Processing Record: 108 for ID: kapaa\n",
      "Processing Record: 109 for ID: palabuhanratu\n",
      "Processing Record: 110 for ID: balabac\n",
      "Processing Record: 111 for ID: ouallam\n",
      "Processing Record: 112 for ID: coahuayana\n",
      "Processing Record: 113 for ID: kholodnyy\n",
      "Processing Record: 114 for ID: ambodifototra\n",
      "Processing Record: 115 for ID: torbay\n",
      "Processing Record: 116 for ID: yialos\n",
      "Processing Record: 117 for ID: qaanaaq\n",
      "Processing Record: 118 for ID: bolungarvik\n",
      "Processing Record: 119 for ID: esperance\n",
      "Processing Record: 120 for ID: turtkul\n",
      "Processing Record: 121 for ID: arraial do cabo\n",
      "Processing Record: 122 for ID: tsihombe\n",
      "Processing Record: 123 for ID: port elizabeth\n",
      "Processing Record: 124 for ID: katiola\n",
      "Processing Record: 125 for ID: lavrentiya\n",
      "Processing Record: 126 for ID: miri\n",
      "Processing Record: 127 for ID: tura\n",
      "Processing Record: 128 for ID: lazaro cardenas\n",
      "Processing Record: 129 for ID: kaili\n",
      "Processing Record: 130 for ID: norman wells\n",
      "Processing Record: 131 for ID: taltal\n",
      "Processing Record: 132 for ID: shihezi\n",
      "Processing Record: 133 for ID: mys shmidta\n",
      "Processing Record: 134 for ID: chokurdakh\n",
      "Processing Record: 135 for ID: victoria\n",
      "Processing Record: 136 for ID: koslan\n",
      "Processing Record: 137 for ID: kirovskiy\n",
      "Processing Record: 138 for ID: khatanga\n",
      "Processing Record: 139 for ID: hamilton\n",
      "Processing Record: 140 for ID: vedaranniyam\n",
      "Processing Record: 141 for ID: narrabri\n",
      "Processing Record: 142 for ID: ahipara\n",
      "Processing Record: 143 for ID: airai\n",
      "Processing Record: 144 for ID: algiers\n",
      "Processing Record: 145 for ID: yumen\n",
      "Processing Record: 146 for ID: kodiak\n",
      "Processing Record: 147 for ID: nova vicosa\n",
      "Processing Record: 148 for ID: chapais\n",
      "Processing Record: 149 for ID: leningradskiy\n",
      "Processing Record: 150 for ID: katyuzhanka\n",
      "Processing Record: 151 for ID: thompson\n",
      "Processing Record: 152 for ID: wasilla\n",
      "Processing Record: 153 for ID: sobolevo\n",
      "Processing Record: 154 for ID: kargasok\n",
      "Processing Record: 155 for ID: caravelas\n",
      "Processing Record: 156 for ID: broome\n",
      "Processing Record: 157 for ID: moose factory\n",
      "Processing Record: 158 for ID: shubarshi\n",
      "Processing Record: 159 for ID: safwah\n",
      "Processing Record: 160 for ID: mrirt\n",
      "Processing Record: 161 for ID: port hardy\n",
      "Processing Record: 162 for ID: bengkulu\n",
      "Processing Record: 163 for ID: barcelos\n",
      "Processing Record: 164 for ID: chase\n",
      "Processing Record: 165 for ID: gambo\n",
      "Processing Record: 166 for ID: san jose\n",
      "Processing Record: 167 for ID: jalpaiguri\n",
      "Processing Record: 168 for ID: port pirie\n",
      "Processing Record: 169 for ID: korem\n",
      "Processing Record: 170 for ID: muana\n",
      "Processing Record: 171 for ID: mogadishu\n",
      "Processing Record: 172 for ID: beian\n",
      "Processing Record: 173 for ID: cayenne\n",
      "Processing Record: 174 for ID: kloulklubed\n",
      "Processing Record: 175 for ID: atuona\n",
      "Processing Record: 176 for ID: maceio\n",
      "Processing Record: 177 for ID: atambua\n",
      "Processing Record: 178 for ID: faanui\n",
      "Processing Record: 179 for ID: puerto ayora\n",
      "Processing Record: 180 for ID: birchis\n",
      "Processing Record: 181 for ID: dunedin\n",
      "Processing Record: 182 for ID: bambanglipuro\n",
      "Processing Record: 183 for ID: san luis rio colorado\n",
      "Processing Record: 184 for ID: puerto escondido\n",
      "Processing Record: 185 for ID: tiksi\n",
      "Processing Record: 186 for ID: uravakonda\n",
      "Processing Record: 187 for ID: barawe\n",
      "Processing Record: 188 for ID: salinopolis\n",
      "Processing Record: 189 for ID: mallapuram\n",
      "Processing Record: 190 for ID: provideniya\n",
      "Processing Record: 191 for ID: pevek\n",
      "Processing Record: 192 for ID: huarmey\n",
      "Processing Record: 193 for ID: aviles\n",
      "Processing Record: 194 for ID: toma\n",
      "Processing Record: 195 for ID: high level\n",
      "Processing Record: 196 for ID: santiago\n",
      "Processing Record: 197 for ID: hasaki\n",
      "Processing Record: 198 for ID: barra patuca\n",
      "Processing Record: 199 for ID: vila franca do campo\n",
      "Processing Record: 200 for ID: chuy\n",
      "Processing Record: 201 for ID: sakakah\n",
      "Processing Record: 202 for ID: soyo\n",
      "Processing Record: 203 for ID: valkeala\n",
      "Processing Record: 204 for ID: castro\n",
      "Processing Record: 205 for ID: mount gambier\n"
     ]
    },
    {
     "name": "stdout",
     "output_type": "stream",
     "text": [
      "Processing Record: 206 for ID: hervey bay\n",
      "Processing Record: 207 for ID: iskateley\n",
      "Processing Record: 208 for ID: kirakira\n",
      "Processing Record: 209 for ID: bambous virieux\n",
      "Processing Record: 210 for ID: vaitupu\n",
      "Processing Record: 211 for ID: turan\n",
      "Processing Record: 212 for ID: dmitriyevka\n",
      "Processing Record: 213 for ID: west wendover\n",
      "Processing Record: 214 for ID: lagoa\n",
      "Processing Record: 215 for ID: dikson\n",
      "Processing Record: 216 for ID: bethel\n",
      "Processing Record: 217 for ID: nizhneyansk\n",
      "Processing Record: 218 for ID: constitucion\n",
      "Processing Record: 219 for ID: haibowan\n",
      "Processing Record: 220 for ID: enkhuizen\n",
      "Processing Record: 221 for ID: inverell\n",
      "Processing Record: 222 for ID: cabra\n",
      "Processing Record: 223 for ID: halalo\n",
      "Processing Record: 224 for ID: praia\n",
      "Processing Record: 225 for ID: tuktoyaktuk\n",
      "Processing Record: 226 for ID: komsomolskiy\n",
      "Processing Record: 227 for ID: davenda\n",
      "Processing Record: 228 for ID: alta floresta\n",
      "Processing Record: 229 for ID: codrington\n",
      "Processing Record: 230 for ID: doha\n",
      "Processing Record: 231 for ID: barentsburg\n",
      "Processing Record: 232 for ID: umzimvubu\n",
      "Processing Record: 233 for ID: alghero\n",
      "Processing Record: 234 for ID: amderma\n",
      "Processing Record: 235 for ID: piste\n",
      "Processing Record: 236 for ID: matara\n",
      "Processing Record: 237 for ID: shieli\n",
      "Processing Record: 238 for ID: nusaybin\n",
      "Processing Record: 239 for ID: sangar\n",
      "Processing Record: 240 for ID: gladstone\n",
      "Processing Record: 241 for ID: meulaboh\n",
      "Processing Record: 242 for ID: talnakh\n",
      "Processing Record: 243 for ID: hong gai\n",
      "Processing Record: 244 for ID: gat\n",
      "Processing Record: 245 for ID: batsfjord\n",
      "Processing Record: 246 for ID: belmonte\n",
      "Processing Record: 247 for ID: poum\n",
      "Processing Record: 248 for ID: grand gaube\n",
      "Processing Record: 249 for ID: rundu\n",
      "Processing Record: 250 for ID: ternate\n",
      "Processing Record: 251 for ID: kasongo-lunda\n",
      "Processing Record: 252 for ID: general roca\n",
      "Processing Record: 253 for ID: husavik\n",
      "Processing Record: 254 for ID: kankaanpaa\n",
      "Processing Record: 255 for ID: carira\n",
      "Processing Record: 256 for ID: georgetown\n",
      "Processing Record: 257 for ID: longyearbyen\n",
      "Processing Record: 258 for ID: kupang\n",
      "Processing Record: 259 for ID: avarua\n",
      "Processing Record: 260 for ID: takaka\n",
      "Processing Record: 261 for ID: bongandanga\n",
      "Processing Record: 262 for ID: grindavik\n",
      "Processing Record: 263 for ID: kavaratti\n",
      "Processing Record: 264 for ID: fortuna\n",
      "Processing Record: 265 for ID: ayan\n",
      "Processing Record: 266 for ID: hihifo\n",
      "Processing Record: 267 for ID: moranbah\n",
      "Processing Record: 268 for ID: kirs\n",
      "Processing Record: 269 for ID: mayor pablo lagerenza\n",
      "Processing Record: 270 for ID: spornoye\n",
      "Processing Record: 271 for ID: jaroslaw\n",
      "Processing Record: 272 for ID: ilebo\n",
      "Processing Record: 273 for ID: nouadhibou\n",
      "Processing Record: 274 for ID: saint-pierre\n",
      "Processing Record: 275 for ID: smithers\n",
      "Processing Record: 276 for ID: nabire\n",
      "Processing Record: 277 for ID: maridi\n",
      "Processing Record: 278 for ID: safakulevo\n",
      "Processing Record: 279 for ID: touros\n",
      "Processing Record: 280 for ID: asau\n",
      "Processing Record: 281 for ID: mayo\n",
      "Processing Record: 282 for ID: coihaique\n",
      "Processing Record: 283 for ID: constantine\n",
      "Processing Record: 284 for ID: gritsovskiy\n",
      "Processing Record: 285 for ID: nepomuk\n",
      "Processing Record: 286 for ID: pushkinskiye gory\n",
      "Processing Record: 287 for ID: rio gallegos\n",
      "Processing Record: 288 for ID: babushkin\n",
      "Processing Record: 289 for ID: vaitape\n",
      "Processing Record: 290 for ID: tautira\n",
      "Processing Record: 291 for ID: kyra\n",
      "Processing Record: 292 for ID: biak\n",
      "Processing Record: 293 for ID: nguiu\n",
      "Processing Record: 294 for ID: ancud\n",
      "Processing Record: 295 for ID: krasnogorskiy\n",
      "Processing Record: 296 for ID: chimbote\n",
      "Processing Record: 297 for ID: puyang\n",
      "Processing Record: 298 for ID: salinas\n",
      "Processing Record: 299 for ID: saurimo\n",
      "Processing Record: 300 for ID: tateyama\n",
      "Processing Record: 301 for ID: jieshi\n",
      "Processing Record: 302 for ID: roald\n",
      "Processing Record: 303 for ID: springfield\n",
      "Processing Record: 304 for ID: berlevag\n",
      "Processing Record: 305 for ID: adrar\n",
      "Processing Record: 306 for ID: ambovombe\n",
      "Processing Record: 307 for ID: hilo\n",
      "Processing Record: 308 for ID: pundaguitan\n",
      "Processing Record: 309 for ID: kununurra\n",
      "Processing Record: 310 for ID: palana\n",
      "Processing Record: 311 for ID: velingrad\n",
      "Processing Record: 312 for ID: skibbereen\n",
      "Processing Record: 313 for ID: laguna\n",
      "Processing Record: 314 for ID: solovetskiy\n",
      "Processing Record: 315 for ID: xambioa\n",
      "Processing Record: 316 for ID: souillac\n",
      "Processing Record: 317 for ID: dujuma\n",
      "Processing Record: 318 for ID: virtsu\n",
      "Processing Record: 319 for ID: rodrigues alves\n",
      "Processing Record: 320 for ID: iqaluit\n",
      "Processing Record: 321 for ID: necochea\n",
      "Processing Record: 322 for ID: lalmohan\n",
      "Processing Record: 323 for ID: port hedland\n",
      "Processing Record: 324 for ID: saldanha\n",
      "Processing Record: 325 for ID: lompoc\n",
      "Processing Record: 326 for ID: kijang\n",
      "Processing Record: 327 for ID: kefalos\n",
      "Processing Record: 328 for ID: concepcion\n",
      "Processing Record: 329 for ID: camopi\n",
      "Processing Record: 330 for ID: khormuj\n",
      "Processing Record: 331 for ID: phuthaditjhaba\n",
      "Processing Record: 332 for ID: pagudpud\n",
      "Processing Record: 333 for ID: herrin\n",
      "Processing Record: 334 for ID: sampit\n",
      "Processing Record: 335 for ID: poyarkovo\n",
      "Processing Record: 336 for ID: tucumcari\n",
      "Processing Record: 337 for ID: ngukurr\n",
      "Processing Record: 338 for ID: corpus christi\n",
      "Processing Record: 339 for ID: guajara\n",
      "Processing Record: 340 for ID: kearney\n",
      "Processing Record: 341 for ID: mayumba\n",
      "Processing Record: 342 for ID: wilmington\n",
      "Processing Record: 343 for ID: alpena\n",
      "Processing Record: 344 for ID: riyadh\n",
      "Processing Record: 345 for ID: sentyabrskiy\n",
      "Processing Record: 346 for ID: candawaga\n",
      "Processing Record: 347 for ID: sterling\n",
      "Processing Record: 348 for ID: kirkenes\n",
      "Processing Record: 349 for ID: jumla\n",
      "Processing Record: 350 for ID: gradistea\n",
      "Processing Record: 351 for ID: kalmunai\n",
      "Processing Record: 352 for ID: balkanabat\n",
      "Processing Record: 353 for ID: alice\n",
      "Processing Record: 354 for ID: tombouctou\n",
      "Processing Record: 355 for ID: ola\n",
      "Processing Record: 356 for ID: lorengau\n",
      "Processing Record: 357 for ID: savonlinna\n",
      "Processing Record: 358 for ID: ondjiva\n",
      "Processing Record: 359 for ID: buariki\n",
      "Processing Record: 360 for ID: carauari\n",
      "Processing Record: 361 for ID: yabrud\n",
      "Processing Record: 362 for ID: independence\n",
      "Processing Record: 363 for ID: detchino\n",
      "Processing Record: 364 for ID: champerico\n",
      "Processing Record: 365 for ID: marawi\n",
      "Processing Record: 366 for ID: clyde river\n",
      "Processing Record: 367 for ID: san juan\n",
      "Processing Record: 368 for ID: heinola\n",
      "Processing Record: 369 for ID: makakilo city\n",
      "Processing Record: 370 for ID: beaverlodge\n",
      "Processing Record: 371 for ID: hambantota\n",
      "Processing Record: 372 for ID: marsh harbour\n",
      "Processing Record: 373 for ID: morrinhos\n",
      "Processing Record: 374 for ID: samarai\n",
      "Processing Record: 375 for ID: saleaula\n",
      "Processing Record: 376 for ID: watsa\n",
      "Processing Record: 377 for ID: guatire\n",
      "Processing Record: 378 for ID: mackay\n",
      "Processing Record: 379 for ID: walvis bay\n",
      "Processing Record: 380 for ID: san policarpo\n",
      "Processing Record: 381 for ID: ratnagiri\n",
      "Processing Record: 382 for ID: isangel\n",
      "Processing Record: 383 for ID: vanimo\n",
      "Processing Record: 384 for ID: te anau\n",
      "Processing Record: 385 for ID: vestmannaeyjar\n",
      "Processing Record: 386 for ID: sorland\n",
      "Processing Record: 387 for ID: narsaq\n",
      "Processing Record: 388 for ID: fort saint james\n",
      "Processing Record: 389 for ID: galiwinku\n",
      "Processing Record: 390 for ID: khash\n",
      "Processing Record: 391 for ID: ilulissat\n",
      "Processing Record: 392 for ID: esmeraldas\n",
      "Processing Record: 393 for ID: pizarro\n",
      "Processing Record: 394 for ID: marakkanam\n",
      "Processing Record: 395 for ID: karasuk\n",
      "Processing Record: 396 for ID: alice springs\n",
      "Processing Record: 397 for ID: kavieng\n",
      "Processing Record: 398 for ID: alofi\n",
      "Processing Record: 399 for ID: kungurtug\n",
      "Processing Record: 400 for ID: bako\n",
      "Processing Record: 401 for ID: grand baie\n",
      "Processing Record: 402 for ID: cairo\n",
      "Processing Record: 403 for ID: sharon\n",
      "Processing Record: 404 for ID: rovaniemi\n",
      "Processing Record: 405 for ID: kaitangata\n",
      "Processing Record: 406 for ID: willowmore\n",
      "Processing Record: 407 for ID: havre-saint-pierre\n",
      "Processing Record: 408 for ID: turinskaya sloboda\n",
      "Processing Record: 409 for ID: tyshkivka\n",
      "Processing Record: 410 for ID: barabai\n"
     ]
    },
    {
     "name": "stdout",
     "output_type": "stream",
     "text": [
      "Processing Record: 411 for ID: manacor\n",
      "Processing Record: 412 for ID: fort nelson\n",
      "Processing Record: 413 for ID: palmer\n",
      "Processing Record: 414 for ID: rawson\n",
      "Processing Record: 415 for ID: kiama\n",
      "Processing Record: 416 for ID: evansville\n",
      "Processing Record: 417 for ID: jiuquan\n",
      "Processing Record: 418 for ID: iracoubo\n",
      "Processing Record: 419 for ID: kalakamati\n",
      "Processing Record: 420 for ID: aklavik\n",
      "Processing Record: 421 for ID: alekseyevsk\n",
      "Processing Record: 422 for ID: mercedes\n",
      "Processing Record: 423 for ID: lukovetskiy\n",
      "Processing Record: 424 for ID: mantua\n",
      "Processing Record: 425 for ID: yabelo\n",
      "Processing Record: 426 for ID: urengoy\n",
      "Processing Record: 427 for ID: cockburn town\n",
      "Processing Record: 428 for ID: kudahuvadhoo\n",
      "Processing Record: 429 for ID: danshui\n",
      "Processing Record: 430 for ID: rio grande\n",
      "Processing Record: 431 for ID: boksitogorsk\n",
      "Processing Record: 432 for ID: teya\n",
      "Processing Record: 433 for ID: anloga\n",
      "Processing Record: 434 for ID: tarakan\n",
      "Processing Record: 435 for ID: mocuba\n",
      "Processing Record: 436 for ID: kadaya\n",
      "Processing Record: 437 for ID: kommunar\n",
      "Processing Record: 438 for ID: kieta\n",
      "Processing Record: 439 for ID: lyubim\n",
      "Processing Record: 440 for ID: yulara\n",
      "Processing Record: 441 for ID: mafinga\n",
      "Processing Record: 442 for ID: porto novo\n",
      "Processing Record: 443 for ID: maromitsa\n",
      "Processing Record: 444 for ID: tanjong sepat\n",
      "Processing Record: 445 for ID: severo-kurilsk\n",
      "Processing Record: 446 for ID: high prairie\n",
      "Processing Record: 447 for ID: marrakesh\n",
      "Processing Record: 448 for ID: mount isa\n",
      "Processing Record: 449 for ID: discovery bay\n",
      "Processing Record: 450 for ID: attawapiskat\n",
      "Processing Record: 451 for ID: basoko\n",
      "Processing Record: 452 for ID: kutum\n",
      "Processing Record: 453 for ID: matagami\n",
      "Processing Record: 454 for ID: meyungs\n",
      "Processing Record: 455 for ID: ostrovnoy\n",
      "Processing Record: 456 for ID: monticello\n",
      "Processing Record: 457 for ID: ilhabela\n",
      "Processing Record: 458 for ID: saint-junien\n",
      "Processing Record: 459 for ID: karlskrona\n",
      "Processing Record: 460 for ID: krasnopavlivka\n",
      "Processing Record: 461 for ID: dzilam gonzalez\n",
      "Processing Record: 462 for ID: hofn\n",
      "Processing Record: 463 for ID: bukoba\n",
      "Processing Record: 464 for ID: fare\n",
      "Processing Record: 465 for ID: gurun\n",
      "Processing Record: 466 for ID: nanortalik\n",
      "Processing Record: 467 for ID: turkistan\n",
      "Processing Record: 468 for ID: chifeng\n",
      "Processing Record: 469 for ID: solnechnyy\n",
      "Processing Record: 470 for ID: fairbanks\n",
      "Processing Record: 471 for ID: puquio\n",
      "Processing Record: 472 for ID: carutapera\n",
      "Processing Record: 473 for ID: kitob\n",
      "Processing Record: 474 for ID: ranong\n",
      "Processing Record: 475 for ID: arkhara\n",
      "Processing Record: 476 for ID: tinsukia\n",
      "Processing Record: 477 for ID: djambala\n",
      "Processing Record: 478 for ID: agadir\n",
      "Processing Record: 479 for ID: sorsk\n",
      "Processing Record: 480 for ID: brownfield\n",
      "Processing Record: 481 for ID: suffolk\n",
      "Processing Record: 482 for ID: coquimbo\n",
      "Processing Record: 483 for ID: ejura\n",
      "Processing Record: 484 for ID: zyryanka\n",
      "Processing Record: 485 for ID: bhatkal\n",
      "Processing Record: 486 for ID: pirovskoye\n",
      "Processing Record: 487 for ID: ailigandi\n",
      "Processing Record: 488 for ID: kismayo\n",
      "Processing Record: 489 for ID: labuan\n",
      "Processing Record: 490 for ID: yakovlevka\n",
      "Processing Record: 491 for ID: abu dhabi\n",
      "Processing Record: 492 for ID: bayeux\n",
      "Processing Record: 493 for ID: langenburg\n",
      "Processing Record: 494 for ID: marzuq\n",
      "Processing Record: 495 for ID: stephenville\n",
      "Processing Record: 496 for ID: inhambane\n",
      "Processing Record: 497 for ID: luderitz\n",
      "Processing Record: 498 for ID: jachymov\n",
      "Processing Record: 499 for ID: wulanhaote\n",
      "Processing Record: 500 for ID: upernavik\n",
      "Processing Record: 501 for ID: campbell river\n",
      "Processing Record: 502 for ID: mecca\n",
      "Processing Record: 503 for ID: chermoz\n",
      "Processing Record: 504 for ID: aksarka\n",
      "Processing Record: 505 for ID: wainwright\n",
      "Processing Record: 506 for ID: gazli\n",
      "Processing Record: 507 for ID: la asuncion\n",
      "Processing Record: 508 for ID: nanjing\n",
      "Processing Record: 509 for ID: krasnoselkup\n",
      "Processing Record: 510 for ID: bantou\n",
      "Processing Record: 511 for ID: santa rosalia\n",
      "Processing Record: 512 for ID: robertsport\n",
      "Processing Record: 513 for ID: lai\n",
      "Processing Record: 514 for ID: flin flon\n",
      "Processing Record: 515 for ID: nouakchott\n",
      "Processing Record: 516 for ID: mareeba\n",
      "Processing Record: 517 for ID: sayyan\n",
      "Processing Record: 518 for ID: brajrajnagar\n",
      "Processing Record: 519 for ID: clinton\n",
      "Processing Record: 520 for ID: chemodanovka\n",
      "Processing Record: 521 for ID: muli\n",
      "Processing Record: 522 for ID: middelburg\n",
      "Processing Record: 523 for ID: westport\n",
      "Processing Record: 524 for ID: dryden\n",
      "Processing Record: 525 for ID: gunjur\n",
      "Processing Record: 526 for ID: mehamn\n",
      "Processing Record: 527 for ID: safford\n",
      "Processing Record: 528 for ID: ewa beach\n",
      "Processing Record: 529 for ID: lakes entrance\n",
      "Processing Record: 530 for ID: santiago del estero\n",
      "Processing Record: 531 for ID: stepnyak\n",
      "Processing Record: 532 for ID: aitape\n",
      "Processing Record: 533 for ID: bemidji\n",
      "Processing Record: 534 for ID: george\n",
      "Processing Record: 535 for ID: kolpashevo\n",
      "Processing Record: 536 for ID: muhos\n",
      "Processing Record: 537 for ID: kabinda\n",
      "Processing Record: 538 for ID: nurota\n",
      "Processing Record: 539 for ID: ulaanbaatar\n",
      "Processing Record: 540 for ID: brae\n",
      "Processing Record: 541 for ID: vao\n",
      "Processing Record: 542 for ID: dalbandin\n",
      "Processing Record: 543 for ID: santa lucia\n",
      "Processing Record: 544 for ID: norrtalje\n",
      "Processing Record: 545 for ID: trogir\n",
      "Processing Record: 546 for ID: hirado\n",
      "Processing Record: 547 for ID: tazovskiy\n",
      "Processing Record: 548 for ID: farmington\n",
      "Processing Record: 549 for ID: mandera\n",
      "Processing Record: 550 for ID: nome\n",
      "Processing Record: 551 for ID: zlatoustovsk\n",
      "Processing Record: 552 for ID: caohai\n",
      "Processing Record: 553 for ID: dordrecht\n",
      "Processing Record: 554 for ID: ouahigouya\n",
      "Processing Record: 555 for ID: monor\n",
      "Processing Record: 556 for ID: calvinia\n",
      "Processing Record: 557 for ID: dwarka\n",
      "Processing Record: 558 for ID: tres arroyos\n",
      "Processing Record: 559 for ID: paracuru\n",
      "Processing Record: 560 for ID: margate\n",
      "Processing Record: 561 for ID: haines junction\n",
      "Processing Record: 562 for ID: daru\n",
      "Processing Record: 563 for ID: ban nahin\n",
      "Processing Record: 564 for ID: methoni\n",
      "Processing Record: 565 for ID: guiratinga\n",
      "Processing Record: 566 for ID: abrau-dyurso\n",
      "Processing Record: 567 for ID: campoverde\n",
      "Processing Record: 568 for ID: sao sebastiao\n",
      "Processing Record: 569 for ID: carson city\n",
      "Processing Record: 570 for ID: russell\n",
      "Processing Record: 571 for ID: firozpur\n",
      "Processing Record: 572 for ID: chuchkovo\n",
      "Processing Record: 573 for ID: karpogory\n",
      "Processing Record: 574 for ID: galveston\n",
      "Processing Record: 575 for ID: lianran\n",
      "Processing Record: 576 for ID: kushmurun\n",
      "Processing Record: 577 for ID: sao joao da ponte\n",
      "Processing Record: 578 for ID: melo\n",
      "Processing Record: 579 for ID: jujuy\n",
      "Processing Record: 580 for ID: panguna\n",
      "Processing Record: 581 for ID: marienburg\n",
      "Processing Record: 582 for ID: takoradi\n",
      "Processing Record: 583 for ID: henties bay\n",
      "Processing Record: 584 for ID: kokstad\n",
      "Processing Record: 585 for ID: oxelosund\n",
      "Processing Record: 586 for ID: phek\n",
      "Processing Record: 587 for ID: sola\n",
      "Processing Record: 588 for ID: marystown\n",
      "Processing Record: 589 for ID: xixiang\n",
      "Processing Record: 590 for ID: qaqortoq\n",
      "Processing Record: 591 for ID: port blair\n",
      "Processing Record: 592 for ID: panjakent\n",
      "Processing Record: 593 for ID: tuatapere\n",
      "Processing Record: 594 for ID: micheweni\n",
      "Processing Record: 595 for ID: los llanos de aridane\n",
      "Processing Record: 596 for ID: ust-kulom\n",
      "Processing Record: 597 for ID: atherton\n",
      "Processing Record: 598 for ID: bure\n",
      "Processing Record: 599 for ID: verkh-chebula\n",
      "Processing Record: 600 for ID: phulabani\n",
      "Processing Record: 601 for ID: athni\n",
      "Processing Record: 602 for ID: nioki\n",
      "Processing Record: 603 for ID: libreville\n",
      "Processing Record: 604 for ID: ueki\n",
      "Processing Record: 605 for ID: uk\n",
      "Processing Record: 606 for ID: shingu\n",
      "Processing Record: 607 for ID: vitim\n",
      "Processing Record: 608 for ID: calbuco\n",
      "Processing Record: 609 for ID: mandiana\n",
      "Processing Record: 610 for ID: sulphur springs\n",
      "Processing Record: 611 for ID: chandbali\n",
      "Processing Record: 612 for ID: bidor\n",
      "Processing Record: 613 for ID: mergui\n",
      "Processing Record: 614 for ID: aloleng\n"
     ]
    },
    {
     "name": "stdout",
     "output_type": "stream",
     "text": [
      "Processing Record: 615 for ID: bria\n",
      "Processing Record: 616 for ID: tagusao\n",
      "Processing Record: 617 for ID: brovary\n",
      "Processing Record: 618 for ID: banjar\n",
      "Processing Record: 619 for ID: fara in sabina\n",
      "Processing Record: 620 for ID: vinh long\n",
      "Processing Record: 621 for ID: tarudant\n",
      "Processing Record: 622 for ID: xining\n",
      "Processing Record: 623 for ID: college\n",
      "Processing Record: 624 for ID: bima\n",
      "Processing Record: 625 for ID: poso\n",
      "Processing Record: 626 for ID: bilma\n",
      "Processing Record: 627 for ID: puerto ayacucho\n",
      "Processing Record: 628 for ID: karratha\n",
      "Processing Record: 629 for ID: male\n"
     ]
    }
   ],
   "source": [
    "# 'http://api.openweathermap.org/data/2.5/weather?appid=194c964e5a1a1183aaa918d387570b66&q=Bujumbura&units=metric'\n",
    "\n",
    "#from config import weather_key\n",
    "\n",
    "# Build URL\n",
    "url = \"http://api.openweathermap.org/data/2.5/weather?appid=\" + weather_key + \"&q=\"\n",
    "\n",
    "# create list\n",
    "responses = []\n",
    "\n",
    "# Make a request for each city\n",
    "for x in range(len(cities)):\n",
    "    print(f\"Processing Record: {x} for ID: {cities[x]}\")\n",
    "\n",
    "    # Get one of the posts\n",
    "    post_response = requests.get(url + str(cities[x]))\n",
    "\n",
    "    # Save post's JSON\n",
    "    responses.append(post_response.json())\n",
    "    \n"
   ]
  },
  {
   "cell_type": "markdown",
   "metadata": {},
   "source": [
    "### Convert Raw Data to DataFrame\n",
    "* Export the city data into a .csv.\n",
    "* Display the DataFrame"
   ]
  },
  {
   "cell_type": "code",
   "execution_count": 4,
   "metadata": {},
   "outputs": [],
   "source": [
    "# Build query URL and request your results in Celsius\n",
    "\n",
    "url = \"http://api.openweathermap.org/data/2.5/weather?appid=\" + weather_key + \"&q=\"\n",
    "units = \"&units=imperial\"\n",
    "\n",
    "# create lists\n",
    "lat = []\n",
    "lng = []\n",
    "max_temp = []\n",
    "hum = []\n",
    "cloud = []\n",
    "wind = []\n",
    "country = []\n",
    "date = []\n",
    "\n",
    "for city in cities:\n",
    "    \n",
    "    # Create search query, make request and store in json\n",
    "    \n",
    "    response = requests.get(url + city + units)\n",
    "    response_json = response.json()\n",
    "    \n",
    "    try:\n",
    "        \n",
    "        lat.append(response_json['coord']['lat'])\n",
    "        lng.append(response_json['coord']['lon'])\n",
    "        max_temp.append(response_json['main']['temp_max'])\n",
    "        hum.append(response_json['main']['humidity'])\n",
    "        cloud.append(response_json['clouds']['all'])\n",
    "        wind.append(response_json['wind']['speed'])\n",
    "        country.append(response_json['sys']['country'])\n",
    "        date.append(response_json['dt'])\n",
    "\n",
    "    except:\n",
    "        # Append null values       \n",
    "        lat.append(None)\n",
    "        lng.append(None)\n",
    "        max_temp.append(None)\n",
    "        hum.append(None)\n",
    "        cloud.append(None)\n",
    "        wind.append(None)\n",
    "        country.append(None)\n",
    "        date.append(None)\n",
    "        \n",
    "# create dataframe\n",
    "city_data = pd.DataFrame({\n",
    "    \"City\": cities,\n",
    "    \"Latitude\": lat,\n",
    "    \"Longitude\": lng,\n",
    "    \"Max_Temp\": max_temp,\n",
    "    \"Humidity\": hum,\n",
    "    \"Cloudy\": cloud,\n",
    "    \"Wind\": wind,\n",
    "    \"Country\": country,\n",
    "    \"Date\": date\n",
    "})\n",
    "\n",
    "# Drop values with NaN and None values.\n",
    "city_data.dropna(inplace = True) \n",
    "\n"
   ]
  },
  {
   "cell_type": "code",
   "execution_count": 5,
   "metadata": {},
   "outputs": [
    {
     "data": {
      "text/html": [
       "<div>\n",
       "<style scoped>\n",
       "    .dataframe tbody tr th:only-of-type {\n",
       "        vertical-align: middle;\n",
       "    }\n",
       "\n",
       "    .dataframe tbody tr th {\n",
       "        vertical-align: top;\n",
       "    }\n",
       "\n",
       "    .dataframe thead th {\n",
       "        text-align: right;\n",
       "    }\n",
       "</style>\n",
       "<table border=\"1\" class=\"dataframe\">\n",
       "  <thead>\n",
       "    <tr style=\"text-align: right;\">\n",
       "      <th></th>\n",
       "      <th>City</th>\n",
       "      <th>Latitude</th>\n",
       "      <th>Longitude</th>\n",
       "      <th>Max_Temp</th>\n",
       "      <th>Humidity</th>\n",
       "      <th>Cloudy</th>\n",
       "      <th>Wind</th>\n",
       "      <th>Country</th>\n",
       "      <th>Date</th>\n",
       "    </tr>\n",
       "  </thead>\n",
       "  <tbody>\n",
       "    <tr>\n",
       "      <th>0</th>\n",
       "      <td>hermanus</td>\n",
       "      <td>-34.42</td>\n",
       "      <td>19.23</td>\n",
       "      <td>63.28</td>\n",
       "      <td>70.0</td>\n",
       "      <td>0.0</td>\n",
       "      <td>11.01</td>\n",
       "      <td>ZA</td>\n",
       "      <td>1.592591e+09</td>\n",
       "    </tr>\n",
       "    <tr>\n",
       "      <th>2</th>\n",
       "      <td>mar del plata</td>\n",
       "      <td>-38.00</td>\n",
       "      <td>-57.56</td>\n",
       "      <td>57.99</td>\n",
       "      <td>76.0</td>\n",
       "      <td>99.0</td>\n",
       "      <td>14.99</td>\n",
       "      <td>AR</td>\n",
       "      <td>1.592591e+09</td>\n",
       "    </tr>\n",
       "    <tr>\n",
       "      <th>3</th>\n",
       "      <td>albany</td>\n",
       "      <td>42.60</td>\n",
       "      <td>-73.97</td>\n",
       "      <td>84.00</td>\n",
       "      <td>45.0</td>\n",
       "      <td>32.0</td>\n",
       "      <td>5.28</td>\n",
       "      <td>US</td>\n",
       "      <td>1.592590e+09</td>\n",
       "    </tr>\n",
       "    <tr>\n",
       "      <th>4</th>\n",
       "      <td>ossora</td>\n",
       "      <td>59.24</td>\n",
       "      <td>163.07</td>\n",
       "      <td>49.89</td>\n",
       "      <td>81.0</td>\n",
       "      <td>0.0</td>\n",
       "      <td>3.74</td>\n",
       "      <td>RU</td>\n",
       "      <td>1.592591e+09</td>\n",
       "    </tr>\n",
       "    <tr>\n",
       "      <th>5</th>\n",
       "      <td>maarianhamina</td>\n",
       "      <td>60.10</td>\n",
       "      <td>19.93</td>\n",
       "      <td>71.60</td>\n",
       "      <td>60.0</td>\n",
       "      <td>1.0</td>\n",
       "      <td>9.17</td>\n",
       "      <td>AX</td>\n",
       "      <td>1.592591e+09</td>\n",
       "    </tr>\n",
       "  </tbody>\n",
       "</table>\n",
       "</div>"
      ],
      "text/plain": [
       "            City  Latitude  Longitude  Max_Temp  Humidity  Cloudy   Wind  \\\n",
       "0       hermanus    -34.42      19.23     63.28      70.0     0.0  11.01   \n",
       "2  mar del plata    -38.00     -57.56     57.99      76.0    99.0  14.99   \n",
       "3         albany     42.60     -73.97     84.00      45.0    32.0   5.28   \n",
       "4         ossora     59.24     163.07     49.89      81.0     0.0   3.74   \n",
       "5  maarianhamina     60.10      19.93     71.60      60.0     1.0   9.17   \n",
       "\n",
       "  Country          Date  \n",
       "0      ZA  1.592591e+09  \n",
       "2      AR  1.592591e+09  \n",
       "3      US  1.592590e+09  \n",
       "4      RU  1.592591e+09  \n",
       "5      AX  1.592591e+09  "
      ]
     },
     "execution_count": 5,
     "metadata": {},
     "output_type": "execute_result"
    }
   ],
   "source": [
    "city_data.head()\n"
   ]
  },
  {
   "cell_type": "code",
   "execution_count": 6,
   "metadata": {},
   "outputs": [],
   "source": [
    "# Export the City_Data into a csv\n",
    "city_data.to_csv (\"../output_data/City_Weather.csv\", index = False, header=True)\n"
   ]
  },
  {
   "cell_type": "markdown",
   "metadata": {},
   "source": [
    "## Inspect the data and remove the cities where the humidity > 100%.\n",
    "----\n",
    "Skip this step if there are no cities that have humidity > 100%. "
   ]
  },
  {
   "cell_type": "code",
   "execution_count": 7,
   "metadata": {},
   "outputs": [
    {
     "data": {
      "text/html": [
       "<div>\n",
       "<style scoped>\n",
       "    .dataframe tbody tr th:only-of-type {\n",
       "        vertical-align: middle;\n",
       "    }\n",
       "\n",
       "    .dataframe tbody tr th {\n",
       "        vertical-align: top;\n",
       "    }\n",
       "\n",
       "    .dataframe thead th {\n",
       "        text-align: right;\n",
       "    }\n",
       "</style>\n",
       "<table border=\"1\" class=\"dataframe\">\n",
       "  <thead>\n",
       "    <tr style=\"text-align: right;\">\n",
       "      <th></th>\n",
       "      <th>Latitude</th>\n",
       "      <th>Longitude</th>\n",
       "      <th>Max_Temp</th>\n",
       "      <th>Humidity</th>\n",
       "      <th>Cloudy</th>\n",
       "      <th>Wind</th>\n",
       "      <th>Date</th>\n",
       "    </tr>\n",
       "  </thead>\n",
       "  <tbody>\n",
       "    <tr>\n",
       "      <th>count</th>\n",
       "      <td>582.000000</td>\n",
       "      <td>582.000000</td>\n",
       "      <td>582.000000</td>\n",
       "      <td>582.000000</td>\n",
       "      <td>582.000000</td>\n",
       "      <td>582.000000</td>\n",
       "      <td>5.820000e+02</td>\n",
       "    </tr>\n",
       "    <tr>\n",
       "      <th>mean</th>\n",
       "      <td>19.814811</td>\n",
       "      <td>19.169313</td>\n",
       "      <td>69.483436</td>\n",
       "      <td>67.415808</td>\n",
       "      <td>49.695876</td>\n",
       "      <td>8.155773</td>\n",
       "      <td>1.592591e+09</td>\n",
       "    </tr>\n",
       "    <tr>\n",
       "      <th>std</th>\n",
       "      <td>33.418248</td>\n",
       "      <td>88.715692</td>\n",
       "      <td>14.341556</td>\n",
       "      <td>21.544789</td>\n",
       "      <td>35.153246</td>\n",
       "      <td>5.149673</td>\n",
       "      <td>7.202713e+01</td>\n",
       "    </tr>\n",
       "    <tr>\n",
       "      <th>min</th>\n",
       "      <td>-54.800000</td>\n",
       "      <td>-175.200000</td>\n",
       "      <td>32.000000</td>\n",
       "      <td>1.000000</td>\n",
       "      <td>0.000000</td>\n",
       "      <td>0.160000</td>\n",
       "      <td>1.592590e+09</td>\n",
       "    </tr>\n",
       "    <tr>\n",
       "      <th>25%</th>\n",
       "      <td>-6.455000</td>\n",
       "      <td>-59.257500</td>\n",
       "      <td>59.000000</td>\n",
       "      <td>53.000000</td>\n",
       "      <td>20.000000</td>\n",
       "      <td>4.482500</td>\n",
       "      <td>1.592590e+09</td>\n",
       "    </tr>\n",
       "    <tr>\n",
       "      <th>50%</th>\n",
       "      <td>21.770000</td>\n",
       "      <td>25.460000</td>\n",
       "      <td>71.600000</td>\n",
       "      <td>72.000000</td>\n",
       "      <td>45.500000</td>\n",
       "      <td>6.930000</td>\n",
       "      <td>1.592591e+09</td>\n",
       "    </tr>\n",
       "    <tr>\n",
       "      <th>75%</th>\n",
       "      <td>49.712500</td>\n",
       "      <td>92.720000</td>\n",
       "      <td>80.600000</td>\n",
       "      <td>84.000000</td>\n",
       "      <td>83.000000</td>\n",
       "      <td>11.010000</td>\n",
       "      <td>1.592591e+09</td>\n",
       "    </tr>\n",
       "    <tr>\n",
       "      <th>max</th>\n",
       "      <td>78.220000</td>\n",
       "      <td>179.320000</td>\n",
       "      <td>106.340000</td>\n",
       "      <td>100.000000</td>\n",
       "      <td>100.000000</td>\n",
       "      <td>28.010000</td>\n",
       "      <td>1.592591e+09</td>\n",
       "    </tr>\n",
       "  </tbody>\n",
       "</table>\n",
       "</div>"
      ],
      "text/plain": [
       "         Latitude   Longitude    Max_Temp    Humidity      Cloudy        Wind  \\\n",
       "count  582.000000  582.000000  582.000000  582.000000  582.000000  582.000000   \n",
       "mean    19.814811   19.169313   69.483436   67.415808   49.695876    8.155773   \n",
       "std     33.418248   88.715692   14.341556   21.544789   35.153246    5.149673   \n",
       "min    -54.800000 -175.200000   32.000000    1.000000    0.000000    0.160000   \n",
       "25%     -6.455000  -59.257500   59.000000   53.000000   20.000000    4.482500   \n",
       "50%     21.770000   25.460000   71.600000   72.000000   45.500000    6.930000   \n",
       "75%     49.712500   92.720000   80.600000   84.000000   83.000000   11.010000   \n",
       "max     78.220000  179.320000  106.340000  100.000000  100.000000   28.010000   \n",
       "\n",
       "               Date  \n",
       "count  5.820000e+02  \n",
       "mean   1.592591e+09  \n",
       "std    7.202713e+01  \n",
       "min    1.592590e+09  \n",
       "25%    1.592590e+09  \n",
       "50%    1.592591e+09  \n",
       "75%    1.592591e+09  \n",
       "max    1.592591e+09  "
      ]
     },
     "execution_count": 7,
     "metadata": {},
     "output_type": "execute_result"
    }
   ],
   "source": [
    "# Check Max Humidity \n",
    "\n",
    "city_data.describe()\n"
   ]
  },
  {
   "cell_type": "code",
   "execution_count": 8,
   "metadata": {},
   "outputs": [
    {
     "name": "stdout",
     "output_type": "stream",
     "text": [
      "No data with humidity > 100%.  Max Humidity is 100%\n"
     ]
    }
   ],
   "source": [
    "#  Get the indices of cities that have humidity over 100%.\n",
    "\n",
    "print(\"No data with humidity > 100%.  Max Humidity is 100%\")\n"
   ]
  },
  {
   "cell_type": "code",
   "execution_count": 9,
   "metadata": {},
   "outputs": [
    {
     "name": "stdout",
     "output_type": "stream",
     "text": [
      "No data with humidity > 100%.  Max Humidity is 100%\n"
     ]
    }
   ],
   "source": [
    "# Make a new DataFrame equal to the city data to drop all humidity outliers by index.\n",
    "# Passing \"inplace=False\" will make a copy of the city_data DataFrame, which we call \"clean_city_data\".\n",
    "\n",
    "\n",
    "print(\"No data with humidity > 100%.  Max Humidity is 100%\")\n"
   ]
  },
  {
   "cell_type": "markdown",
   "metadata": {},
   "source": [
    "## Plotting the Data\n",
    "* Use proper labeling of the plots using plot titles (including date of analysis) and axes labels.\n",
    "* Save the plotted figures as .pngs."
   ]
  },
  {
   "cell_type": "markdown",
   "metadata": {},
   "source": [
    "## Latitude vs. Temperature Plot"
   ]
  },
  {
   "cell_type": "code",
   "execution_count": 10,
   "metadata": {
    "scrolled": true
   },
   "outputs": [
    {
     "data": {
      "image/png": "[encoded data removed]",
      "text/plain": [
       "<Figure size 432x288 with 1 Axes>"
      ]
     },
     "metadata": {
      "needs_background": "light"
     },
     "output_type": "display_data"
    }
   ],
   "source": [
    "x_values = city_data['Latitude']\n",
    "y_values = city_data['Max_Temp']\n",
    "\n",
    "# Display Plot\n",
    "plt.scatter(x_values,y_values)\n",
    "\n",
    "plt.title(\"City Latitude vs. Max Temperature (6/20/20)\")\n",
    "plt.xlabel('Latitude')\n",
    "plt.ylabel('Max Temperature (F)')\n",
    "plt.savefig(\"../output_data/LatitudevsTemperatureAll.png\")\n",
    "plt.show()\n"
   ]
  },
  {
   "cell_type": "code",
   "execution_count": 11,
   "metadata": {},
   "outputs": [
    {
     "name": "stdout",
     "output_type": "stream",
     "text": [
      "On the X axis the 0 point represents the equator.  As we get closer to the equator from the south (-60) and from the north (80) the temperature increases.\n"
     ]
    }
   ],
   "source": [
    "print(\"On the X axis the 0 point represents the equator.  As we get closer to the equator from the south (-60) and from the north (80) the temperature increases.\")"
   ]
  },
  {
   "cell_type": "markdown",
   "metadata": {},
   "source": [
    "## Latitude vs. Humidity Plot"
   ]
  },
  {
   "cell_type": "code",
   "execution_count": 12,
   "metadata": {},
   "outputs": [
    {
     "data": {
      "image/png": "[encoded data removed]",
      "text/plain": [
       "<Figure size 432x288 with 1 Axes>"
      ]
     },
     "metadata": {
      "needs_background": "light"
     },
     "output_type": "display_data"
    }
   ],
   "source": [
    "x_values = city_data['Latitude']\n",
    "y_values = city_data['Humidity']\n",
    "\n",
    "# Display Plot\n",
    "plt.scatter(x_values,y_values)\n",
    "\n",
    "plt.title(\"City Latitude vs. Humidity (6/20/20)\")\n",
    "plt.xlabel('Latitude')\n",
    "plt.ylabel('Humidity (%)')\n",
    "plt.savefig(\"../output_data/LatitudevsHumidityAll.png\")\n",
    "plt.show()"
   ]
  },
  {
   "cell_type": "code",
   "execution_count": 13,
   "metadata": {},
   "outputs": [
    {
     "name": "stdout",
     "output_type": "stream",
     "text": [
      "There is no relationship between latitude and humidity.  Humidity is pretty uniform as you travel the X axis\n"
     ]
    }
   ],
   "source": [
    "print(\"There is no relationship between latitude and humidity.  Humidity is pretty uniform as you travel the X axis\")"
   ]
  },
  {
   "cell_type": "markdown",
   "metadata": {},
   "source": [
    "## Latitude vs. Cloudiness Plot"
   ]
  },
  {
   "cell_type": "code",
   "execution_count": 14,
   "metadata": {},
   "outputs": [
    {
     "data": {
      "image/png": "[encoded data removed]",
      "text/plain": [
       "<Figure size 432x288 with 1 Axes>"
      ]
     },
     "metadata": {
      "needs_background": "light"
     },
     "output_type": "display_data"
    }
   ],
   "source": [
    "x_values = city_data['Latitude']\n",
    "y_values = city_data['Cloudy']\n",
    "\n",
    "# Display Plot\n",
    "plt.scatter(x_values,y_values)\n",
    "\n",
    "plt.title(\"City Latitude vs. Cloudiness (6/20/20)\")\n",
    "plt.xlabel('Latitude')\n",
    "plt.ylabel('Cloudiness (%)')\n",
    "plt.savefig(\"../output_data/LatitudevsCloudinessAll.png\")\n",
    "plt.show()"
   ]
  },
  {
   "cell_type": "code",
   "execution_count": 15,
   "metadata": {},
   "outputs": [
    {
     "name": "stdout",
     "output_type": "stream",
     "text": [
      "There appears to be no relationship between latitude and cloudiness.  Cloudiness is pretty uniform as you travel the X axis\n"
     ]
    }
   ],
   "source": [
    "print(\"There appears to be no relationship between latitude and cloudiness.  Cloudiness is pretty uniform as you travel the X axis\")"
   ]
  },
  {
   "cell_type": "markdown",
   "metadata": {},
   "source": [
    "## Latitude vs. Wind Speed Plot"
   ]
  },
  {
   "cell_type": "code",
   "execution_count": 16,
   "metadata": {},
   "outputs": [
    {
     "data": {
      "image/png": "[encoded data removed]",
      "text/plain": [
       "<Figure size 432x288 with 1 Axes>"
      ]
     },
     "metadata": {
      "needs_background": "light"
     },
     "output_type": "display_data"
    }
   ],
   "source": [
    "x_values = city_data['Latitude']\n",
    "y_values = city_data['Wind']\n",
    "\n",
    "# Display Plot\n",
    "plt.scatter(x_values,y_values)\n",
    "\n",
    "plt.title(\"City Latitude vs. Wind (6/20/20)\")\n",
    "plt.xlabel('Latitude')\n",
    "plt.ylabel('Wind Speed (mph)')\n",
    "plt.savefig(\"../output_data/LatitudevsWindSpeedAll.png\")\n",
    "plt.show()"
   ]
  },
  {
   "cell_type": "code",
   "execution_count": 17,
   "metadata": {},
   "outputs": [
    {
     "name": "stdout",
     "output_type": "stream",
     "text": [
      "There appears to be no relationship between latitude and wind.  Wind is pretty uniform as you travel the X axis\n"
     ]
    }
   ],
   "source": [
    "print(\"There appears to be no relationship between latitude and wind.  Wind is pretty uniform as you travel the X axis\")"
   ]
  },
  {
   "cell_type": "markdown",
   "metadata": {},
   "source": [
    "## Linear Regression"
   ]
  },
  {
   "cell_type": "code",
   "execution_count": 18,
   "metadata": {},
   "outputs": [],
   "source": [
    "# OPTIONAL: Create a function to create Linear Regression plots"
   ]
  },
  {
   "cell_type": "code",
   "execution_count": 19,
   "metadata": {},
   "outputs": [],
   "source": [
    "# Create Northern Hemisphere Dataframe\n",
    "north_hem_data = city_data.loc[(city_data['Latitude']>=0)]\n",
    "\n",
    "# Extract relevant fields from the data frame to lists\n",
    "\n",
    "# Create Souther Hemisphere Dataframe\n",
    "south_hem_data = city_data.loc[(city_data['Latitude']<0)]\n",
    "\n"
   ]
  },
  {
   "cell_type": "markdown",
   "metadata": {},
   "source": [
    "####  Northern Hemisphere - Max Temp vs. Latitude Linear Regression"
   ]
  },
  {
   "cell_type": "code",
   "execution_count": 20,
   "metadata": {},
   "outputs": [
    {
     "data": {
      "image/png": "[encoded data removed]",
      "text/plain": [
       "<Figure size 432x288 with 1 Axes>"
      ]
     },
     "metadata": {
      "needs_background": "light"
     },
     "output_type": "display_data"
    }
   ],
   "source": [
    "# Draw Scatter Plot for Northern Hem.\n",
    "x_values = north_hem_data['Latitude']\n",
    "y_values = north_hem_data['Max_Temp']\n",
    "\n",
    "# Display Plot\n",
    "plt.scatter(x_values,y_values)\n",
    "plt.title(\"Northern Hemisphere - Max Temp vs. Latitude (6/20/20)\")\n",
    "plt.xlabel('Latitude')\n",
    "plt.ylabel('Max Temp')\n",
    "plt.show()\n"
   ]
  },
  {
   "cell_type": "code",
   "execution_count": 21,
   "metadata": {},
   "outputs": [
    {
     "name": "stdout",
     "output_type": "stream",
     "text": [
      "In the Northern Hemisphere, the further you get away from the equator (0 on the X axis) the temperature decreases\n"
     ]
    }
   ],
   "source": [
    "print(\"In the Northern Hemisphere, the further you get away from the equator (0 on the X axis) the temperature decreases\")"
   ]
  },
  {
   "cell_type": "code",
   "execution_count": 22,
   "metadata": {},
   "outputs": [
    {
     "data": {
      "image/png": "[encoded data removed]",
      "text/plain": [
       "<Figure size 432x288 with 1 Axes>"
      ]
     },
     "metadata": {
      "needs_background": "light"
     },
     "output_type": "display_data"
    }
   ],
   "source": [
    "# Perform a linear regression on latitude versus Max Temp\n",
    "\n",
    "x_values = north_hem_data['Latitude']\n",
    "y_values = north_hem_data['Max_Temp']\n",
    "(slope, intercept, rvalue, pvalue, stderr) = linregress(x_values, y_values)\n",
    "regress_values = x_values * slope + intercept\n",
    "line_eq = \"y = \" + str(round(slope,2)) + \"x + \" + str(round(intercept,2))\n",
    "plt.scatter(x_values,y_values)\n",
    "plt.plot(x_values,regress_values,\"r-\")\n",
    "plt.annotate(line_eq,(0,50),fontsize=15,color=\"red\")\n",
    "\n",
    "plt.title(\"Northern Hemisphere - Max Temp vs. Latitude (6/20/20)\")\n",
    "plt.xlabel('Latitude')\n",
    "plt.ylabel('Max_Temp (F)')\n",
    "plt.savefig(\"../output_data/LatitudevsTemperatureNorth.png\")\n",
    "plt.show()"
   ]
  },
  {
   "cell_type": "code",
   "execution_count": 23,
   "metadata": {},
   "outputs": [
    {
     "name": "stdout",
     "output_type": "stream",
     "text": [
      "The r value is: -0.7038262934020234\n",
      "The r-squared is: 0.49537145128403115\n",
      "There is a Moderate Negative Strength of Correlation between Max Temp and Latitude in the Northern Hemisphere\n"
     ]
    }
   ],
   "source": [
    "print(f\"The r value is: {rvalue}\")\n",
    "print(f\"The r-squared is: {rvalue**2}\")\n",
    "\n",
    "print(\"There is a Moderate Negative Strength of Correlation between Max Temp and Latitude in the Northern Hemisphere\")"
   ]
  },
  {
   "cell_type": "markdown",
   "metadata": {},
   "source": [
    "####  Southern Hemisphere - Max Temp vs. Latitude Linear Regression"
   ]
  },
  {
   "cell_type": "code",
   "execution_count": 24,
   "metadata": {},
   "outputs": [
    {
     "data": {
      "image/png": "[encoded data removed]",
      "text/plain": [
       "<Figure size 432x288 with 1 Axes>"
      ]
     },
     "metadata": {
      "needs_background": "light"
     },
     "output_type": "display_data"
    }
   ],
   "source": [
    "# Draw Scatter Plot for Southern Hem.\n",
    "\n",
    "x_values = south_hem_data['Latitude']\n",
    "y_values = south_hem_data['Max_Temp']\n",
    "(slope, intercept, rvalue, pvalue, stderr) = linregress(x_values, y_values)\n",
    "regress_values = x_values * slope + intercept\n",
    "line_eq = \"y = \" + str(round(slope,2)) + \"x + \" + str(round(intercept,2))\n",
    "plt.scatter(x_values,y_values)\n",
    "plt.plot(x_values,regress_values,\"r-\")\n",
    "plt.annotate(line_eq,(0,50),fontsize=15,color=\"red\")\n",
    "\n",
    "plt.title(\"Southern Hemisphere - Max Temp vs. Latitude (6/20/20)\")\n",
    "plt.xlabel('Latitude')\n",
    "plt.ylabel('Max_Temp (F)')\n",
    "plt.savefig(\"../output_data/LatitudevsTemperatureSouth.png\")\n",
    "plt.show()\n"
   ]
  },
  {
   "cell_type": "code",
   "execution_count": 25,
   "metadata": {},
   "outputs": [
    {
     "name": "stdout",
     "output_type": "stream",
     "text": [
      "The r value is: 0.7968999950792028\n",
      "The r-squared is: 0.6350496021572335\n",
      "There is a Moderate Positive Strength of Correlation between Max Temp and Latitude in the Southern Hemisphere\n"
     ]
    }
   ],
   "source": [
    "print(f\"The r value is: {rvalue}\")\n",
    "print(f\"The r-squared is: {rvalue**2}\")\n",
    "\n",
    "print(\"There is a Moderate Positive Strength of Correlation between Max Temp and Latitude in the Southern Hemisphere\")"
   ]
  },
  {
   "cell_type": "markdown",
   "metadata": {},
   "source": [
    "####  Northern Hemisphere - Humidity (%) vs. Latitude Linear Regression"
   ]
  },
  {
   "cell_type": "code",
   "execution_count": 26,
   "metadata": {},
   "outputs": [
    {
     "data": {
      "image/png": "[encoded data removed]",
      "text/plain": [
       "<Figure size 432x288 with 1 Axes>"
      ]
     },
     "metadata": {
      "needs_background": "light"
     },
     "output_type": "display_data"
    }
   ],
   "source": [
    "# Draw Scatter Plot for Northern Hem.\n",
    "\n",
    "x_values = north_hem_data['Latitude']\n",
    "y_values = north_hem_data['Humidity']\n",
    "(slope, intercept, rvalue, pvalue, stderr) = linregress(x_values, y_values)\n",
    "regress_values = x_values * slope + intercept\n",
    "line_eq = \"y = \" + str(round(slope,2)) + \"x + \" + str(round(intercept,2))\n",
    "plt.scatter(x_values,y_values)\n",
    "plt.plot(x_values,regress_values,\"r-\")\n",
    "plt.annotate(line_eq,(0,50),fontsize=15,color=\"red\")\n",
    "\n",
    "plt.title(\"Northern Hemisphere - Humidity (%) vs. Latitude (6/20/20)\")\n",
    "plt.xlabel('Latitude')\n",
    "plt.ylabel('Humidity (%)')\n",
    "plt.savefig(\"../output_data/LatitudevsHumidityNorth.png\")\n",
    "plt.show()\n"
   ]
  },
  {
   "cell_type": "code",
   "execution_count": 27,
   "metadata": {},
   "outputs": [
    {
     "name": "stdout",
     "output_type": "stream",
     "text": [
      "The r value is: -0.047488713687841175\n",
      "The r-squared is: 0.0022551779277257536\n",
      "There is a Weak Negative Strength of Correlation between Humidity and Latitude in the Northern Hemisphere\n"
     ]
    }
   ],
   "source": [
    "print(f\"The r value is: {rvalue}\")\n",
    "print(f\"The r-squared is: {rvalue**2}\")\n",
    "\n",
    "print(\"There is a Weak Negative Strength of Correlation between Humidity and Latitude in the Northern Hemisphere\")"
   ]
  },
  {
   "cell_type": "markdown",
   "metadata": {},
   "source": [
    "####  Southern Hemisphere - Humidity (%) vs. Latitude Linear Regression"
   ]
  },
  {
   "cell_type": "code",
   "execution_count": 28,
   "metadata": {},
   "outputs": [
    {
     "data": {
      "image/png": "[encoded data removed]",
      "text/plain": [
       "<Figure size 432x288 with 1 Axes>"
      ]
     },
     "metadata": {
      "needs_background": "light"
     },
     "output_type": "display_data"
    }
   ],
   "source": [
    "# Draw Scatter Plot for Northern Hem.\n",
    "x_values = south_hem_data['Latitude']\n",
    "y_values = south_hem_data['Humidity']\n",
    "\n",
    "(slope, intercept, rvalue, pvalue, stderr) = linregress(x_values, y_values)\n",
    "regress_values = x_values * slope + intercept\n",
    "line_eq = \"y = \" + str(round(slope,2)) + \"x + \" + str(round(intercept,2))\n",
    "\n",
    "plt.scatter(x_values,y_values)\n",
    "plt.plot(x_values,regress_values,\"r-\")\n",
    "plt.annotate(line_eq,(0,50),fontsize=15,color=\"red\")\n",
    "\n",
    "plt.title(\"Southern Hemisphere - Humidity (%) vs. Latitude (6/20/20)\")\n",
    "plt.xlabel('Latitude')\n",
    "plt.ylabel('Humidity (%)')\n",
    "plt.savefig(\"../output_data/LatitudevsHumiditySouth.png\")\n",
    "plt.show()"
   ]
  },
  {
   "cell_type": "code",
   "execution_count": 29,
   "metadata": {},
   "outputs": [
    {
     "name": "stdout",
     "output_type": "stream",
     "text": [
      "The r value is: 0.034678495713937295\n",
      "The r-squared is: 0.0012025980649815673\n",
      "There is a Weak Positive Strength of Correlation between Humidity and Latitude in the Southern Hemisphere\n"
     ]
    }
   ],
   "source": [
    "print(f\"The r value is: {rvalue}\")\n",
    "print(f\"The r-squared is: {rvalue**2}\")\n",
    "\n",
    "print(\"There is a Weak Positive Strength of Correlation between Humidity and Latitude in the Southern Hemisphere\")"
   ]
  },
  {
   "cell_type": "markdown",
   "metadata": {},
   "source": [
    "####  Northern Hemisphere - Cloudiness (%) vs. Latitude Linear Regression"
   ]
  },
  {
   "cell_type": "code",
   "execution_count": 30,
   "metadata": {},
   "outputs": [
    {
     "data": {
      "image/png": "[encoded data removed]",
      "text/plain": [
       "<Figure size 432x288 with 1 Axes>"
      ]
     },
     "metadata": {
      "needs_background": "light"
     },
     "output_type": "display_data"
    }
   ],
   "source": [
    "# Draw Scatter Plot for Northern Hem.\n",
    "\n",
    "x_values = north_hem_data['Latitude']\n",
    "y_values = north_hem_data['Cloudy']\n",
    "(slope, intercept, rvalue, pvalue, stderr) = linregress(x_values, y_values)\n",
    "regress_values = x_values * slope + intercept\n",
    "line_eq = \"y = \" + str(round(slope,2)) + \"x + \" + str(round(intercept,2))\n",
    "plt.scatter(x_values,y_values)\n",
    "plt.plot(x_values,regress_values,\"r-\")\n",
    "plt.annotate(line_eq,(0,50),fontsize=15,color=\"red\")\n",
    "\n",
    "plt.title(\"Northern Hemisphere - Cloudiness (%) vs. Latitude (6/20/20)\")\n",
    "plt.xlabel('Latitude')\n",
    "plt.ylabel('Cloudiness (%)')\n",
    "plt.savefig(\"../output_data/LatitudevsCloudNorth.png\")\n",
    "plt.show()\n"
   ]
  },
  {
   "cell_type": "code",
   "execution_count": 31,
   "metadata": {},
   "outputs": [
    {
     "name": "stdout",
     "output_type": "stream",
     "text": [
      "The r value is: -0.09536682525520873\n",
      "The r-squared is: 0.009094831359257517\n",
      "There is a Weak Negative Strength of Correlation between Cloudiness and Latitude in the Northern Hemisphere\n"
     ]
    }
   ],
   "source": [
    "print(f\"The r value is: {rvalue}\")\n",
    "print(f\"The r-squared is: {rvalue**2}\")\n",
    "\n",
    "print(\"There is a Weak Negative Strength of Correlation between Cloudiness and Latitude in the Northern Hemisphere\")"
   ]
  },
  {
   "cell_type": "markdown",
   "metadata": {},
   "source": [
    "####  Southern Hemisphere - Cloudiness (%) vs. Latitude Linear Regression"
   ]
  },
  {
   "cell_type": "code",
   "execution_count": 32,
   "metadata": {},
   "outputs": [
    {
     "data": {
      "image/png": "[encoded data removed]",
      "text/plain": [
       "<Figure size 432x288 with 1 Axes>"
      ]
     },
     "metadata": {
      "needs_background": "light"
     },
     "output_type": "display_data"
    }
   ],
   "source": [
    "# Draw Scatter Plot for Southern Hem.\n",
    "\n",
    "x_values = south_hem_data['Latitude']\n",
    "y_values = south_hem_data['Cloudy']\n",
    "(slope, intercept, rvalue, pvalue, stderr) = linregress(x_values, y_values)\n",
    "regress_values = x_values * slope + intercept\n",
    "line_eq = \"y = \" + str(round(slope,2)) + \"x + \" + str(round(intercept,2))\n",
    "plt.scatter(x_values,y_values)\n",
    "plt.plot(x_values,regress_values,\"r-\")\n",
    "plt.annotate(line_eq,(0,50),fontsize=15,color=\"red\")\n",
    "\n",
    "plt.title(\"Southern Hemisphere - Cloudiness (%) vs. Latitude (6/20/20)\")\n",
    "plt.xlabel('Latitude')\n",
    "plt.ylabel('Cloudiness (%)')\n",
    "plt.savefig(\"../output_data/LatitudevsCloudSouth.png\")\n",
    "plt.show()"
   ]
  },
  {
   "cell_type": "code",
   "execution_count": 33,
   "metadata": {},
   "outputs": [
    {
     "name": "stdout",
     "output_type": "stream",
     "text": [
      "The r value is: -0.008369464065880109\n",
      "The r-squared is: 7.00479287500584e-05\n",
      "There is a Weak Positive Strength of Correlation between Cloudiness and Latitude in the Southern Hemisphere\n"
     ]
    }
   ],
   "source": [
    "print(f\"The r value is: {rvalue}\")\n",
    "print(f\"The r-squared is: {rvalue**2}\")\n",
    "\n",
    "print(\"There is a Weak Positive Strength of Correlation between Cloudiness and Latitude in the Southern Hemisphere\")"
   ]
  },
  {
   "cell_type": "markdown",
   "metadata": {},
   "source": [
    "####  Northern Hemisphere - Wind Speed (mph) vs. Latitude Linear Regression"
   ]
  },
  {
   "cell_type": "code",
   "execution_count": 34,
   "metadata": {},
   "outputs": [
    {
     "data": {
      "image/png": "[encoded data removed]",
      "text/plain": [
       "<Figure size 432x288 with 1 Axes>"
      ]
     },
     "metadata": {
      "needs_background": "light"
     },
     "output_type": "display_data"
    }
   ],
   "source": [
    "# Draw Scatter Plot for Northern Hem.\n",
    "\n",
    "x_values = north_hem_data['Latitude']\n",
    "y_values = north_hem_data['Wind']\n",
    "(slope, intercept, rvalue, pvalue, stderr) = linregress(x_values, y_values)\n",
    "regress_values = x_values * slope + intercept\n",
    "line_eq = \"y = \" + str(round(slope,2)) + \"x + \" + str(round(intercept,2))\n",
    "plt.scatter(x_values,y_values)\n",
    "plt.plot(x_values,regress_values,\"r-\")\n",
    "plt.annotate(line_eq,(0,50),fontsize=15,color=\"red\")\n",
    "\n",
    "plt.title(\"Northern Hemisphere - Wind Speed(mph) vs. Latitude (6/20/20)\")\n",
    "plt.xlabel('Latitude')\n",
    "plt.ylabel('Wind Speed')\n",
    "plt.savefig(\"../output_data/LatitudevsWindNorth.png\")\n",
    "plt.show()\n"
   ]
  },
  {
   "cell_type": "code",
   "execution_count": 35,
   "metadata": {},
   "outputs": [
    {
     "name": "stdout",
     "output_type": "stream",
     "text": [
      "The r value is: 0.11986112535329482\n",
      "The r-squared is: 0.014366689370958256\n",
      "There is a Weak Negative Strength of Correlation between Wind Speed and Latitude in the Northern Hemisphere\n"
     ]
    }
   ],
   "source": [
    "print(f\"The r value is: {rvalue}\")\n",
    "print(f\"The r-squared is: {rvalue**2}\")\n",
    "\n",
    "print(\"There is a Weak Negative Strength of Correlation between Wind Speed and Latitude in the Northern Hemisphere\")"
   ]
  },
  {
   "cell_type": "markdown",
   "metadata": {},
   "source": [
    "####  Southern Hemisphere - Wind Speed (mph) vs. Latitude Linear Regression"
   ]
  },
  {
   "cell_type": "code",
   "execution_count": 36,
   "metadata": {},
   "outputs": [
    {
     "data": {
      "image/png": "[encoded data removed]",
      "text/plain": [
       "<Figure size 432x288 with 1 Axes>"
      ]
     },
     "metadata": {
      "needs_background": "light"
     },
     "output_type": "display_data"
    }
   ],
   "source": [
    "# Draw Scatter Plot for Northern Hem.\n",
    "\n",
    "x_values = south_hem_data['Latitude']\n",
    "y_values = south_hem_data['Wind']\n",
    "(slope, intercept, rvalue, pvalue, stderr) = linregress(x_values, y_values)\n",
    "regress_values = x_values * slope + intercept\n",
    "line_eq = \"y = \" + str(round(slope,2)) + \"x + \" + str(round(intercept,2))\n",
    "plt.scatter(x_values,y_values)\n",
    "plt.plot(x_values,regress_values,\"r-\")\n",
    "plt.annotate(line_eq,(0,50),fontsize=15,color=\"red\")\n",
    "\n",
    "plt.title(\"Southern Hemisphere - Wind Speed(mph) vs. Latitude (6/20/20)\")\n",
    "plt.xlabel('Latitude')\n",
    "plt.ylabel('Wind Speed')\n",
    "plt.savefig(\"../output_data/LatitudevsWindSouth.png\")\n",
    "plt.show()"
   ]
  },
  {
   "cell_type": "code",
   "execution_count": 37,
   "metadata": {},
   "outputs": [
    {
     "name": "stdout",
     "output_type": "stream",
     "text": [
      "The r value is: -0.10969022419565634\n",
      "The r-squared is: 0.012031945284093352\n",
      "There is a Weak Negative Strength of Correlation between Wind Speed and Latitude in the Southern Hemisphere\n"
     ]
    }
   ],
   "source": [
    "print(f\"The r value is: {rvalue}\")\n",
    "print(f\"The r-squared is: {rvalue**2}\")\n",
    "\n",
    "print(\"There is a Weak Negative Strength of Correlation between Wind Speed and Latitude in the Southern Hemisphere\")"
   ]
  },
  {
   "cell_type": "code",
   "execution_count": null,
   "metadata": {},
   "outputs": [],
   "source": []
  }
 ],
 "metadata": {
  "anaconda-cloud": {},
  "kernel_info": {
   "name": "python3"
  },
  "kernelspec": {
   "display_name": "Python 3",
   "language": "python",
   "name": "python3"
  },
  "language_info": {
   "codemirror_mode": {
    "name": "ipython",
    "version": 3
   },
   "file_extension": ".py",
   "mimetype": "text/x-python",
   "name": "python",
   "nbconvert_exporter": "python",
   "pygments_lexer": "ipython3",
   "version": "3.7.7"
  },
  "latex_envs": {
   "LaTeX_envs_menu_present": true,
   "autoclose": false,
   "autocomplete": true,
   "bibliofile": "biblio.bib",
   "cite_by": "apalike",
   "current_citInitial": 1,
   "eqLabelWithNumbers": true,
   "eqNumInitial": 1,
   "hotkeys": {
    "equation": "Ctrl-E",
    "itemize": "Ctrl-I"
   },
   "labels_anchors": false,
   "latex_user_defs": false,
   "report_style_numbering": false,
   "user_envs_cfg": false
  },
  "nteract": {
   "version": "0.12.3"
  }
 },
 "nbformat": 4,
 "nbformat_minor": 2
}
