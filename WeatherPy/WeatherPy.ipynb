{
 "cells": [
  {
   "cell_type": "markdown",
   "metadata": {},
   "source": [
    "# WeatherPy\n",
    "----\n",
    "\n",
    "#### Note\n",
    "* Instructions have been included for each segment. You do not have to follow them exactly, but they are included to help you think through the steps."
   ]
  },
  {
   "cell_type": "code",
   "execution_count": 16,
   "metadata": {
    "scrolled": true
   },
   "outputs": [],
   "source": [
    "# Dependencies and Setup\n",
    "import matplotlib.pyplot as plt\n",
    "import pandas as pd\n",
    "import numpy as np\n",
    "import requests\n",
    "import time\n",
    "from scipy.stats import linregress\n",
    "import json\n",
    "import os\n",
    "import csv\n",
    "from scipy import stats\n",
    "\n",
    "# Import API key\n",
    "from config import weather_key\n",
    "\n",
    "# Incorporated citipy to determine city based on latitude and longitude\n",
    "from citipy import citipy\n",
    "\n",
    "# Range of latitudes and longitudes\n",
    "lat_range = (-90, 90)\n",
    "lng_range = (-180, 180)"
   ]
  },
  {
   "cell_type": "markdown",
   "metadata": {},
   "source": [
    "## Generate Cities List"
   ]
  },
  {
   "cell_type": "code",
   "execution_count": 17,
   "metadata": {},
   "outputs": [
    {
     "data": {
      "text/plain": [
       "641"
      ]
     },
     "execution_count": 17,
     "metadata": {},
     "output_type": "execute_result"
    }
   ],
   "source": [
    "# List for holding lat_lngs and cities\n",
    "lat_lngs = []\n",
    "cities = []\n",
    "\n",
    "# Create a set of random lat and lng combinations\n",
    "lats = np.random.uniform(lat_range[0], lat_range[1], size=1500)\n",
    "lngs = np.random.uniform(lng_range[0], lng_range[1], size=1500)\n",
    "lat_lngs = zip(lats, lngs)\n",
    "\n",
    "# Identify nearest city for each lat, lng combination\n",
    "for lat_lng in lat_lngs:\n",
    "    city = citipy.nearest_city(lat_lng[0], lat_lng[1]).city_name\n",
    "    \n",
    "    # If the city is unique, then add it to a our cities list\n",
    "    if city not in cities:\n",
    "        cities.append(city)\n",
    "\n",
    "# Print the city count to confirm sufficient count\n",
    "len(cities)\n"
   ]
  },
  {
   "cell_type": "markdown",
   "metadata": {},
   "source": [
    "### Perform API Calls\n",
    "* Perform a weather check on each city using a series of successive API calls.\n",
    "* Include a print log of each city as it'sbeing processed (with the city number and city name).\n"
   ]
  },
  {
   "cell_type": "code",
   "execution_count": 18,
   "metadata": {},
   "outputs": [
    {
     "name": "stdout",
     "output_type": "stream",
     "text": [
      "Processing Record: 0 for ID: busselton\n",
      "Processing Record: 1 for ID: taolanaro\n",
      "Processing Record: 2 for ID: amahai\n",
      "Processing Record: 3 for ID: east london\n",
      "Processing Record: 4 for ID: mataura\n",
      "Processing Record: 5 for ID: teknaf\n",
      "Processing Record: 6 for ID: ushuaia\n",
      "Processing Record: 7 for ID: fairbanks\n",
      "Processing Record: 8 for ID: flin flon\n",
      "Processing Record: 9 for ID: ballitoville\n",
      "Processing Record: 10 for ID: atuona\n",
      "Processing Record: 11 for ID: zhob\n",
      "Processing Record: 12 for ID: misratah\n",
      "Processing Record: 13 for ID: ugoofaaru\n",
      "Processing Record: 14 for ID: rikitea\n",
      "Processing Record: 15 for ID: thompson\n",
      "Processing Record: 16 for ID: olafsvik\n",
      "Processing Record: 17 for ID: maragogi\n",
      "Processing Record: 18 for ID: pampa\n",
      "Processing Record: 19 for ID: puerto ayora\n",
      "Processing Record: 20 for ID: nola\n",
      "Processing Record: 21 for ID: bubaque\n",
      "Processing Record: 22 for ID: codrington\n",
      "Processing Record: 23 for ID: belmonte\n",
      "Processing Record: 24 for ID: saint george\n",
      "Processing Record: 25 for ID: torbat-e jam\n",
      "Processing Record: 26 for ID: mahasamund\n",
      "Processing Record: 27 for ID: smoky lake\n",
      "Processing Record: 28 for ID: mount isa\n",
      "Processing Record: 29 for ID: guerrero negro\n",
      "Processing Record: 30 for ID: vaini\n",
      "Processing Record: 31 for ID: albany\n",
      "Processing Record: 32 for ID: barrow\n",
      "Processing Record: 33 for ID: grindavik\n",
      "Processing Record: 34 for ID: punta arenas\n",
      "Processing Record: 35 for ID: pevek\n",
      "Processing Record: 36 for ID: nanortalik\n",
      "Processing Record: 37 for ID: coquimbo\n",
      "Processing Record: 38 for ID: grand baie\n",
      "Processing Record: 39 for ID: labutta\n",
      "Processing Record: 40 for ID: amderma\n",
      "Processing Record: 41 for ID: san-pedro\n",
      "Processing Record: 42 for ID: attawapiskat\n",
      "Processing Record: 43 for ID: upernavik\n",
      "Processing Record: 44 for ID: auki\n",
      "Processing Record: 45 for ID: port hardy\n",
      "Processing Record: 46 for ID: vallentuna\n",
      "Processing Record: 47 for ID: arman\n",
      "Processing Record: 48 for ID: aflu\n",
      "Processing Record: 49 for ID: varkaus\n",
      "Processing Record: 50 for ID: rawson\n",
      "Processing Record: 51 for ID: leningradskiy\n",
      "Processing Record: 52 for ID: hobyo\n",
      "Processing Record: 53 for ID: chokurdakh\n",
      "Processing Record: 54 for ID: puerto baquerizo moreno\n",
      "Processing Record: 55 for ID: bibiani\n",
      "Processing Record: 56 for ID: khatanga\n",
      "Processing Record: 57 for ID: channel-port aux basques\n",
      "Processing Record: 58 for ID: yellowknife\n",
      "Processing Record: 59 for ID: kalaiya\n",
      "Processing Record: 60 for ID: jamestown\n",
      "Processing Record: 61 for ID: west plains\n",
      "Processing Record: 62 for ID: hasaki\n",
      "Processing Record: 63 for ID: noumea\n",
      "Processing Record: 64 for ID: zhuanghe\n",
      "Processing Record: 65 for ID: new norfolk\n",
      "Processing Record: 66 for ID: bambous virieux\n",
      "Processing Record: 67 for ID: san patricio\n",
      "Processing Record: 68 for ID: port elizabeth\n",
      "Processing Record: 69 for ID: omboue\n",
      "Processing Record: 70 for ID: aklavik\n",
      "Processing Record: 71 for ID: saskylakh\n",
      "Processing Record: 72 for ID: tuktoyaktuk\n",
      "Processing Record: 73 for ID: port augusta\n",
      "Processing Record: 74 for ID: longyearbyen\n",
      "Processing Record: 75 for ID: amalapuram\n",
      "Processing Record: 76 for ID: bengkulu\n",
      "Processing Record: 77 for ID: north bend\n",
      "Processing Record: 78 for ID: atlantic beach\n",
      "Processing Record: 79 for ID: aksu\n",
      "Processing Record: 80 for ID: hatta\n",
      "Processing Record: 81 for ID: bardiyah\n",
      "Processing Record: 82 for ID: barentsburg\n",
      "Processing Record: 83 for ID: huangmei\n",
      "Processing Record: 84 for ID: saint-philippe\n",
      "Processing Record: 85 for ID: nedjo\n",
      "Processing Record: 86 for ID: carnarvon\n",
      "Processing Record: 87 for ID: geraldton\n",
      "Processing Record: 88 for ID: maneadero\n",
      "Processing Record: 89 for ID: chuy\n",
      "Processing Record: 90 for ID: samarai\n",
      "Processing Record: 91 for ID: milkovo\n",
      "Processing Record: 92 for ID: trujillo\n",
      "Processing Record: 93 for ID: havre-saint-pierre\n",
      "Processing Record: 94 for ID: bredasdorp\n",
      "Processing Record: 95 for ID: victor harbor\n",
      "Processing Record: 96 for ID: tiksi\n",
      "Processing Record: 97 for ID: avarua\n",
      "Processing Record: 98 for ID: hobart\n",
      "Processing Record: 99 for ID: sur\n",
      "Processing Record: 100 for ID: praia\n",
      "Processing Record: 101 for ID: buchanan\n",
      "Processing Record: 102 for ID: fortuna\n",
      "Processing Record: 103 for ID: vetluga\n",
      "Processing Record: 104 for ID: luderitz\n",
      "Processing Record: 105 for ID: kafanchan\n",
      "Processing Record: 106 for ID: khandyga\n",
      "Processing Record: 107 for ID: castro\n",
      "Processing Record: 108 for ID: tumannyy\n",
      "Processing Record: 109 for ID: dabola\n",
      "Processing Record: 110 for ID: port hueneme\n",
      "Processing Record: 111 for ID: kahului\n",
      "Processing Record: 112 for ID: safford\n",
      "Processing Record: 113 for ID: mayo\n",
      "Processing Record: 114 for ID: ola\n",
      "Processing Record: 115 for ID: lakatoro\n",
      "Processing Record: 116 for ID: victoria\n",
      "Processing Record: 117 for ID: ostrovnoy\n",
      "Processing Record: 118 for ID: kirkwall\n",
      "Processing Record: 119 for ID: jiddah\n",
      "Processing Record: 120 for ID: benghazi\n",
      "Processing Record: 121 for ID: alamosa\n",
      "Processing Record: 122 for ID: ribeira grande\n",
      "Processing Record: 123 for ID: port alfred\n",
      "Processing Record: 124 for ID: butaritari\n",
      "Processing Record: 125 for ID: tuatapere\n",
      "Processing Record: 126 for ID: kindu\n",
      "Processing Record: 127 for ID: cidreira\n",
      "Processing Record: 128 for ID: moose factory\n",
      "Processing Record: 129 for ID: rincon\n",
      "Processing Record: 130 for ID: bluff\n",
      "Processing Record: 131 for ID: iqaluit\n",
      "Processing Record: 132 for ID: laizhou\n",
      "Processing Record: 133 for ID: sataua\n",
      "Processing Record: 134 for ID: saldanha\n",
      "Processing Record: 135 for ID: hofn\n",
      "Processing Record: 136 for ID: bethel\n",
      "Processing Record: 137 for ID: kampong thum\n",
      "Processing Record: 138 for ID: pangody\n",
      "Processing Record: 139 for ID: krasnoselkup\n",
      "Processing Record: 140 for ID: tshikapa\n",
      "Processing Record: 141 for ID: hilo\n",
      "Processing Record: 142 for ID: mezen\n",
      "Processing Record: 143 for ID: oranjestad\n",
      "Processing Record: 144 for ID: dikson\n",
      "Processing Record: 145 for ID: georgetown\n",
      "Processing Record: 146 for ID: arraial do cabo\n",
      "Processing Record: 147 for ID: quatre cocos\n",
      "Processing Record: 148 for ID: kristiinankaupunki\n",
      "Processing Record: 149 for ID: isangel\n",
      "Processing Record: 150 for ID: tessalit\n",
      "Processing Record: 151 for ID: alekseyevsk\n",
      "Processing Record: 152 for ID: illoqqortoormiut\n",
      "Processing Record: 153 for ID: hermanus\n",
      "Processing Record: 154 for ID: sarahan\n",
      "Processing Record: 155 for ID: jinchengjiang\n",
      "Processing Record: 156 for ID: klaksvik\n",
      "Processing Record: 157 for ID: kingsville\n",
      "Processing Record: 158 for ID: barao de melgaco\n",
      "Processing Record: 159 for ID: kamina\n",
      "Processing Record: 160 for ID: maua\n",
      "Processing Record: 161 for ID: botwood\n",
      "Processing Record: 162 for ID: abnub\n",
      "Processing Record: 163 for ID: naze\n",
      "Processing Record: 164 for ID: tevaitoa\n",
      "Processing Record: 165 for ID: nome\n",
      "Processing Record: 166 for ID: nikolskoye\n",
      "Processing Record: 167 for ID: cherskiy\n",
      "Processing Record: 168 for ID: bilma\n",
      "Processing Record: 169 for ID: mys shmidta\n",
      "Processing Record: 170 for ID: qaanaaq\n",
      "Processing Record: 171 for ID: shimoda\n",
      "Processing Record: 172 for ID: kodiak\n",
      "Processing Record: 173 for ID: adrar\n",
      "Processing Record: 174 for ID: taganak\n",
      "Processing Record: 175 for ID: sao filipe\n",
      "Processing Record: 176 for ID: culebra\n",
      "Processing Record: 177 for ID: ancud\n",
      "Processing Record: 178 for ID: jiayuguan\n",
      "Processing Record: 179 for ID: kempele\n",
      "Processing Record: 180 for ID: oyama\n",
      "Processing Record: 181 for ID: chumikan\n",
      "Processing Record: 182 for ID: umzimvubu\n",
      "Processing Record: 183 for ID: bintulu\n",
      "Processing Record: 184 for ID: yar-sale\n",
      "Processing Record: 185 for ID: ambilobe\n",
      "Processing Record: 186 for ID: kachiry\n",
      "Processing Record: 187 for ID: walvis bay\n",
      "Processing Record: 188 for ID: hamilton\n",
      "Processing Record: 189 for ID: takoradi\n",
      "Processing Record: 190 for ID: nouakchott\n",
      "Processing Record: 191 for ID: cape town\n",
      "Processing Record: 192 for ID: rosa zarate\n",
      "Processing Record: 193 for ID: norman wells\n",
      "Processing Record: 194 for ID: haines junction\n",
      "Processing Record: 195 for ID: saleaula\n",
      "Processing Record: 196 for ID: sozimskiy\n",
      "Processing Record: 197 for ID: celestun\n",
      "Processing Record: 198 for ID: ushirombo\n",
      "Processing Record: 199 for ID: vrede\n",
      "Processing Record: 200 for ID: weiser\n",
      "Processing Record: 201 for ID: belushya guba\n",
      "Processing Record: 202 for ID: bandarbeyla\n",
      "Processing Record: 203 for ID: eureka\n",
      "Processing Record: 204 for ID: kurilsk\n"
     ]
    },
    {
     "name": "stdout",
     "output_type": "stream",
     "text": [
      "Processing Record: 205 for ID: hithadhoo\n",
      "Processing Record: 206 for ID: lebu\n",
      "Processing Record: 207 for ID: lolua\n",
      "Processing Record: 208 for ID: sobolevo\n",
      "Processing Record: 209 for ID: preobrazheniye\n",
      "Processing Record: 210 for ID: laguna\n",
      "Processing Record: 211 for ID: kapaa\n",
      "Processing Record: 212 for ID: ilulissat\n",
      "Processing Record: 213 for ID: torbay\n",
      "Processing Record: 214 for ID: vaitupu\n",
      "Processing Record: 215 for ID: hatsukaichi\n",
      "Processing Record: 216 for ID: gonen\n",
      "Processing Record: 217 for ID: qaqortoq\n",
      "Processing Record: 218 for ID: slave lake\n",
      "Processing Record: 219 for ID: eyl\n",
      "Processing Record: 220 for ID: qianan\n",
      "Processing Record: 221 for ID: ucluelet\n",
      "Processing Record: 222 for ID: krutinka\n",
      "Processing Record: 223 for ID: sentyabrskiy\n",
      "Processing Record: 224 for ID: kruisfontein\n",
      "Processing Record: 225 for ID: lorengau\n",
      "Processing Record: 226 for ID: madera\n",
      "Processing Record: 227 for ID: moosomin\n",
      "Processing Record: 228 for ID: cabo san lucas\n",
      "Processing Record: 229 for ID: souillac\n",
      "Processing Record: 230 for ID: pilar\n",
      "Processing Record: 231 for ID: alofi\n",
      "Processing Record: 232 for ID: beringovskiy\n",
      "Processing Record: 233 for ID: maykain\n",
      "Processing Record: 234 for ID: la asuncion\n",
      "Processing Record: 235 for ID: grand river south east\n",
      "Processing Record: 236 for ID: hualmay\n",
      "Processing Record: 237 for ID: tomatlan\n",
      "Processing Record: 238 for ID: kano\n",
      "Processing Record: 239 for ID: kabanjahe\n",
      "Processing Record: 240 for ID: evensk\n",
      "Processing Record: 241 for ID: tabiauea\n",
      "Processing Record: 242 for ID: bonnyville\n",
      "Processing Record: 243 for ID: kysyl-syr\n",
      "Processing Record: 244 for ID: nizhneyansk\n",
      "Processing Record: 245 for ID: iskateley\n",
      "Processing Record: 246 for ID: mocuba\n",
      "Processing Record: 247 for ID: palu\n",
      "Processing Record: 248 for ID: santa rosa\n",
      "Processing Record: 249 for ID: mastic beach\n",
      "Processing Record: 250 for ID: fairhope\n",
      "Processing Record: 251 for ID: mission\n",
      "Processing Record: 252 for ID: muros\n",
      "Processing Record: 253 for ID: lidkoping\n",
      "Processing Record: 254 for ID: stromness\n",
      "Processing Record: 255 for ID: kudahuvadhoo\n",
      "Processing Record: 256 for ID: kalmunai\n",
      "Processing Record: 257 for ID: liku\n",
      "Processing Record: 258 for ID: dharchula\n",
      "Processing Record: 259 for ID: tarudant\n",
      "Processing Record: 260 for ID: dunedin\n",
      "Processing Record: 261 for ID: aksay\n",
      "Processing Record: 262 for ID: nuuk\n",
      "Processing Record: 263 for ID: dushanbe\n",
      "Processing Record: 264 for ID: ambodifototra\n",
      "Processing Record: 265 for ID: beipiao\n",
      "Processing Record: 266 for ID: jalu\n",
      "Processing Record: 267 for ID: akyab\n",
      "Processing Record: 268 for ID: faanui\n",
      "Processing Record: 269 for ID: ostersund\n",
      "Processing Record: 270 for ID: arrecife\n",
      "Processing Record: 271 for ID: the valley\n",
      "Processing Record: 272 for ID: reconquista\n",
      "Processing Record: 273 for ID: kupang\n",
      "Processing Record: 274 for ID: clyde river\n",
      "Processing Record: 275 for ID: angoche\n",
      "Processing Record: 276 for ID: bara\n",
      "Processing Record: 277 for ID: codajas\n",
      "Processing Record: 278 for ID: marsh harbour\n",
      "Processing Record: 279 for ID: pisco\n",
      "Processing Record: 280 for ID: tautira\n",
      "Processing Record: 281 for ID: anloga\n",
      "Processing Record: 282 for ID: nouadhibou\n",
      "Processing Record: 283 for ID: edd\n",
      "Processing Record: 284 for ID: havelock\n",
      "Processing Record: 285 for ID: utiroa\n",
      "Processing Record: 286 for ID: zyryanka\n",
      "Processing Record: 287 for ID: nioro\n",
      "Processing Record: 288 for ID: bend\n",
      "Processing Record: 289 for ID: tilichiki\n",
      "Processing Record: 290 for ID: tsihombe\n",
      "Processing Record: 291 for ID: biograd na moru\n",
      "Processing Record: 292 for ID: mpongwe\n",
      "Processing Record: 293 for ID: sorong\n",
      "Processing Record: 294 for ID: taoudenni\n",
      "Processing Record: 295 for ID: lamu\n",
      "Processing Record: 296 for ID: sao joao da barra\n",
      "Processing Record: 297 for ID: tavda\n",
      "Processing Record: 298 for ID: barranca\n",
      "Processing Record: 299 for ID: shkotovo-26\n",
      "Processing Record: 300 for ID: praia da vitoria\n",
      "Processing Record: 301 for ID: esso\n",
      "Processing Record: 302 for ID: gambiran\n",
      "Processing Record: 303 for ID: katsuura\n",
      "Processing Record: 304 for ID: fatwa\n",
      "Processing Record: 305 for ID: san jose de guanipa\n",
      "Processing Record: 306 for ID: pacific grove\n",
      "Processing Record: 307 for ID: mlowo\n",
      "Processing Record: 308 for ID: ternate\n",
      "Processing Record: 309 for ID: kainantu\n",
      "Processing Record: 310 for ID: deputatskiy\n",
      "Processing Record: 311 for ID: khandagayty\n",
      "Processing Record: 312 for ID: srednekolymsk\n",
      "Processing Record: 313 for ID: khanpur\n",
      "Processing Record: 314 for ID: sayyan\n",
      "Processing Record: 315 for ID: aykhal\n",
      "Processing Record: 316 for ID: avera\n",
      "Processing Record: 317 for ID: trairi\n",
      "Processing Record: 318 for ID: vershino-shakhtaminskiy\n",
      "Processing Record: 319 for ID: severo-kurilsk\n",
      "Processing Record: 320 for ID: arroyo\n",
      "Processing Record: 321 for ID: north branch\n",
      "Processing Record: 322 for ID: turka\n",
      "Processing Record: 323 for ID: mar del plata\n",
      "Processing Record: 324 for ID: novopokrovka\n",
      "Processing Record: 325 for ID: namibe\n",
      "Processing Record: 326 for ID: los llanos de aridane\n",
      "Processing Record: 327 for ID: praya\n",
      "Processing Record: 328 for ID: cisaat\n",
      "Processing Record: 329 for ID: provideniya\n",
      "Processing Record: 330 for ID: saint-francois\n",
      "Processing Record: 331 for ID: penzance\n",
      "Processing Record: 332 for ID: tyrma\n",
      "Processing Record: 333 for ID: kerema\n",
      "Processing Record: 334 for ID: wabag\n",
      "Processing Record: 335 for ID: forbes\n",
      "Processing Record: 336 for ID: drayton valley\n",
      "Processing Record: 337 for ID: waddan\n",
      "Processing Record: 338 for ID: sidrolandia\n",
      "Processing Record: 339 for ID: beaver dam\n",
      "Processing Record: 340 for ID: sorvag\n",
      "Processing Record: 341 for ID: derzhavinsk\n",
      "Processing Record: 342 for ID: kloulklubed\n",
      "Processing Record: 343 for ID: college\n",
      "Processing Record: 344 for ID: huarmey\n",
      "Processing Record: 345 for ID: emmett\n",
      "Processing Record: 346 for ID: nabire\n",
      "Processing Record: 347 for ID: palabuhanratu\n",
      "Processing Record: 348 for ID: farmington\n",
      "Processing Record: 349 for ID: kitgum\n",
      "Processing Record: 350 for ID: hambantota\n",
      "Processing Record: 351 for ID: kostyantynivka\n",
      "Processing Record: 352 for ID: alice springs\n",
      "Processing Record: 353 for ID: lalmohan\n",
      "Processing Record: 354 for ID: inta\n",
      "Processing Record: 355 for ID: moroni\n",
      "Processing Record: 356 for ID: podor\n",
      "Processing Record: 357 for ID: mogadishu\n",
      "Processing Record: 358 for ID: belaya gora\n",
      "Processing Record: 359 for ID: la esperanza\n",
      "Processing Record: 360 for ID: cap-aux-meules\n",
      "Processing Record: 361 for ID: doha\n",
      "Processing Record: 362 for ID: padang\n",
      "Processing Record: 363 for ID: buraydah\n",
      "Processing Record: 364 for ID: ciudad bolivar\n",
      "Processing Record: 365 for ID: nelson bay\n",
      "Processing Record: 366 for ID: talnakh\n",
      "Processing Record: 367 for ID: grand gaube\n",
      "Processing Record: 368 for ID: kasongo-lunda\n",
      "Processing Record: 369 for ID: puerto escondido\n",
      "Processing Record: 370 for ID: marystown\n",
      "Processing Record: 371 for ID: sinnamary\n",
      "Processing Record: 372 for ID: bur gabo\n",
      "Processing Record: 373 for ID: jibuti\n",
      "Processing Record: 374 for ID: de aar\n",
      "Processing Record: 375 for ID: faya\n",
      "Processing Record: 376 for ID: san quintin\n",
      "Processing Record: 377 for ID: senador guiomard\n",
      "Processing Record: 378 for ID: ponta do sol\n",
      "Processing Record: 379 for ID: smithers\n",
      "Processing Record: 380 for ID: yeniseysk\n",
      "Processing Record: 381 for ID: samusu\n",
      "Processing Record: 382 for ID: humboldt\n",
      "Processing Record: 383 for ID: ahipara\n",
      "Processing Record: 384 for ID: dingle\n",
      "Processing Record: 385 for ID: port blair\n",
      "Processing Record: 386 for ID: simao\n",
      "Processing Record: 387 for ID: labuhan\n",
      "Processing Record: 388 for ID: tasiilaq\n",
      "Processing Record: 389 for ID: benjamin hill\n",
      "Processing Record: 390 for ID: ilukste\n",
      "Processing Record: 391 for ID: santa maria\n",
      "Processing Record: 392 for ID: port lincoln\n",
      "Processing Record: 393 for ID: necochea\n",
      "Processing Record: 394 for ID: kirakira\n",
      "Processing Record: 395 for ID: qixia\n",
      "Processing Record: 396 for ID: pokosnoye\n",
      "Processing Record: 397 for ID: mancio lima\n",
      "Processing Record: 398 for ID: poum\n",
      "Processing Record: 399 for ID: tabou\n",
      "Processing Record: 400 for ID: umm lajj\n",
      "Processing Record: 401 for ID: salinas\n",
      "Processing Record: 402 for ID: along\n",
      "Processing Record: 403 for ID: touros\n",
      "Processing Record: 404 for ID: srivardhan\n",
      "Processing Record: 405 for ID: bay city\n",
      "Processing Record: 406 for ID: dzhebariki-khaya\n",
      "Processing Record: 407 for ID: shubarkuduk\n"
     ]
    },
    {
     "name": "stdout",
     "output_type": "stream",
     "text": [
      "Processing Record: 408 for ID: paragould\n",
      "Processing Record: 409 for ID: tombouctou\n",
      "Processing Record: 410 for ID: wanning\n",
      "Processing Record: 411 for ID: rungata\n",
      "Processing Record: 412 for ID: thano bula khan\n",
      "Processing Record: 413 for ID: saint-pierre\n",
      "Processing Record: 414 for ID: cameta\n",
      "Processing Record: 415 for ID: te anau\n",
      "Processing Record: 416 for ID: bonthe\n",
      "Processing Record: 417 for ID: flinders\n",
      "Processing Record: 418 for ID: haibowan\n",
      "Processing Record: 419 for ID: guarapari\n",
      "Processing Record: 420 for ID: northam\n",
      "Processing Record: 421 for ID: richards bay\n",
      "Processing Record: 422 for ID: prado\n",
      "Processing Record: 423 for ID: chapayeve\n",
      "Processing Record: 424 for ID: skjervoy\n",
      "Processing Record: 425 for ID: vila franca do campo\n",
      "Processing Record: 426 for ID: esperance\n",
      "Processing Record: 427 for ID: constitucion\n",
      "Processing Record: 428 for ID: toliary\n",
      "Processing Record: 429 for ID: tezu\n",
      "Processing Record: 430 for ID: kaspiyskiy\n",
      "Processing Record: 431 for ID: vila velha\n",
      "Processing Record: 432 for ID: egvekinot\n",
      "Processing Record: 433 for ID: svetlaya\n",
      "Processing Record: 434 for ID: teya\n",
      "Processing Record: 435 for ID: okhotsk\n",
      "Processing Record: 436 for ID: progreso\n",
      "Processing Record: 437 for ID: bousso\n",
      "Processing Record: 438 for ID: nuevo casas grandes\n",
      "Processing Record: 439 for ID: comodoro rivadavia\n",
      "Processing Record: 440 for ID: sibolga\n",
      "Processing Record: 441 for ID: mitsamiouli\n",
      "Processing Record: 442 for ID: werda\n",
      "Processing Record: 443 for ID: puerto madero\n",
      "Processing Record: 444 for ID: wetaskiwin\n",
      "Processing Record: 445 for ID: akdepe\n",
      "Processing Record: 446 for ID: saint-joseph\n",
      "Processing Record: 447 for ID: turukhansk\n",
      "Processing Record: 448 for ID: palauig\n",
      "Processing Record: 449 for ID: dubbo\n",
      "Processing Record: 450 for ID: san luis\n",
      "Processing Record: 451 for ID: roald\n",
      "Processing Record: 452 for ID: abu kamal\n",
      "Processing Record: 453 for ID: gigmoto\n",
      "Processing Record: 454 for ID: vardo\n",
      "Processing Record: 455 for ID: ambulu\n",
      "Processing Record: 456 for ID: tabuk\n",
      "Processing Record: 457 for ID: wagar\n",
      "Processing Record: 458 for ID: petropavlovsk-kamchatskiy\n",
      "Processing Record: 459 for ID: darhan\n",
      "Processing Record: 460 for ID: treinta y tres\n",
      "Processing Record: 461 for ID: sembe\n",
      "Processing Record: 462 for ID: elk city\n",
      "Processing Record: 463 for ID: abu jubayhah\n",
      "Processing Record: 464 for ID: vestmannaeyjar\n",
      "Processing Record: 465 for ID: berzovia\n",
      "Processing Record: 466 for ID: chany\n",
      "Processing Record: 467 for ID: lufilufi\n",
      "Processing Record: 468 for ID: guangyuan\n",
      "Processing Record: 469 for ID: odessa\n",
      "Processing Record: 470 for ID: marzuq\n",
      "Processing Record: 471 for ID: kaitangata\n",
      "Processing Record: 472 for ID: salemi\n",
      "Processing Record: 473 for ID: mana\n",
      "Processing Record: 474 for ID: ippy\n",
      "Processing Record: 475 for ID: hami\n",
      "Processing Record: 476 for ID: gongzhuling\n",
      "Processing Record: 477 for ID: namatanai\n",
      "Processing Record: 478 for ID: nokaneng\n",
      "Processing Record: 479 for ID: soyo\n",
      "Processing Record: 480 for ID: mahebourg\n",
      "Processing Record: 481 for ID: pittsburg\n",
      "Processing Record: 482 for ID: waipawa\n",
      "Processing Record: 483 for ID: acapulco\n",
      "Processing Record: 484 for ID: taltal\n",
      "Processing Record: 485 for ID: oksfjord\n",
      "Processing Record: 486 for ID: kashi\n",
      "Processing Record: 487 for ID: atar\n",
      "Processing Record: 488 for ID: pombas\n",
      "Processing Record: 489 for ID: daru\n",
      "Processing Record: 490 for ID: maloy\n",
      "Processing Record: 491 for ID: lundazi\n",
      "Processing Record: 492 for ID: taguatinga\n",
      "Processing Record: 493 for ID: hvide sande\n",
      "Processing Record: 494 for ID: lata\n",
      "Processing Record: 495 for ID: malpe\n",
      "Processing Record: 496 for ID: sitka\n",
      "Processing Record: 497 for ID: nauta\n",
      "Processing Record: 498 for ID: zaozerne\n",
      "Processing Record: 499 for ID: hovd\n",
      "Processing Record: 500 for ID: kolokani\n",
      "Processing Record: 501 for ID: sivas\n",
      "Processing Record: 502 for ID: kaduy\n",
      "Processing Record: 503 for ID: jatiroto\n",
      "Processing Record: 504 for ID: cayenne\n",
      "Processing Record: 505 for ID: iquitos\n",
      "Processing Record: 506 for ID: acarau\n",
      "Processing Record: 507 for ID: hervey bay\n",
      "Processing Record: 508 for ID: makakilo city\n",
      "Processing Record: 509 for ID: kontagora\n",
      "Processing Record: 510 for ID: konstantinovka\n",
      "Processing Record: 511 for ID: kisangani\n",
      "Processing Record: 512 for ID: yulara\n",
      "Processing Record: 513 for ID: dandong\n",
      "Processing Record: 514 for ID: henties bay\n",
      "Processing Record: 515 for ID: pochutla\n",
      "Processing Record: 516 for ID: aksarka\n",
      "Processing Record: 517 for ID: margate\n",
      "Processing Record: 518 for ID: iralaya\n",
      "Processing Record: 519 for ID: litovko\n",
      "Processing Record: 520 for ID: hibbing\n",
      "Processing Record: 521 for ID: kasane\n",
      "Processing Record: 522 for ID: topeka\n",
      "Processing Record: 523 for ID: atkinson\n",
      "Processing Record: 524 for ID: mimongo\n",
      "Processing Record: 525 for ID: chulym\n",
      "Processing Record: 526 for ID: harper\n",
      "Processing Record: 527 for ID: svetlogorsk\n",
      "Processing Record: 528 for ID: gubkin\n",
      "Processing Record: 529 for ID: bud\n",
      "Processing Record: 530 for ID: fez\n",
      "Processing Record: 531 for ID: bagdarin\n",
      "Processing Record: 532 for ID: balta alba\n",
      "Processing Record: 533 for ID: marawi\n",
      "Processing Record: 534 for ID: camacha\n",
      "Processing Record: 535 for ID: mexico\n",
      "Processing Record: 536 for ID: urumqi\n",
      "Processing Record: 537 for ID: yalta\n",
      "Processing Record: 538 for ID: sallins\n",
      "Processing Record: 539 for ID: hun\n",
      "Processing Record: 540 for ID: colares\n",
      "Processing Record: 541 for ID: biak\n",
      "Processing Record: 542 for ID: mahibadhoo\n",
      "Processing Record: 543 for ID: kamenka\n",
      "Processing Record: 544 for ID: batemans bay\n",
      "Processing Record: 545 for ID: yanchukan\n",
      "Processing Record: 546 for ID: neuquen\n",
      "Processing Record: 547 for ID: karratha\n",
      "Processing Record: 548 for ID: uvat\n",
      "Processing Record: 549 for ID: russellville\n",
      "Processing Record: 550 for ID: alta floresta\n",
      "Processing Record: 551 for ID: strezhevoy\n",
      "Processing Record: 552 for ID: porto belo\n",
      "Processing Record: 553 for ID: artigas\n",
      "Processing Record: 554 for ID: tasbuget\n",
      "Processing Record: 555 for ID: half moon bay\n",
      "Processing Record: 556 for ID: kihei\n",
      "Processing Record: 557 for ID: horsham\n",
      "Processing Record: 558 for ID: ljungby\n",
      "Processing Record: 559 for ID: bandundu\n",
      "Processing Record: 560 for ID: guiratinga\n",
      "Processing Record: 561 for ID: louisbourg\n",
      "Processing Record: 562 for ID: mangrol\n",
      "Processing Record: 563 for ID: dalby\n",
      "Processing Record: 564 for ID: yeppoon\n",
      "Processing Record: 565 for ID: birao\n",
      "Processing Record: 566 for ID: piacabucu\n",
      "Processing Record: 567 for ID: chicama\n",
      "Processing Record: 568 for ID: dongsheng\n",
      "Processing Record: 569 for ID: zvishavane\n",
      "Processing Record: 570 for ID: sinkat\n",
      "Processing Record: 571 for ID: riyadh\n",
      "Processing Record: 572 for ID: yantal\n",
      "Processing Record: 573 for ID: lagoa\n",
      "Processing Record: 574 for ID: taybad\n",
      "Processing Record: 575 for ID: kishtwar\n",
      "Processing Record: 576 for ID: bilgoraj\n",
      "Processing Record: 577 for ID: lavrentiya\n",
      "Processing Record: 578 for ID: koutiala\n",
      "Processing Record: 579 for ID: tres arroyos\n",
      "Processing Record: 580 for ID: port hedland\n",
      "Processing Record: 581 for ID: lazaro cardenas\n",
      "Processing Record: 582 for ID: airai\n",
      "Processing Record: 583 for ID: sattahip\n",
      "Processing Record: 584 for ID: ouesso\n",
      "Processing Record: 585 for ID: viligili\n",
      "Processing Record: 586 for ID: oussouye\n",
      "Processing Record: 587 for ID: barawe\n",
      "Processing Record: 588 for ID: meulaboh\n",
      "Processing Record: 589 for ID: high level\n",
      "Processing Record: 590 for ID: tiznit\n",
      "Processing Record: 591 for ID: paamiut\n",
      "Processing Record: 592 for ID: ishim\n",
      "Processing Record: 593 for ID: ust-kuyga\n",
      "Processing Record: 594 for ID: rio gallegos\n",
      "Processing Record: 595 for ID: caruray\n",
      "Processing Record: 596 for ID: dakar\n",
      "Processing Record: 597 for ID: vievis\n",
      "Processing Record: 598 for ID: fare\n",
      "Processing Record: 599 for ID: kavaratti\n",
      "Processing Record: 600 for ID: shelburne\n",
      "Processing Record: 601 for ID: brawley\n",
      "Processing Record: 602 for ID: burnie\n",
      "Processing Record: 603 for ID: blackwater\n",
      "Processing Record: 604 for ID: rio branco\n",
      "Processing Record: 605 for ID: keti bandar\n",
      "Processing Record: 606 for ID: eseka\n",
      "Processing Record: 607 for ID: hailar\n",
      "Processing Record: 608 for ID: brun\n",
      "Processing Record: 609 for ID: matara\n",
      "Processing Record: 610 for ID: turayf\n",
      "Processing Record: 611 for ID: kyrylivka\n",
      "Processing Record: 612 for ID: mutsamudu\n",
      "Processing Record: 613 for ID: deh rawud\n"
     ]
    },
    {
     "name": "stdout",
     "output_type": "stream",
     "text": [
      "Processing Record: 614 for ID: launceston\n",
      "Processing Record: 615 for ID: casablanca\n",
      "Processing Record: 616 for ID: rodrigues alves\n",
      "Processing Record: 617 for ID: ferme-neuve\n",
      "Processing Record: 618 for ID: grand-lahou\n",
      "Processing Record: 619 for ID: kaniama\n",
      "Processing Record: 620 for ID: san jeronimo\n",
      "Processing Record: 621 for ID: chimbote\n",
      "Processing Record: 622 for ID: pedernales\n",
      "Processing Record: 623 for ID: kavieng\n",
      "Processing Record: 624 for ID: donetsk\n",
      "Processing Record: 625 for ID: chaman\n",
      "Processing Record: 626 for ID: raudeberg\n",
      "Processing Record: 627 for ID: asau\n",
      "Processing Record: 628 for ID: pangkalanbuun\n",
      "Processing Record: 629 for ID: acuna\n",
      "Processing Record: 630 for ID: husavik\n",
      "Processing Record: 631 for ID: zhigansk\n",
      "Processing Record: 632 for ID: nishihara\n",
      "Processing Record: 633 for ID: gweta\n",
      "Processing Record: 634 for ID: baghramyan\n",
      "Processing Record: 635 for ID: yinchuan\n",
      "Processing Record: 636 for ID: mount gambier\n",
      "Processing Record: 637 for ID: jan kempdorp\n",
      "Processing Record: 638 for ID: havoysund\n",
      "Processing Record: 639 for ID: rantepao\n",
      "Processing Record: 640 for ID: forio\n"
     ]
    }
   ],
   "source": [
    "# 'http://api.openweathermap.org/data/2.5/weather?appid=194c964e5a1a1183aaa918d387570b66&q=Bujumbura&units=metric'\n",
    "\n",
    "#from config import weather_key\n",
    "\n",
    "# Build URL\n",
    "url = \"http://api.openweathermap.org/data/2.5/weather?appid=\" + weather_key + \"&q=\"\n",
    "\n",
    "# create list\n",
    "responses = []\n",
    "\n",
    "# Make a request for each city\n",
    "for x in range(len(cities)):\n",
    "    print(f\"Processing Record: {x} for ID: {cities[x]}\")\n",
    "\n",
    "    # Get one of the posts\n",
    "    post_response = requests.get(url + str(cities[x]))\n",
    "\n",
    "    # Save post's JSON\n",
    "    responses.append(post_response.json())\n",
    "    \n"
   ]
  },
  {
   "cell_type": "markdown",
   "metadata": {},
   "source": [
    "### Convert Raw Data to DataFrame\n",
    "* Export the city data into a .csv.\n",
    "* Display the DataFrame"
   ]
  },
  {
   "cell_type": "code",
   "execution_count": 19,
   "metadata": {},
   "outputs": [],
   "source": [
    "# Build query URL and request your results in Celsius\n",
    "\n",
    "url = \"http://api.openweathermap.org/data/2.5/weather?appid=\" + weather_key + \"&q=\"\n",
    "units = \"&units=imperial\"\n",
    "\n",
    "# create lists\n",
    "lat = []\n",
    "lng = []\n",
    "max_temp = []\n",
    "hum = []\n",
    "cloud = []\n",
    "wind = []\n",
    "country = []\n",
    "date = []\n",
    "\n",
    "for city in cities:\n",
    "    \n",
    "    # Create search query, make request and store in json\n",
    "    \n",
    "    response = requests.get(url + city + units)\n",
    "    response_json = response.json()\n",
    "    \n",
    "    try:\n",
    "        \n",
    "        lat.append(response_json['coord']['lat'])\n",
    "        lng.append(response_json['coord']['lon'])\n",
    "        max_temp.append(response_json['main']['temp_max'])\n",
    "        hum.append(response_json['main']['humidity'])\n",
    "        cloud.append(response_json['clouds']['all'])\n",
    "        wind.append(response_json['wind']['speed'])\n",
    "        country.append(response_json['sys']['country'])\n",
    "        date.append(response_json['dt'])\n",
    "\n",
    "    except:\n",
    "        # Append null values       \n",
    "        lat.append(None)\n",
    "        lng.append(None)\n",
    "        max_temp.append(None)\n",
    "        hum.append(None)\n",
    "        cloud.append(None)\n",
    "        wind.append(None)\n",
    "        country.append(None)\n",
    "        date.append(None)\n",
    "        \n",
    "# create dataframe\n",
    "city_data = pd.DataFrame({\n",
    "    \"City\": cities,\n",
    "    \"Latitude\": lat,\n",
    "    \"Longitude\": lng,\n",
    "    \"Max_Temp\": max_temp,\n",
    "    \"Humidity\": hum,\n",
    "    \"Cloudy\": cloud,\n",
    "    \"Wind\": wind,\n",
    "    \"Country\": country,\n",
    "    \"Date\": date\n",
    "})\n",
    "\n",
    "# Drop values with NaN and None values.\n",
    "city_data.dropna(inplace = True) \n",
    "\n"
   ]
  },
  {
   "cell_type": "code",
   "execution_count": 20,
   "metadata": {},
   "outputs": [
    {
     "data": {
      "text/html": [
       "<div>\n",
       "<style scoped>\n",
       "    .dataframe tbody tr th:only-of-type {\n",
       "        vertical-align: middle;\n",
       "    }\n",
       "\n",
       "    .dataframe tbody tr th {\n",
       "        vertical-align: top;\n",
       "    }\n",
       "\n",
       "    .dataframe thead th {\n",
       "        text-align: right;\n",
       "    }\n",
       "</style>\n",
       "<table border=\"1\" class=\"dataframe\">\n",
       "  <thead>\n",
       "    <tr style=\"text-align: right;\">\n",
       "      <th></th>\n",
       "      <th>City</th>\n",
       "      <th>Latitude</th>\n",
       "      <th>Longitude</th>\n",
       "      <th>Max_Temp</th>\n",
       "      <th>Humidity</th>\n",
       "      <th>Cloudy</th>\n",
       "      <th>Wind</th>\n",
       "      <th>Country</th>\n",
       "      <th>Date</th>\n",
       "    </tr>\n",
       "  </thead>\n",
       "  <tbody>\n",
       "    <tr>\n",
       "      <th>0</th>\n",
       "      <td>busselton</td>\n",
       "      <td>-33.65</td>\n",
       "      <td>115.33</td>\n",
       "      <td>37.99</td>\n",
       "      <td>98.0</td>\n",
       "      <td>43.0</td>\n",
       "      <td>3.36</td>\n",
       "      <td>AU</td>\n",
       "      <td>1.592521e+09</td>\n",
       "    </tr>\n",
       "    <tr>\n",
       "      <th>2</th>\n",
       "      <td>amahai</td>\n",
       "      <td>-3.33</td>\n",
       "      <td>128.92</td>\n",
       "      <td>82.00</td>\n",
       "      <td>99.0</td>\n",
       "      <td>63.0</td>\n",
       "      <td>3.00</td>\n",
       "      <td>ID</td>\n",
       "      <td>1.592522e+09</td>\n",
       "    </tr>\n",
       "    <tr>\n",
       "      <th>3</th>\n",
       "      <td>east london</td>\n",
       "      <td>-33.02</td>\n",
       "      <td>27.91</td>\n",
       "      <td>62.67</td>\n",
       "      <td>64.0</td>\n",
       "      <td>0.0</td>\n",
       "      <td>12.86</td>\n",
       "      <td>ZA</td>\n",
       "      <td>1.592521e+09</td>\n",
       "    </tr>\n",
       "    <tr>\n",
       "      <th>4</th>\n",
       "      <td>mataura</td>\n",
       "      <td>-46.19</td>\n",
       "      <td>168.86</td>\n",
       "      <td>39.00</td>\n",
       "      <td>83.0</td>\n",
       "      <td>0.0</td>\n",
       "      <td>3.00</td>\n",
       "      <td>NZ</td>\n",
       "      <td>1.592521e+09</td>\n",
       "    </tr>\n",
       "    <tr>\n",
       "      <th>5</th>\n",
       "      <td>teknaf</td>\n",
       "      <td>20.86</td>\n",
       "      <td>92.31</td>\n",
       "      <td>79.03</td>\n",
       "      <td>90.0</td>\n",
       "      <td>100.0</td>\n",
       "      <td>9.06</td>\n",
       "      <td>BD</td>\n",
       "      <td>1.592522e+09</td>\n",
       "    </tr>\n",
       "  </tbody>\n",
       "</table>\n",
       "</div>"
      ],
      "text/plain": [
       "          City  Latitude  Longitude  Max_Temp  Humidity  Cloudy   Wind  \\\n",
       "0    busselton    -33.65     115.33     37.99      98.0    43.0   3.36   \n",
       "2       amahai     -3.33     128.92     82.00      99.0    63.0   3.00   \n",
       "3  east london    -33.02      27.91     62.67      64.0     0.0  12.86   \n",
       "4      mataura    -46.19     168.86     39.00      83.0     0.0   3.00   \n",
       "5       teknaf     20.86      92.31     79.03      90.0   100.0   9.06   \n",
       "\n",
       "  Country          Date  \n",
       "0      AU  1.592521e+09  \n",
       "2      ID  1.592522e+09  \n",
       "3      ZA  1.592521e+09  \n",
       "4      NZ  1.592521e+09  \n",
       "5      BD  1.592522e+09  "
      ]
     },
     "execution_count": 20,
     "metadata": {},
     "output_type": "execute_result"
    }
   ],
   "source": [
    "city_data.head()\n"
   ]
  },
  {
   "cell_type": "code",
   "execution_count": 21,
   "metadata": {},
   "outputs": [],
   "source": [
    "# Export the City_Data into a csv\n",
    "city_data.to_csv (\"../output_data/City_Weather.csv\", index = False, header=True)\n"
   ]
  },
  {
   "cell_type": "markdown",
   "metadata": {},
   "source": [
    "## Inspect the data and remove the cities where the humidity > 100%.\n",
    "----\n",
    "Skip this step if there are no cities that have humidity > 100%. "
   ]
  },
  {
   "cell_type": "code",
   "execution_count": 22,
   "metadata": {},
   "outputs": [
    {
     "data": {
      "text/html": [
       "<div>\n",
       "<style scoped>\n",
       "    .dataframe tbody tr th:only-of-type {\n",
       "        vertical-align: middle;\n",
       "    }\n",
       "\n",
       "    .dataframe tbody tr th {\n",
       "        vertical-align: top;\n",
       "    }\n",
       "\n",
       "    .dataframe thead th {\n",
       "        text-align: right;\n",
       "    }\n",
       "</style>\n",
       "<table border=\"1\" class=\"dataframe\">\n",
       "  <thead>\n",
       "    <tr style=\"text-align: right;\">\n",
       "      <th></th>\n",
       "      <th>Latitude</th>\n",
       "      <th>Longitude</th>\n",
       "      <th>Max_Temp</th>\n",
       "      <th>Humidity</th>\n",
       "      <th>Cloudy</th>\n",
       "      <th>Wind</th>\n",
       "      <th>Date</th>\n",
       "    </tr>\n",
       "  </thead>\n",
       "  <tbody>\n",
       "    <tr>\n",
       "      <th>count</th>\n",
       "      <td>595.000000</td>\n",
       "      <td>595.000000</td>\n",
       "      <td>595.000000</td>\n",
       "      <td>595.000000</td>\n",
       "      <td>595.000000</td>\n",
       "      <td>595.000000</td>\n",
       "      <td>5.950000e+02</td>\n",
       "    </tr>\n",
       "    <tr>\n",
       "      <th>mean</th>\n",
       "      <td>19.830303</td>\n",
       "      <td>17.704739</td>\n",
       "      <td>68.357513</td>\n",
       "      <td>69.415126</td>\n",
       "      <td>47.420168</td>\n",
       "      <td>8.098807</td>\n",
       "      <td>1.592521e+09</td>\n",
       "    </tr>\n",
       "    <tr>\n",
       "      <th>std</th>\n",
       "      <td>32.789359</td>\n",
       "      <td>90.643849</td>\n",
       "      <td>14.508957</td>\n",
       "      <td>21.768775</td>\n",
       "      <td>37.624607</td>\n",
       "      <td>5.809522</td>\n",
       "      <td>2.363506e+02</td>\n",
       "    </tr>\n",
       "    <tr>\n",
       "      <th>min</th>\n",
       "      <td>-54.800000</td>\n",
       "      <td>-179.170000</td>\n",
       "      <td>32.000000</td>\n",
       "      <td>6.000000</td>\n",
       "      <td>0.000000</td>\n",
       "      <td>0.020000</td>\n",
       "      <td>1.592521e+09</td>\n",
       "    </tr>\n",
       "    <tr>\n",
       "      <th>25%</th>\n",
       "      <td>-7.225000</td>\n",
       "      <td>-59.965000</td>\n",
       "      <td>57.990000</td>\n",
       "      <td>58.000000</td>\n",
       "      <td>6.000000</td>\n",
       "      <td>3.770000</td>\n",
       "      <td>1.592521e+09</td>\n",
       "    </tr>\n",
       "    <tr>\n",
       "      <th>50%</th>\n",
       "      <td>21.350000</td>\n",
       "      <td>22.790000</td>\n",
       "      <td>70.380000</td>\n",
       "      <td>75.000000</td>\n",
       "      <td>44.000000</td>\n",
       "      <td>6.930000</td>\n",
       "      <td>1.592522e+09</td>\n",
       "    </tr>\n",
       "    <tr>\n",
       "      <th>75%</th>\n",
       "      <td>47.500000</td>\n",
       "      <td>95.450000</td>\n",
       "      <td>79.140000</td>\n",
       "      <td>86.000000</td>\n",
       "      <td>82.500000</td>\n",
       "      <td>10.760000</td>\n",
       "      <td>1.592522e+09</td>\n",
       "    </tr>\n",
       "    <tr>\n",
       "      <th>max</th>\n",
       "      <td>78.220000</td>\n",
       "      <td>179.320000</td>\n",
       "      <td>102.090000</td>\n",
       "      <td>100.000000</td>\n",
       "      <td>100.000000</td>\n",
       "      <td>47.200000</td>\n",
       "      <td>1.592522e+09</td>\n",
       "    </tr>\n",
       "  </tbody>\n",
       "</table>\n",
       "</div>"
      ],
      "text/plain": [
       "         Latitude   Longitude    Max_Temp    Humidity      Cloudy        Wind  \\\n",
       "count  595.000000  595.000000  595.000000  595.000000  595.000000  595.000000   \n",
       "mean    19.830303   17.704739   68.357513   69.415126   47.420168    8.098807   \n",
       "std     32.789359   90.643849   14.508957   21.768775   37.624607    5.809522   \n",
       "min    -54.800000 -179.170000   32.000000    6.000000    0.000000    0.020000   \n",
       "25%     -7.225000  -59.965000   57.990000   58.000000    6.000000    3.770000   \n",
       "50%     21.350000   22.790000   70.380000   75.000000   44.000000    6.930000   \n",
       "75%     47.500000   95.450000   79.140000   86.000000   82.500000   10.760000   \n",
       "max     78.220000  179.320000  102.090000  100.000000  100.000000   47.200000   \n",
       "\n",
       "               Date  \n",
       "count  5.950000e+02  \n",
       "mean   1.592521e+09  \n",
       "std    2.363506e+02  \n",
       "min    1.592521e+09  \n",
       "25%    1.592521e+09  \n",
       "50%    1.592522e+09  \n",
       "75%    1.592522e+09  \n",
       "max    1.592522e+09  "
      ]
     },
     "execution_count": 22,
     "metadata": {},
     "output_type": "execute_result"
    }
   ],
   "source": [
    "# Check Max Humidity \n",
    "\n",
    "city_data.describe()\n"
   ]
  },
  {
   "cell_type": "code",
   "execution_count": 86,
   "metadata": {},
   "outputs": [
    {
     "name": "stdout",
     "output_type": "stream",
     "text": [
      "No data with humidity > 100%.  Max Humidity is 100%\n"
     ]
    }
   ],
   "source": [
    "#  Get the indices of cities that have humidity over 100%.\n",
    "\n",
    "print(\"No data with humidity > 100%.  Max Humidity is 100%\")\n"
   ]
  },
  {
   "cell_type": "code",
   "execution_count": 87,
   "metadata": {},
   "outputs": [
    {
     "name": "stdout",
     "output_type": "stream",
     "text": [
      "No data with humidity > 100%.  Max Humidity is 100%\n"
     ]
    }
   ],
   "source": [
    "# Make a new DataFrame equal to the city data to drop all humidity outliers by index.\n",
    "# Passing \"inplace=False\" will make a copy of the city_data DataFrame, which we call \"clean_city_data\".\n",
    "\n",
    "\n",
    "print(\"No data with humidity > 100%.  Max Humidity is 100%\")\n"
   ]
  },
  {
   "cell_type": "markdown",
   "metadata": {},
   "source": [
    "## Plotting the Data\n",
    "* Use proper labeling of the plots using plot titles (including date of analysis) and axes labels.\n",
    "* Save the plotted figures as .pngs."
   ]
  },
  {
   "cell_type": "markdown",
   "metadata": {},
   "source": [
    "## Latitude vs. Temperature Plot"
   ]
  },
  {
   "cell_type": "code",
   "execution_count": 57,
   "metadata": {
    "scrolled": true
   },
   "outputs": [
    {
     "data": {
      "image/png": "[encoded data removed]",
      "text/plain": [
       "<Figure size 432x288 with 1 Axes>"
      ]
     },
     "metadata": {
      "needs_background": "light"
     },
     "output_type": "display_data"
    }
   ],
   "source": [
    "x_values = city_data['Latitude']\n",
    "y_values = city_data['Max_Temp']\n",
    "\n",
    "# Display Plot\n",
    "plt.scatter(x_values,y_values)\n",
    "\n",
    "plt.title(\"City Latitude vs. Max Temperature (6/19/20)\")\n",
    "plt.xlabel('Latitude')\n",
    "plt.ylabel('Max Temperature (F)')\n",
    "plt.savefig(\"../output_data/LatitudevsTemperatureAll.png\")\n",
    "plt.show()\n"
   ]
  },
  {
   "cell_type": "code",
   "execution_count": 58,
   "metadata": {},
   "outputs": [
    {
     "name": "stdout",
     "output_type": "stream",
     "text": [
      "On the X axis the 0 point represents the equator.  As we get closer to the equator from the south (-60) and from the north (80) the temperature increases.\n"
     ]
    }
   ],
   "source": [
    "print(\"On the X axis the 0 point represents the equator.  As we get closer to the equator from the south (-60) and from the north (80) the temperature increases.\")"
   ]
  },
  {
   "cell_type": "markdown",
   "metadata": {},
   "source": [
    "## Latitude vs. Humidity Plot"
   ]
  },
  {
   "cell_type": "code",
   "execution_count": 43,
   "metadata": {},
   "outputs": [
    {
     "data": {
      "image/png": "[encoded data removed]",
      "text/plain": [
       "<Figure size 432x288 with 1 Axes>"
      ]
     },
     "metadata": {
      "needs_background": "light"
     },
     "output_type": "display_data"
    }
   ],
   "source": [
    "x_values = city_data['Latitude']\n",
    "y_values = city_data['Humidity']\n",
    "\n",
    "# Display Plot\n",
    "plt.scatter(x_values,y_values)\n",
    "\n",
    "plt.title(\"City Latitude vs. Humidity (6/19/20)\")\n",
    "plt.xlabel('Latitude')\n",
    "plt.ylabel('Humidity (%)')\n",
    "plt.savefig(\"../output_data/LatitudevsHumidityAll.png\")\n",
    "plt.show()"
   ]
  },
  {
   "cell_type": "code",
   "execution_count": null,
   "metadata": {},
   "outputs": [],
   "source": [
    "print(\"There is no relationship between latitude and humidity.  Humidity is pretty uniform as you travel the X axis\")"
   ]
  },
  {
   "cell_type": "markdown",
   "metadata": {},
   "source": [
    "## Latitude vs. Cloudiness Plot"
   ]
  },
  {
   "cell_type": "code",
   "execution_count": 44,
   "metadata": {},
   "outputs": [
    {
     "data": {
      "image/png": "[encoded data removed]",
      "text/plain": [
       "<Figure size 432x288 with 1 Axes>"
      ]
     },
     "metadata": {
      "needs_background": "light"
     },
     "output_type": "display_data"
    }
   ],
   "source": [
    "x_values = city_data['Latitude']\n",
    "y_values = city_data['Cloudy']\n",
    "\n",
    "# Display Plot\n",
    "plt.scatter(x_values,y_values)\n",
    "\n",
    "plt.title(\"City Latitude vs. Cloudiness (6/19/20)\")\n",
    "plt.xlabel('Latitude')\n",
    "plt.ylabel('Cloudiness (%)')\n",
    "plt.savefig(\"../output_data/LatitudevsCloudinessAll.png\")\n",
    "plt.show()"
   ]
  },
  {
   "cell_type": "code",
   "execution_count": null,
   "metadata": {},
   "outputs": [],
   "source": [
    "print(\"There appears to be no relationship between latitude and cloudiness.  Cloudiness is pretty uniform as you travel the X axis\")"
   ]
  },
  {
   "cell_type": "markdown",
   "metadata": {},
   "source": [
    "## Latitude vs. Wind Speed Plot"
   ]
  },
  {
   "cell_type": "code",
   "execution_count": 45,
   "metadata": {},
   "outputs": [
    {
     "data": {
      "image/png": "[encoded data removed]",
      "text/plain": [
       "<Figure size 432x288 with 1 Axes>"
      ]
     },
     "metadata": {
      "needs_background": "light"
     },
     "output_type": "display_data"
    }
   ],
   "source": [
    "x_values = city_data['Latitude']\n",
    "y_values = city_data['Wind']\n",
    "\n",
    "# Display Plot\n",
    "plt.scatter(x_values,y_values)\n",
    "\n",
    "plt.title(\"City Latitude vs. Wind (6/19/20)\")\n",
    "plt.xlabel('Latitude')\n",
    "plt.ylabel('Wind Speed (mph)')\n",
    "plt.savefig(\"../output_data/LatitudevsWindSpeedAll.png\")\n",
    "plt.show()"
   ]
  },
  {
   "cell_type": "code",
   "execution_count": null,
   "metadata": {},
   "outputs": [],
   "source": [
    "print(\"There appears to be no relationship between latitude and wind.  Wind is pretty uniform as you travel the X axis\")"
   ]
  },
  {
   "cell_type": "markdown",
   "metadata": {},
   "source": [
    "## Linear Regression"
   ]
  },
  {
   "cell_type": "code",
   "execution_count": 46,
   "metadata": {},
   "outputs": [],
   "source": [
    "# OPTIONAL: Create a function to create Linear Regression plots"
   ]
  },
  {
   "cell_type": "code",
   "execution_count": 47,
   "metadata": {},
   "outputs": [],
   "source": [
    "# Create Northern Hemisphere Dataframe\n",
    "north_hem_data = city_data.loc[(city_data['Latitude']>=0)]\n",
    "\n",
    "# Extract relevant fields from the data frame to lists\n",
    "\n",
    "# Create Souther Hemisphere Dataframe\n",
    "south_hem_data = city_data.loc[(city_data['Latitude']<0)]\n",
    "\n"
   ]
  },
  {
   "cell_type": "markdown",
   "metadata": {},
   "source": [
    "####  Northern Hemisphere - Max Temp vs. Latitude Linear Regression"
   ]
  },
  {
   "cell_type": "code",
   "execution_count": 48,
   "metadata": {},
   "outputs": [
    {
     "data": {
      "image/png": "[encoded data removed]",
      "text/plain": [
       "<Figure size 432x288 with 1 Axes>"
      ]
     },
     "metadata": {
      "needs_background": "light"
     },
     "output_type": "display_data"
    }
   ],
   "source": [
    "# Draw Scatter Plot for Northern Hem.\n",
    "x_values = north_hem_data['Latitude']\n",
    "y_values = north_hem_data['Max_Temp']\n",
    "\n",
    "# Display Plot\n",
    "plt.scatter(x_values,y_values)\n",
    "plt.title(\"Northern Hemisphere - Max Temp vs. Latitude (6/19/20)\")\n",
    "plt.xlabel('Latitude')\n",
    "plt.ylabel('Max Temp')\n",
    "plt.show()\n"
   ]
  },
  {
   "cell_type": "code",
   "execution_count": null,
   "metadata": {},
   "outputs": [],
   "source": [
    "print(\"In the Northern Hemisphere, the further you get away from the equator (0 on the X axis) the temperature decreases\")"
   ]
  },
  {
   "cell_type": "code",
   "execution_count": 59,
   "metadata": {},
   "outputs": [
    {
     "data": {
      "image/png": "[encoded data removed]",
      "text/plain": [
       "<Figure size 432x288 with 1 Axes>"
      ]
     },
     "metadata": {
      "needs_background": "light"
     },
     "output_type": "display_data"
    }
   ],
   "source": [
    "# Perform a linear regression on latitude versus Max Temp\n",
    "\n",
    "x_values = north_hem_data['Latitude']\n",
    "y_values = north_hem_data['Max_Temp']\n",
    "(slope, intercept, rvalue, pvalue, stderr) = linregress(x_values, y_values)\n",
    "regress_values = x_values * slope + intercept\n",
    "line_eq = \"y = \" + str(round(slope,2)) + \"x + \" + str(round(intercept,2))\n",
    "plt.scatter(x_values,y_values)\n",
    "plt.plot(x_values,regress_values,\"r-\")\n",
    "plt.annotate(line_eq,(0,50),fontsize=15,color=\"red\")\n",
    "\n",
    "plt.title(\"Northern Hemisphere - Max Temp vs. Latitude (6/19/20)\")\n",
    "plt.xlabel('Latitude')\n",
    "plt.ylabel('Max_Temp (F)')\n",
    "plt.savefig(\"../output_data/LatitudevsTemperatureNorth.png\")\n",
    "plt.show()"
   ]
  },
  {
   "cell_type": "code",
   "execution_count": 62,
   "metadata": {},
   "outputs": [
    {
     "name": "stdout",
     "output_type": "stream",
     "text": [
      "The r value is: -0.6710910388432589\n",
      "The r-squared is: 0.4503631824157245\n",
      "There is a Moderate Negative strength of Correlation between Max Temp and Latitude in the Northern Hemisphere\n"
     ]
    }
   ],
   "source": [
    "print(f\"The r value is: {rvalue}\")\n",
    "print(f\"The r-squared is: {rvalue**2}\")\n",
    "\n",
    "print(\"There is a Moderate Negative Strength of Correlation between Max Temp and Latitude in the Northern Hemisphere\")"
   ]
  },
  {
   "cell_type": "markdown",
   "metadata": {},
   "source": [
    "####  Southern Hemisphere - Max Temp vs. Latitude Linear Regression"
   ]
  },
  {
   "cell_type": "code",
   "execution_count": 50,
   "metadata": {},
   "outputs": [
    {
     "name": "stdout",
     "output_type": "stream",
     "text": [
      "The r value is: 0.767838814395573\n"
     ]
    },
    {
     "data": {
      "image/png": "[encoded data removed]",
      "text/plain": [
       "<Figure size 432x288 with 1 Axes>"
      ]
     },
     "metadata": {
      "needs_background": "light"
     },
     "output_type": "display_data"
    }
   ],
   "source": [
    "# Draw Scatter Plot for Southern Hem.\n",
    "\n",
    "x_values = south_hem_data['Latitude']\n",
    "y_values = south_hem_data['Max_Temp']\n",
    "(slope, intercept, rvalue, pvalue, stderr) = linregress(x_values, y_values)\n",
    "regress_values = x_values * slope + intercept\n",
    "line_eq = \"y = \" + str(round(slope,2)) + \"x + \" + str(round(intercept,2))\n",
    "plt.scatter(x_values,y_values)\n",
    "plt.plot(x_values,regress_values,\"r-\")\n",
    "plt.annotate(line_eq,(0,50),fontsize=15,color=\"red\")\n",
    "\n",
    "plt.title(\"Southern Hemisphere - Max Temp vs. Latitude (6/19/20)\")\n",
    "plt.xlabel('Latitude')\n",
    "plt.ylabel('Max_Temp (F)')\n",
    "plt.savefig(\"../output_data/LatitudevsTemperatureSouth.png\")\n",
    "plt.show()\n"
   ]
  },
  {
   "cell_type": "code",
   "execution_count": 63,
   "metadata": {},
   "outputs": [
    {
     "name": "stdout",
     "output_type": "stream",
     "text": [
      "The r value is: -0.6710910388432589\n",
      "The r-squared is: 0.4503631824157245\n",
      "There is a Moderate Positive Strength of Correlation between Max Temp and Latitude in the Southern Hemisphere\n"
     ]
    }
   ],
   "source": [
    "print(f\"The r value is: {rvalue}\")\n",
    "print(f\"The r-squared is: {rvalue**2}\")\n",
    "\n",
    "print(\"There is a Moderate Positive Strength of Correlation between Max Temp and Latitude in the Southern Hemisphere\")"
   ]
  },
  {
   "cell_type": "markdown",
   "metadata": {},
   "source": [
    "####  Northern Hemisphere - Humidity (%) vs. Latitude Linear Regression"
   ]
  },
  {
   "cell_type": "code",
   "execution_count": 67,
   "metadata": {},
   "outputs": [
    {
     "data": {
      "image/png": "[encoded data removed]",
      "text/plain": [
       "<Figure size 432x288 with 1 Axes>"
      ]
     },
     "metadata": {
      "needs_background": "light"
     },
     "output_type": "display_data"
    }
   ],
   "source": [
    "# Draw Scatter Plot for Northern Hem.\n",
    "\n",
    "x_values = north_hem_data['Latitude']\n",
    "y_values = north_hem_data['Humidity']\n",
    "(slope, intercept, rvalue, pvalue, stderr) = linregress(x_values, y_values)\n",
    "regress_values = x_values * slope + intercept\n",
    "line_eq = \"y = \" + str(round(slope,2)) + \"x + \" + str(round(intercept,2))\n",
    "plt.scatter(x_values,y_values)\n",
    "plt.plot(x_values,regress_values,\"r-\")\n",
    "plt.annotate(line_eq,(0,50),fontsize=15,color=\"red\")\n",
    "\n",
    "plt.title(\"Northern Hemisphere - Humidity (%) vs. Latitude (6/19/20)\")\n",
    "plt.xlabel('Latitude')\n",
    "plt.ylabel('Humidity (%)')\n",
    "plt.savefig(\"../output_data/LatitudevsHumidityNorth.png\")\n",
    "plt.show()\n"
   ]
  },
  {
   "cell_type": "code",
   "execution_count": 66,
   "metadata": {},
   "outputs": [
    {
     "name": "stdout",
     "output_type": "stream",
     "text": [
      "The r value is: -0.05444358536174161\n",
      "The r-squared is: 0.0029641039870412457\n",
      "There is a Weak Negative Strength of Correlation between Humidity and Latitude in the Northern Hemisphere\n"
     ]
    }
   ],
   "source": [
    "print(f\"The r value is: {rvalue}\")\n",
    "print(f\"The r-squared is: {rvalue**2}\")\n",
    "\n",
    "print(\"There is a Weak Negative Strength of Correlation between Humidity and Latitude in the Northern Hemisphere\")"
   ]
  },
  {
   "cell_type": "markdown",
   "metadata": {},
   "source": [
    "####  Southern Hemisphere - Humidity (%) vs. Latitude Linear Regression"
   ]
  },
  {
   "cell_type": "code",
   "execution_count": 68,
   "metadata": {},
   "outputs": [
    {
     "data": {
      "image/png": "[encoded data removed]",
      "text/plain": [
       "<Figure size 432x288 with 1 Axes>"
      ]
     },
     "metadata": {
      "needs_background": "light"
     },
     "output_type": "display_data"
    }
   ],
   "source": [
    "# Draw Scatter Plot for Northern Hem.\n",
    "x_values = south_hem_data['Latitude']\n",
    "y_values = south_hem_data['Humidity']\n",
    "\n",
    "(slope, intercept, rvalue, pvalue, stderr) = linregress(x_values, y_values)\n",
    "regress_values = x_values * slope + intercept\n",
    "line_eq = \"y = \" + str(round(slope,2)) + \"x + \" + str(round(intercept,2))\n",
    "\n",
    "plt.scatter(x_values,y_values)\n",
    "plt.plot(x_values,regress_values,\"r-\")\n",
    "plt.annotate(line_eq,(0,50),fontsize=15,color=\"red\")\n",
    "\n",
    "plt.title(\"Southern Hemisphere - Humidity (%) vs. Latitude (6/19/20)\")\n",
    "plt.xlabel('Latitude')\n",
    "plt.ylabel('Humidity (%)')\n",
    "plt.savefig(\"../output_data/LatitudevsHumiditySouth.png\")\n",
    "plt.show()"
   ]
  },
  {
   "cell_type": "code",
   "execution_count": 70,
   "metadata": {},
   "outputs": [
    {
     "name": "stdout",
     "output_type": "stream",
     "text": [
      "The r value is: 0.04065068570165894\n",
      "The r-squared is: 0.0016524782480150583\n",
      "There is a Weak Positive Strength of Correlation between Humidity and Latitude in the Southern Hemisphere\n"
     ]
    }
   ],
   "source": [
    "print(f\"The r value is: {rvalue}\")\n",
    "print(f\"The r-squared is: {rvalue**2}\")\n",
    "\n",
    "print(\"There is a Weak Positive Strength of Correlation between Humidity and Latitude in the Southern Hemisphere\")"
   ]
  },
  {
   "cell_type": "markdown",
   "metadata": {},
   "source": [
    "####  Northern Hemisphere - Cloudiness (%) vs. Latitude Linear Regression"
   ]
  },
  {
   "cell_type": "code",
   "execution_count": 73,
   "metadata": {},
   "outputs": [
    {
     "data": {
      "image/png": "[encoded data removed]",
      "text/plain": [
       "<Figure size 432x288 with 1 Axes>"
      ]
     },
     "metadata": {
      "needs_background": "light"
     },
     "output_type": "display_data"
    }
   ],
   "source": [
    "# Draw Scatter Plot for Northern Hem.\n",
    "\n",
    "x_values = north_hem_data['Latitude']\n",
    "y_values = north_hem_data['Cloudy']\n",
    "(slope, intercept, rvalue, pvalue, stderr) = linregress(x_values, y_values)\n",
    "regress_values = x_values * slope + intercept\n",
    "line_eq = \"y = \" + str(round(slope,2)) + \"x + \" + str(round(intercept,2))\n",
    "plt.scatter(x_values,y_values)\n",
    "plt.plot(x_values,regress_values,\"r-\")\n",
    "plt.annotate(line_eq,(0,50),fontsize=15,color=\"red\")\n",
    "\n",
    "plt.title(\"Northern Hemisphere - Cloudiness (%) vs. Latitude (6/19/20)\")\n",
    "plt.xlabel('Latitude')\n",
    "plt.ylabel('Cloudiness (%)')\n",
    "plt.savefig(\"../output_data/LatitudevsCloudNorth.png\")\n",
    "plt.show()\n"
   ]
  },
  {
   "cell_type": "code",
   "execution_count": 74,
   "metadata": {},
   "outputs": [
    {
     "name": "stdout",
     "output_type": "stream",
     "text": [
      "The r value is: -0.07768448497520147\n",
      "The r-squared is: 0.006034879205862304\n",
      "There is a Weak Negative Strength of Correlation between Cloudiness and Latitude in the Northern Hemisphere\n"
     ]
    }
   ],
   "source": [
    "print(f\"The r value is: {rvalue}\")\n",
    "print(f\"The r-squared is: {rvalue**2}\")\n",
    "\n",
    "print(\"There is a Weak Negative Strength of Correlation between Cloudiness and Latitude in the Northern Hemisphere\")"
   ]
  },
  {
   "cell_type": "markdown",
   "metadata": {},
   "source": [
    "####  Southern Hemisphere - Cloudiness (%) vs. Latitude Linear Regression"
   ]
  },
  {
   "cell_type": "code",
   "execution_count": 75,
   "metadata": {},
   "outputs": [
    {
     "data": {
      "image/png": "[encoded data removed]",
      "text/plain": [
       "<Figure size 432x288 with 1 Axes>"
      ]
     },
     "metadata": {
      "needs_background": "light"
     },
     "output_type": "display_data"
    }
   ],
   "source": [
    "# Draw Scatter Plot for Southern Hem.\n",
    "\n",
    "x_values = south_hem_data['Latitude']\n",
    "y_values = south_hem_data['Cloudy']\n",
    "(slope, intercept, rvalue, pvalue, stderr) = linregress(x_values, y_values)\n",
    "regress_values = x_values * slope + intercept\n",
    "line_eq = \"y = \" + str(round(slope,2)) + \"x + \" + str(round(intercept,2))\n",
    "plt.scatter(x_values,y_values)\n",
    "plt.plot(x_values,regress_values,\"r-\")\n",
    "plt.annotate(line_eq,(0,50),fontsize=15,color=\"red\")\n",
    "\n",
    "plt.title(\"Southern Hemisphere - Cloudiness (%) vs. Latitude (6/19/20)\")\n",
    "plt.xlabel('Latitude')\n",
    "plt.ylabel('Cloudiness (%)')\n",
    "plt.savefig(\"../output_data/LatitudevsCloudSouth.png\")\n",
    "plt.show()"
   ]
  },
  {
   "cell_type": "code",
   "execution_count": 77,
   "metadata": {},
   "outputs": [
    {
     "name": "stdout",
     "output_type": "stream",
     "text": [
      "The r value is: 0.06095592539951643\n",
      "The r-squared is: 0.003715624841311412\n",
      "There is a Weak Positive Strength of Correlation between Cloudiness and Latitude in the Southern Hemisphere\n"
     ]
    }
   ],
   "source": [
    "print(f\"The r value is: {rvalue}\")\n",
    "print(f\"The r-squared is: {rvalue**2}\")\n",
    "\n",
    "print(\"There is a Weak Positive Strength of Correlation between Cloudiness and Latitude in the Southern Hemisphere\")"
   ]
  },
  {
   "cell_type": "markdown",
   "metadata": {},
   "source": [
    "####  Northern Hemisphere - Wind Speed (mph) vs. Latitude Linear Regression"
   ]
  },
  {
   "cell_type": "code",
   "execution_count": 80,
   "metadata": {},
   "outputs": [
    {
     "data": {
      "image/png": "[encoded data removed]",
      "text/plain": [
       "<Figure size 432x288 with 1 Axes>"
      ]
     },
     "metadata": {
      "needs_background": "light"
     },
     "output_type": "display_data"
    }
   ],
   "source": [
    "# Draw Scatter Plot for Northern Hem.\n",
    "\n",
    "x_values = north_hem_data['Latitude']\n",
    "y_values = north_hem_data['Wind']\n",
    "(slope, intercept, rvalue, pvalue, stderr) = linregress(x_values, y_values)\n",
    "regress_values = x_values * slope + intercept\n",
    "line_eq = \"y = \" + str(round(slope,2)) + \"x + \" + str(round(intercept,2))\n",
    "plt.scatter(x_values,y_values)\n",
    "plt.plot(x_values,regress_values,\"r-\")\n",
    "plt.annotate(line_eq,(0,50),fontsize=15,color=\"red\")\n",
    "\n",
    "plt.title(\"Northern Hemisphere - Wind Speed(mph) vs. Latitude (6/19/20)\")\n",
    "plt.xlabel('Latitude')\n",
    "plt.ylabel('Wind Speed')\n",
    "plt.savefig(\"../output_data/LatitudevsWindNorth.png\")\n",
    "plt.show()\n"
   ]
  },
  {
   "cell_type": "code",
   "execution_count": 82,
   "metadata": {},
   "outputs": [
    {
     "name": "stdout",
     "output_type": "stream",
     "text": [
      "The r value is: -0.05929739478532322\n",
      "The r-squared is: 0.003516181028326477\n",
      "There is a Weak Negative Strength of Correlation between Wind Speed and Latitude in the Northern Hemisphere\n"
     ]
    }
   ],
   "source": [
    "print(f\"The r value is: {rvalue}\")\n",
    "print(f\"The r-squared is: {rvalue**2}\")\n",
    "\n",
    "print(\"There is a Weak Negative Strength of Correlation between Wind Speed and Latitude in the Northern Hemisphere\")"
   ]
  },
  {
   "cell_type": "markdown",
   "metadata": {},
   "source": [
    "####  Southern Hemisphere - Wind Speed (mph) vs. Latitude Linear Regression"
   ]
  },
  {
   "cell_type": "code",
   "execution_count": 83,
   "metadata": {},
   "outputs": [
    {
     "data": {
      "image/png": "[encoded data removed]",
      "text/plain": [
       "<Figure size 432x288 with 1 Axes>"
      ]
     },
     "metadata": {
      "needs_background": "light"
     },
     "output_type": "display_data"
    }
   ],
   "source": [
    "# Draw Scatter Plot for Northern Hem.\n",
    "\n",
    "x_values = south_hem_data['Latitude']\n",
    "y_values = south_hem_data['Wind']\n",
    "(slope, intercept, rvalue, pvalue, stderr) = linregress(x_values, y_values)\n",
    "regress_values = x_values * slope + intercept\n",
    "line_eq = \"y = \" + str(round(slope,2)) + \"x + \" + str(round(intercept,2))\n",
    "plt.scatter(x_values,y_values)\n",
    "plt.plot(x_values,regress_values,\"r-\")\n",
    "plt.annotate(line_eq,(0,50),fontsize=15,color=\"red\")\n",
    "\n",
    "plt.title(\"Southern Hemisphere - Wind Speed(mph) vs. Latitude (6/19/20)\")\n",
    "plt.xlabel('Latitude')\n",
    "plt.ylabel('Wind Speed')\n",
    "plt.savefig(\"../output_data/LatitudevsWindSouth.png\")\n",
    "plt.show()"
   ]
  },
  {
   "cell_type": "code",
   "execution_count": 85,
   "metadata": {},
   "outputs": [
    {
     "name": "stdout",
     "output_type": "stream",
     "text": [
      "The r value is: -0.22073184560653322\n",
      "The r-squared is: 0.04872254766486642\n",
      "There is a Weak Negative Strength of Correlation between Wind Speed and Latitude in the Southern Hemisphere\n"
     ]
    }
   ],
   "source": [
    "print(f\"The r value is: {rvalue}\")\n",
    "print(f\"The r-squared is: {rvalue**2}\")\n",
    "\n",
    "print(\"There is a Weak Negative Strength of Correlation between Wind Speed and Latitude in the Southern Hemisphere\")"
   ]
  },
  {
   "cell_type": "code",
   "execution_count": null,
   "metadata": {},
   "outputs": [],
   "source": []
  },
  {
   "cell_type": "code",
   "execution_count": null,
   "metadata": {},
   "outputs": [],
   "source": []
  }
 ],
 "metadata": {
  "anaconda-cloud": {},
  "kernel_info": {
   "name": "python3"
  },
  "kernelspec": {
   "display_name": "Python 3",
   "language": "python",
   "name": "python3"
  },
  "language_info": {
   "codemirror_mode": {
    "name": "ipython",
    "version": 3
   },
   "file_extension": ".py",
   "mimetype": "text/x-python",
   "name": "python",
   "nbconvert_exporter": "python",
   "pygments_lexer": "ipython3",
   "version": "3.7.7"
  },
  "latex_envs": {
   "LaTeX_envs_menu_present": true,
   "autoclose": false,
   "autocomplete": true,
   "bibliofile": "biblio.bib",
   "cite_by": "apalike",
   "current_citInitial": 1,
   "eqLabelWithNumbers": true,
   "eqNumInitial": 1,
   "hotkeys": {
    "equation": "Ctrl-E",
    "itemize": "Ctrl-I"
   },
   "labels_anchors": false,
   "latex_user_defs": false,
   "report_style_numbering": false,
   "user_envs_cfg": false
  },
  "nteract": {
   "version": "0.12.3"
  }
 },
 "nbformat": 4,
 "nbformat_minor": 2
}
