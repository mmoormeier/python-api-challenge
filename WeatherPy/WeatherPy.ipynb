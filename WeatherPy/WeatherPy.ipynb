{
 "cells": [
  {
   "cell_type": "markdown",
   "metadata": {},
   "source": [
    "# WeatherPy\n",
    "----\n",
    "\n",
    "#### Note\n",
    "* Instructions have been included for each segment. You do not have to follow them exactly, but they are included to help you think through the steps."
   ]
  },
  {
   "cell_type": "code",
   "execution_count": 1,
   "metadata": {
    "scrolled": true
   },
   "outputs": [],
   "source": [
    "# Dependencies and Setup\n",
    "import matplotlib.pyplot as plt\n",
    "import pandas as pd\n",
    "import numpy as np\n",
    "import requests\n",
    "import time\n",
    "from scipy.stats import linregress\n",
    "import json\n",
    "import os\n",
    "import csv\n",
    "from scipy import stats\n",
    "\n",
    "# Import API key\n",
    "from config import weather_key\n",
    "\n",
    "# Incorporated citipy to determine city based on latitude and longitude\n",
    "from citipy import citipy\n",
    "\n",
    "# Range of latitudes and longitudes\n",
    "lat_range = (-90, 90)\n",
    "lng_range = (-180, 180)"
   ]
  },
  {
   "cell_type": "markdown",
   "metadata": {},
   "source": [
    "## Generate Cities List"
   ]
  },
  {
   "cell_type": "code",
   "execution_count": 2,
   "metadata": {},
   "outputs": [
    {
     "data": {
      "text/plain": [
       "609"
      ]
     },
     "execution_count": 2,
     "metadata": {},
     "output_type": "execute_result"
    }
   ],
   "source": [
    "# List for holding lat_lngs and cities\n",
    "lat_lngs = []\n",
    "cities = []\n",
    "\n",
    "# Create a set of random lat and lng combinations\n",
    "lats = np.random.uniform(lat_range[0], lat_range[1], size=1500)\n",
    "lngs = np.random.uniform(lng_range[0], lng_range[1], size=1500)\n",
    "lat_lngs = zip(lats, lngs)\n",
    "\n",
    "# Identify nearest city for each lat, lng combination\n",
    "for lat_lng in lat_lngs:\n",
    "    city = citipy.nearest_city(lat_lng[0], lat_lng[1]).city_name\n",
    "    \n",
    "    # If the city is unique, then add it to a our cities list\n",
    "    if city not in cities:\n",
    "        cities.append(city)\n",
    "\n",
    "# Print the city count to confirm sufficient count\n",
    "len(cities)\n"
   ]
  },
  {
   "cell_type": "markdown",
   "metadata": {},
   "source": [
    "### Perform API Calls\n",
    "* Perform a weather check on each city using a series of successive API calls.\n",
    "* Include a print log of each city as it'sbeing processed (with the city number and city name).\n"
   ]
  },
  {
   "cell_type": "code",
   "execution_count": 3,
   "metadata": {},
   "outputs": [
    {
     "name": "stdout",
     "output_type": "stream",
     "text": [
      "Processing Record: 0 for ID: viligili\n",
      "Processing Record: 1 for ID: collie\n",
      "Processing Record: 2 for ID: yulara\n",
      "Processing Record: 3 for ID: westport\n",
      "Processing Record: 4 for ID: ahome\n",
      "Processing Record: 5 for ID: cape town\n",
      "Processing Record: 6 for ID: mokshan\n",
      "Processing Record: 7 for ID: bodden town\n",
      "Processing Record: 8 for ID: albany\n",
      "Processing Record: 9 for ID: punta arenas\n",
      "Processing Record: 10 for ID: busselton\n",
      "Processing Record: 11 for ID: invermere\n",
      "Processing Record: 12 for ID: vestmannaeyjar\n",
      "Processing Record: 13 for ID: acarau\n",
      "Processing Record: 14 for ID: kaeo\n",
      "Processing Record: 15 for ID: severo-kurilsk\n",
      "Processing Record: 16 for ID: vestmanna\n",
      "Processing Record: 17 for ID: bacuit\n",
      "Processing Record: 18 for ID: vaini\n",
      "Processing Record: 19 for ID: longyearbyen\n",
      "Processing Record: 20 for ID: hobart\n",
      "Processing Record: 21 for ID: jamestown\n",
      "Processing Record: 22 for ID: thompson\n",
      "Processing Record: 23 for ID: yanan\n",
      "Processing Record: 24 for ID: brownwood\n",
      "Processing Record: 25 for ID: kozhva\n",
      "Processing Record: 26 for ID: georgetown\n",
      "Processing Record: 27 for ID: bandarbeyla\n",
      "Processing Record: 28 for ID: esperance\n",
      "Processing Record: 29 for ID: kloulklubed\n",
      "Processing Record: 30 for ID: nikolskoye\n",
      "Processing Record: 31 for ID: birao\n",
      "Processing Record: 32 for ID: ilulissat\n",
      "Processing Record: 33 for ID: arraial do cabo\n",
      "Processing Record: 34 for ID: dikson\n",
      "Processing Record: 35 for ID: polovinnoye\n",
      "Processing Record: 36 for ID: saint-georges\n",
      "Processing Record: 37 for ID: taolanaro\n",
      "Processing Record: 38 for ID: belushya guba\n",
      "Processing Record: 39 for ID: schroeder\n",
      "Processing Record: 40 for ID: orangeburg\n",
      "Processing Record: 41 for ID: khor\n",
      "Processing Record: 42 for ID: sobolevo\n",
      "Processing Record: 43 for ID: santa isabel\n",
      "Processing Record: 44 for ID: rikitea\n",
      "Processing Record: 45 for ID: butaritari\n",
      "Processing Record: 46 for ID: hofn\n",
      "Processing Record: 47 for ID: dicabisagan\n",
      "Processing Record: 48 for ID: bambous virieux\n",
      "Processing Record: 49 for ID: new norfolk\n",
      "Processing Record: 50 for ID: kailua\n",
      "Processing Record: 51 for ID: bowen\n",
      "Processing Record: 52 for ID: hualmay\n",
      "Processing Record: 53 for ID: budapest\n",
      "Processing Record: 54 for ID: urusha\n",
      "Processing Record: 55 for ID: amderma\n",
      "Processing Record: 56 for ID: nisia floresta\n",
      "Processing Record: 57 for ID: barentsburg\n",
      "Processing Record: 58 for ID: upernavik\n",
      "Processing Record: 59 for ID: san juan\n",
      "Processing Record: 60 for ID: jiangmen\n",
      "Processing Record: 61 for ID: hermanus\n",
      "Processing Record: 62 for ID: vanimo\n",
      "Processing Record: 63 for ID: bethel\n",
      "Processing Record: 64 for ID: ushuaia\n",
      "Processing Record: 65 for ID: illoqqortoormiut\n",
      "Processing Record: 66 for ID: kruisfontein\n",
      "Processing Record: 67 for ID: hilo\n",
      "Processing Record: 68 for ID: qaanaaq\n",
      "Processing Record: 69 for ID: dudinka\n",
      "Processing Record: 70 for ID: blackfoot\n",
      "Processing Record: 71 for ID: tiksi\n",
      "Processing Record: 72 for ID: romitan\n",
      "Processing Record: 73 for ID: fort nelson\n",
      "Processing Record: 74 for ID: labrea\n",
      "Processing Record: 75 for ID: margate\n",
      "Processing Record: 76 for ID: dunedin\n",
      "Processing Record: 77 for ID: codrington\n",
      "Processing Record: 78 for ID: bredasdorp\n",
      "Processing Record: 79 for ID: mattru\n",
      "Processing Record: 80 for ID: bathsheba\n",
      "Processing Record: 81 for ID: abha\n",
      "Processing Record: 82 for ID: castro\n",
      "Processing Record: 83 for ID: atuona\n",
      "Processing Record: 84 for ID: barrow\n",
      "Processing Record: 85 for ID: ituacu\n",
      "Processing Record: 86 for ID: flinders\n",
      "Processing Record: 87 for ID: corinto\n",
      "Processing Record: 88 for ID: kysyl-syr\n",
      "Processing Record: 89 for ID: angoche\n",
      "Processing Record: 90 for ID: puerto ayora\n",
      "Processing Record: 91 for ID: kanuma\n",
      "Processing Record: 92 for ID: ribeira grande\n",
      "Processing Record: 93 for ID: kapaa\n",
      "Processing Record: 94 for ID: barcelona\n",
      "Processing Record: 95 for ID: drabiv\n",
      "Processing Record: 96 for ID: tairua\n",
      "Processing Record: 97 for ID: cidreira\n",
      "Processing Record: 98 for ID: rawson\n",
      "Processing Record: 99 for ID: marshall\n",
      "Processing Record: 100 for ID: provideniya\n",
      "Processing Record: 101 for ID: ha\n",
      "Processing Record: 102 for ID: taltal\n",
      "Processing Record: 103 for ID: chuy\n",
      "Processing Record: 104 for ID: severodvinsk\n",
      "Processing Record: 105 for ID: acapulco\n",
      "Processing Record: 106 for ID: khatanga\n",
      "Processing Record: 107 for ID: jaque\n",
      "Processing Record: 108 for ID: vila\n",
      "Processing Record: 109 for ID: baykit\n",
      "Processing Record: 110 for ID: tuatapere\n",
      "Processing Record: 111 for ID: pangnirtung\n",
      "Processing Record: 112 for ID: mataura\n",
      "Processing Record: 113 for ID: el paso\n",
      "Processing Record: 114 for ID: norman wells\n",
      "Processing Record: 115 for ID: avarua\n",
      "Processing Record: 116 for ID: chapada dos guimaraes\n",
      "Processing Record: 117 for ID: arezzo\n",
      "Processing Record: 118 for ID: eyl\n",
      "Processing Record: 119 for ID: poltavka\n",
      "Processing Record: 120 for ID: souillac\n",
      "Processing Record: 121 for ID: san cristobal\n",
      "Processing Record: 122 for ID: orotukan\n",
      "Processing Record: 123 for ID: dingle\n",
      "Processing Record: 124 for ID: kaitangata\n",
      "Processing Record: 125 for ID: douentza\n",
      "Processing Record: 126 for ID: bima\n",
      "Processing Record: 127 for ID: geraldton\n",
      "Processing Record: 128 for ID: nianzishan\n",
      "Processing Record: 129 for ID: ulagan\n",
      "Processing Record: 130 for ID: udachnyy\n",
      "Processing Record: 131 for ID: ivanava\n",
      "Processing Record: 132 for ID: tasiilaq\n",
      "Processing Record: 133 for ID: bluff\n",
      "Processing Record: 134 for ID: zielona gora\n",
      "Processing Record: 135 for ID: abu samrah\n",
      "Processing Record: 136 for ID: hithadhoo\n",
      "Processing Record: 137 for ID: bengkulu\n",
      "Processing Record: 138 for ID: saint george\n",
      "Processing Record: 139 for ID: lebu\n",
      "Processing Record: 140 for ID: san patricio\n",
      "Processing Record: 141 for ID: mayo\n",
      "Processing Record: 142 for ID: yellowknife\n",
      "Processing Record: 143 for ID: ufa\n",
      "Processing Record: 144 for ID: conceicao do araguaia\n",
      "Processing Record: 145 for ID: yomitan\n",
      "Processing Record: 146 for ID: saint-philippe\n",
      "Processing Record: 147 for ID: laguna\n",
      "Processing Record: 148 for ID: mehamn\n",
      "Processing Record: 149 for ID: port macquarie\n",
      "Processing Record: 150 for ID: ilorin\n",
      "Processing Record: 151 for ID: cherskiy\n",
      "Processing Record: 152 for ID: isangel\n",
      "Processing Record: 153 for ID: clinton\n",
      "Processing Record: 154 for ID: narsingi\n",
      "Processing Record: 155 for ID: jaisalmer\n",
      "Processing Record: 156 for ID: bud\n",
      "Processing Record: 157 for ID: srednekolymsk\n",
      "Processing Record: 158 for ID: koumac\n",
      "Processing Record: 159 for ID: ancud\n",
      "Processing Record: 160 for ID: kirovskiy\n",
      "Processing Record: 161 for ID: verkhnetulomskiy\n",
      "Processing Record: 162 for ID: miraflores\n",
      "Processing Record: 163 for ID: sola\n",
      "Processing Record: 164 for ID: gangotri\n",
      "Processing Record: 165 for ID: bethanien\n",
      "Processing Record: 166 for ID: victoria\n",
      "Processing Record: 167 for ID: formoso do araguaia\n",
      "Processing Record: 168 for ID: hobyo\n",
      "Processing Record: 169 for ID: bacolod\n",
      "Processing Record: 170 for ID: hohhot\n",
      "Processing Record: 171 for ID: belmonte\n",
      "Processing Record: 172 for ID: salug\n",
      "Processing Record: 173 for ID: axim\n",
      "Processing Record: 174 for ID: gasa\n",
      "Processing Record: 175 for ID: saint-dizier\n",
      "Processing Record: 176 for ID: darhan\n",
      "Processing Record: 177 for ID: ambon\n",
      "Processing Record: 178 for ID: carnarvon\n",
      "Processing Record: 179 for ID: vostok\n",
      "Processing Record: 180 for ID: san policarpo\n",
      "Processing Record: 181 for ID: owasso\n",
      "Processing Record: 182 for ID: irituia\n",
      "Processing Record: 183 for ID: saldanha\n",
      "Processing Record: 184 for ID: pevek\n",
      "Processing Record: 185 for ID: richards bay\n",
      "Processing Record: 186 for ID: talaya\n",
      "Processing Record: 187 for ID: saint-pierre\n",
      "Processing Record: 188 for ID: port hardy\n",
      "Processing Record: 189 for ID: marawi\n",
      "Processing Record: 190 for ID: nouadhibou\n",
      "Processing Record: 191 for ID: port alfred\n",
      "Processing Record: 192 for ID: mrirt\n",
      "Processing Record: 193 for ID: sao filipe\n",
      "Processing Record: 194 for ID: liepaja\n",
      "Processing Record: 195 for ID: imbituba\n",
      "Processing Record: 196 for ID: christchurch\n",
      "Processing Record: 197 for ID: umzimvubu\n",
      "Processing Record: 198 for ID: olafsvik\n",
      "Processing Record: 199 for ID: rocha\n",
      "Processing Record: 200 for ID: mpika\n",
      "Processing Record: 201 for ID: zhoucheng\n",
      "Processing Record: 202 for ID: yenotayevka\n",
      "Processing Record: 203 for ID: bolshaya rechka\n",
      "Processing Record: 204 for ID: puerto quijarro\n",
      "Processing Record: 205 for ID: dir\n",
      "Processing Record: 206 for ID: biak\n"
     ]
    },
    {
     "name": "stdout",
     "output_type": "stream",
     "text": [
      "Processing Record: 207 for ID: simbahan\n",
      "Processing Record: 208 for ID: leningradskiy\n",
      "Processing Record: 209 for ID: mount gambier\n",
      "Processing Record: 210 for ID: krasnoselkup\n",
      "Processing Record: 211 for ID: lavrentiya\n",
      "Processing Record: 212 for ID: luanda\n",
      "Processing Record: 213 for ID: torbay\n",
      "Processing Record: 214 for ID: nizhneyansk\n",
      "Processing Record: 215 for ID: sibu\n",
      "Processing Record: 216 for ID: pangody\n",
      "Processing Record: 217 for ID: san andres\n",
      "Processing Record: 218 for ID: nguiu\n",
      "Processing Record: 219 for ID: poum\n",
      "Processing Record: 220 for ID: chokurdakh\n",
      "Processing Record: 221 for ID: kurilsk\n",
      "Processing Record: 222 for ID: attawapiskat\n",
      "Processing Record: 223 for ID: tignere\n",
      "Processing Record: 224 for ID: san quintin\n",
      "Processing Record: 225 for ID: vila franca do campo\n",
      "Processing Record: 226 for ID: sentyabrskiy\n",
      "Processing Record: 227 for ID: huarmey\n",
      "Processing Record: 228 for ID: molteno\n",
      "Processing Record: 229 for ID: atar\n",
      "Processing Record: 230 for ID: maltahohe\n",
      "Processing Record: 231 for ID: bambanglipuro\n",
      "Processing Record: 232 for ID: shirokiy\n",
      "Processing Record: 233 for ID: haines junction\n",
      "Processing Record: 234 for ID: yar-sale\n",
      "Processing Record: 235 for ID: noormarkku\n",
      "Processing Record: 236 for ID: fortuna\n",
      "Processing Record: 237 for ID: serro\n",
      "Processing Record: 238 for ID: lorengau\n",
      "Processing Record: 239 for ID: grand river south east\n",
      "Processing Record: 240 for ID: ambanja\n",
      "Processing Record: 241 for ID: khirkiya\n",
      "Processing Record: 242 for ID: tura\n",
      "Processing Record: 243 for ID: nanortalik\n",
      "Processing Record: 244 for ID: gerash\n",
      "Processing Record: 245 for ID: poboru\n",
      "Processing Record: 246 for ID: mar del plata\n",
      "Processing Record: 247 for ID: kallithea\n",
      "Processing Record: 248 for ID: pringsewu\n",
      "Processing Record: 249 for ID: constitucion\n",
      "Processing Record: 250 for ID: ivanovka\n",
      "Processing Record: 251 for ID: kharan\n",
      "Processing Record: 252 for ID: petatlan\n",
      "Processing Record: 253 for ID: sechura\n",
      "Processing Record: 254 for ID: port elizabeth\n",
      "Processing Record: 255 for ID: cabo san lucas\n",
      "Processing Record: 256 for ID: tevriz\n",
      "Processing Record: 257 for ID: naivasha\n",
      "Processing Record: 258 for ID: mantua\n",
      "Processing Record: 259 for ID: nabire\n",
      "Processing Record: 260 for ID: sur\n",
      "Processing Record: 261 for ID: barinas\n",
      "Processing Record: 262 for ID: waipawa\n",
      "Processing Record: 263 for ID: svetlogorsk\n",
      "Processing Record: 264 for ID: lerwick\n",
      "Processing Record: 265 for ID: tuktoyaktuk\n",
      "Processing Record: 266 for ID: broome\n",
      "Processing Record: 267 for ID: ponta do sol\n",
      "Processing Record: 268 for ID: nantucket\n",
      "Processing Record: 269 for ID: east london\n",
      "Processing Record: 270 for ID: bodmin\n",
      "Processing Record: 271 for ID: lambarene\n",
      "Processing Record: 272 for ID: naze\n",
      "Processing Record: 273 for ID: hamilton\n",
      "Processing Record: 274 for ID: pecos\n",
      "Processing Record: 275 for ID: alofi\n",
      "Processing Record: 276 for ID: katangli\n",
      "Processing Record: 277 for ID: colimes\n",
      "Processing Record: 278 for ID: muroto\n",
      "Processing Record: 279 for ID: katsuura\n",
      "Processing Record: 280 for ID: fort saint john\n",
      "Processing Record: 281 for ID: salta\n",
      "Processing Record: 282 for ID: kholtoson\n",
      "Processing Record: 283 for ID: rockport\n",
      "Processing Record: 284 for ID: tursunzoda\n",
      "Processing Record: 285 for ID: luderitz\n",
      "Processing Record: 286 for ID: mahebourg\n",
      "Processing Record: 287 for ID: hay river\n",
      "Processing Record: 288 for ID: hasaki\n",
      "Processing Record: 289 for ID: kavieng\n",
      "Processing Record: 290 for ID: linda\n",
      "Processing Record: 291 for ID: anloga\n",
      "Processing Record: 292 for ID: yamada\n",
      "Processing Record: 293 for ID: airai\n",
      "Processing Record: 294 for ID: busembatia\n",
      "Processing Record: 295 for ID: cedar city\n",
      "Processing Record: 296 for ID: verkhoyansk\n",
      "Processing Record: 297 for ID: helesteni harmaneasa\n",
      "Processing Record: 298 for ID: taoudenni\n",
      "Processing Record: 299 for ID: quatre cocos\n",
      "Processing Record: 300 for ID: dhidhdhoo\n",
      "Processing Record: 301 for ID: san luis\n",
      "Processing Record: 302 for ID: gemena\n",
      "Processing Record: 303 for ID: clyde river\n",
      "Processing Record: 304 for ID: wellesley\n",
      "Processing Record: 305 for ID: trairi\n",
      "Processing Record: 306 for ID: labuhan\n",
      "Processing Record: 307 for ID: galgani\n",
      "Processing Record: 308 for ID: te anau\n",
      "Processing Record: 309 for ID: les cayes\n",
      "Processing Record: 310 for ID: pacific grove\n",
      "Processing Record: 311 for ID: tara\n",
      "Processing Record: 312 for ID: pirgos\n",
      "Processing Record: 313 for ID: tessalit\n",
      "Processing Record: 314 for ID: sabang\n",
      "Processing Record: 315 for ID: guerrero negro\n",
      "Processing Record: 316 for ID: chumikan\n",
      "Processing Record: 317 for ID: muscat\n",
      "Processing Record: 318 for ID: genhe\n",
      "Processing Record: 319 for ID: honiara\n",
      "Processing Record: 320 for ID: portland\n",
      "Processing Record: 321 for ID: ulaanbaatar\n",
      "Processing Record: 322 for ID: iskateley\n",
      "Processing Record: 323 for ID: demyansk\n",
      "Processing Record: 324 for ID: pangai\n",
      "Processing Record: 325 for ID: tyrma\n",
      "Processing Record: 326 for ID: agua verde\n",
      "Processing Record: 327 for ID: wulanhaote\n",
      "Processing Record: 328 for ID: luganville\n",
      "Processing Record: 329 for ID: ozernovskiy\n",
      "Processing Record: 330 for ID: tukrah\n",
      "Processing Record: 331 for ID: tornio\n",
      "Processing Record: 332 for ID: batagay-alyta\n",
      "Processing Record: 333 for ID: kota kinabalu\n",
      "Processing Record: 334 for ID: temaraia\n",
      "Processing Record: 335 for ID: karatau\n",
      "Processing Record: 336 for ID: neiafu\n",
      "Processing Record: 337 for ID: palauig\n",
      "Processing Record: 338 for ID: cap malheureux\n",
      "Processing Record: 339 for ID: nishihara\n",
      "Processing Record: 340 for ID: tatawin\n",
      "Processing Record: 341 for ID: fairbanks\n",
      "Processing Record: 342 for ID: talnakh\n",
      "Processing Record: 343 for ID: whitehorse\n",
      "Processing Record: 344 for ID: hovd\n",
      "Processing Record: 345 for ID: duncan\n",
      "Processing Record: 346 for ID: port augusta\n",
      "Processing Record: 347 for ID: mandalgovi\n",
      "Processing Record: 348 for ID: anadyr\n",
      "Processing Record: 349 for ID: yenagoa\n",
      "Processing Record: 350 for ID: san jose\n",
      "Processing Record: 351 for ID: kamaishi\n",
      "Processing Record: 352 for ID: mezen\n",
      "Processing Record: 353 for ID: manta\n",
      "Processing Record: 354 for ID: kashi\n",
      "Processing Record: 355 for ID: bolungarvik\n",
      "Processing Record: 356 for ID: guicheng\n",
      "Processing Record: 357 for ID: kuche\n",
      "Processing Record: 358 for ID: danville\n",
      "Processing Record: 359 for ID: najran\n",
      "Processing Record: 360 for ID: narsaq\n",
      "Processing Record: 361 for ID: comodoro rivadavia\n",
      "Processing Record: 362 for ID: mogadishu\n",
      "Processing Record: 363 for ID: husavik\n",
      "Processing Record: 364 for ID: mys shmidta\n",
      "Processing Record: 365 for ID: santa maria del oro\n",
      "Processing Record: 366 for ID: siparia\n",
      "Processing Record: 367 for ID: loandjili\n",
      "Processing Record: 368 for ID: aklavik\n",
      "Processing Record: 369 for ID: gambela\n",
      "Processing Record: 370 for ID: tallahassee\n",
      "Processing Record: 371 for ID: praya\n",
      "Processing Record: 372 for ID: ati\n",
      "Processing Record: 373 for ID: ormara\n",
      "Processing Record: 374 for ID: henties bay\n",
      "Processing Record: 375 for ID: qaqortoq\n",
      "Processing Record: 376 for ID: veraval\n",
      "Processing Record: 377 for ID: oranjemund\n",
      "Processing Record: 378 for ID: segou\n",
      "Processing Record: 379 for ID: nome\n",
      "Processing Record: 380 for ID: kuryk\n",
      "Processing Record: 381 for ID: praia da vitoria\n",
      "Processing Record: 382 for ID: sitka\n",
      "Processing Record: 383 for ID: okhotsk\n",
      "Processing Record: 384 for ID: urulga\n",
      "Processing Record: 385 for ID: gamba\n",
      "Processing Record: 386 for ID: kokstad\n",
      "Processing Record: 387 for ID: chekhov\n",
      "Processing Record: 388 for ID: aleksandrov gay\n",
      "Processing Record: 389 for ID: san salvo\n",
      "Processing Record: 390 for ID: magangue\n",
      "Processing Record: 391 for ID: flin flon\n",
      "Processing Record: 392 for ID: faanui\n",
      "Processing Record: 393 for ID: poitiers\n",
      "Processing Record: 394 for ID: sucua\n",
      "Processing Record: 395 for ID: mehran\n",
      "Processing Record: 396 for ID: half moon bay\n",
      "Processing Record: 397 for ID: the valley\n",
      "Processing Record: 398 for ID: englewood\n",
      "Processing Record: 399 for ID: sorland\n",
      "Processing Record: 400 for ID: deputatskiy\n",
      "Processing Record: 401 for ID: khandyga\n",
      "Processing Record: 402 for ID: kerema\n",
      "Processing Record: 403 for ID: sambava\n",
      "Processing Record: 404 for ID: cabedelo\n",
      "Processing Record: 405 for ID: berlevag\n",
      "Processing Record: 406 for ID: guadalupe y calvo\n",
      "Processing Record: 407 for ID: namibe\n",
      "Processing Record: 408 for ID: lolua\n",
      "Processing Record: 409 for ID: ocampo\n",
      "Processing Record: 410 for ID: nueve de julio\n"
     ]
    },
    {
     "name": "stdout",
     "output_type": "stream",
     "text": [
      "Processing Record: 411 for ID: tilichiki\n",
      "Processing Record: 412 for ID: paso de los toros\n",
      "Processing Record: 413 for ID: college\n",
      "Processing Record: 414 for ID: polyarnyy\n",
      "Processing Record: 415 for ID: amapa\n",
      "Processing Record: 416 for ID: ouargaye\n",
      "Processing Record: 417 for ID: rabat\n",
      "Processing Record: 418 for ID: suicheng\n",
      "Processing Record: 419 for ID: sao joao da barra\n",
      "Processing Record: 420 for ID: moratuwa\n",
      "Processing Record: 421 for ID: penzance\n",
      "Processing Record: 422 for ID: klaksvik\n",
      "Processing Record: 423 for ID: carlagan\n",
      "Processing Record: 424 for ID: russell\n",
      "Processing Record: 425 for ID: mentougou\n",
      "Processing Record: 426 for ID: sompeta\n",
      "Processing Record: 427 for ID: evensk\n",
      "Processing Record: 428 for ID: tigzirt\n",
      "Processing Record: 429 for ID: kirkuk\n",
      "Processing Record: 430 for ID: cadillac\n",
      "Processing Record: 431 for ID: iqaluit\n",
      "Processing Record: 432 for ID: kahului\n",
      "Processing Record: 433 for ID: gudalur\n",
      "Processing Record: 434 for ID: sorong\n",
      "Processing Record: 435 for ID: chabahar\n",
      "Processing Record: 436 for ID: plainfield\n",
      "Processing Record: 437 for ID: dryden\n",
      "Processing Record: 438 for ID: bonavista\n",
      "Processing Record: 439 for ID: mangrol\n",
      "Processing Record: 440 for ID: havre-saint-pierre\n",
      "Processing Record: 441 for ID: ajaccio\n",
      "Processing Record: 442 for ID: play cu\n",
      "Processing Record: 443 for ID: severnyy\n",
      "Processing Record: 444 for ID: lucknow\n",
      "Processing Record: 445 for ID: pilar\n",
      "Processing Record: 446 for ID: katsina\n",
      "Processing Record: 447 for ID: mount isa\n",
      "Processing Record: 448 for ID: forssa\n",
      "Processing Record: 449 for ID: mansehra\n",
      "Processing Record: 450 for ID: do gonbadan\n",
      "Processing Record: 451 for ID: troitskoye\n",
      "Processing Record: 452 for ID: yumen\n",
      "Processing Record: 453 for ID: ginir\n",
      "Processing Record: 454 for ID: tulsipur\n",
      "Processing Record: 455 for ID: kodiak\n",
      "Processing Record: 456 for ID: teya\n",
      "Processing Record: 457 for ID: bontang\n",
      "Processing Record: 458 for ID: bonthe\n",
      "Processing Record: 459 for ID: vuktyl\n",
      "Processing Record: 460 for ID: san buenaventura\n",
      "Processing Record: 461 for ID: ivdel\n",
      "Processing Record: 462 for ID: eureka\n",
      "Processing Record: 463 for ID: waingapu\n",
      "Processing Record: 464 for ID: maler kotla\n",
      "Processing Record: 465 for ID: vila velha\n",
      "Processing Record: 466 for ID: okahandja\n",
      "Processing Record: 467 for ID: morondava\n",
      "Processing Record: 468 for ID: puri\n",
      "Processing Record: 469 for ID: oxapampa\n",
      "Processing Record: 470 for ID: grand gaube\n",
      "Processing Record: 471 for ID: karamea\n",
      "Processing Record: 472 for ID: nador\n",
      "Processing Record: 473 for ID: halifax\n",
      "Processing Record: 474 for ID: havelock\n",
      "Processing Record: 475 for ID: porto velho\n",
      "Processing Record: 476 for ID: buraydah\n",
      "Processing Record: 477 for ID: robertsport\n",
      "Processing Record: 478 for ID: inhambane\n",
      "Processing Record: 479 for ID: beidao\n",
      "Processing Record: 480 for ID: celestun\n",
      "Processing Record: 481 for ID: los cedrales\n",
      "Processing Record: 482 for ID: grand-lahou\n",
      "Processing Record: 483 for ID: pimenta bueno\n",
      "Processing Record: 484 for ID: miri\n",
      "Processing Record: 485 for ID: uttaradit\n",
      "Processing Record: 486 for ID: tual\n",
      "Processing Record: 487 for ID: yarmouth\n",
      "Processing Record: 488 for ID: farafangana\n",
      "Processing Record: 489 for ID: saleaula\n",
      "Processing Record: 490 for ID: lingao\n",
      "Processing Record: 491 for ID: luziania\n",
      "Processing Record: 492 for ID: salalah\n",
      "Processing Record: 493 for ID: kang\n",
      "Processing Record: 494 for ID: lyskovo\n",
      "Processing Record: 495 for ID: ibanda\n",
      "Processing Record: 496 for ID: verkhnyaya toyma\n",
      "Processing Record: 497 for ID: lagos\n",
      "Processing Record: 498 for ID: mao\n",
      "Processing Record: 499 for ID: shihezi\n",
      "Processing Record: 500 for ID: cam ranh\n",
      "Processing Record: 501 for ID: savonlinna\n",
      "Processing Record: 502 for ID: yhu\n",
      "Processing Record: 503 for ID: fuerte olimpo\n",
      "Processing Record: 504 for ID: salekhard\n",
      "Processing Record: 505 for ID: mayumba\n",
      "Processing Record: 506 for ID: sidrolandia\n",
      "Processing Record: 507 for ID: garden city\n",
      "Processing Record: 508 for ID: port blair\n",
      "Processing Record: 509 for ID: kualakapuas\n",
      "Processing Record: 510 for ID: olinda\n",
      "Processing Record: 511 for ID: piedade\n",
      "Processing Record: 512 for ID: shingu\n",
      "Processing Record: 513 for ID: sao sebastiao\n",
      "Processing Record: 514 for ID: blonie\n",
      "Processing Record: 515 for ID: tucuman\n",
      "Processing Record: 516 for ID: kavaratti\n",
      "Processing Record: 517 for ID: tomaszow mazowiecki\n",
      "Processing Record: 518 for ID: pisco\n",
      "Processing Record: 519 for ID: vadnagar\n",
      "Processing Record: 520 for ID: rongcheng\n",
      "Processing Record: 521 for ID: manzanares\n",
      "Processing Record: 522 for ID: varhaug\n",
      "Processing Record: 523 for ID: zarate\n",
      "Processing Record: 524 for ID: berdigestyakh\n",
      "Processing Record: 525 for ID: padang\n",
      "Processing Record: 526 for ID: garissa\n",
      "Processing Record: 527 for ID: teknaf\n",
      "Processing Record: 528 for ID: puerto escondido\n",
      "Processing Record: 529 for ID: la macarena\n",
      "Processing Record: 530 for ID: jabinyanah\n",
      "Processing Record: 531 for ID: tagusao\n",
      "Processing Record: 532 for ID: zyryanka\n",
      "Processing Record: 533 for ID: teluk nibung\n",
      "Processing Record: 534 for ID: paidha\n",
      "Processing Record: 535 for ID: la rioja\n",
      "Processing Record: 536 for ID: progreso\n",
      "Processing Record: 537 for ID: kjollefjord\n",
      "Processing Record: 538 for ID: astana\n",
      "Processing Record: 539 for ID: limbang\n",
      "Processing Record: 540 for ID: fevralsk\n",
      "Processing Record: 541 for ID: loreto\n",
      "Processing Record: 542 for ID: mundo nuevo\n",
      "Processing Record: 543 for ID: almeirim\n",
      "Processing Record: 544 for ID: banjar\n",
      "Processing Record: 545 for ID: umm bab\n",
      "Processing Record: 546 for ID: otake\n",
      "Processing Record: 547 for ID: atka\n",
      "Processing Record: 548 for ID: kannangad\n",
      "Processing Record: 549 for ID: ixtapa\n",
      "Processing Record: 550 for ID: kremenki\n",
      "Processing Record: 551 for ID: wielun\n",
      "Processing Record: 552 for ID: jardim\n",
      "Processing Record: 553 for ID: aksha\n",
      "Processing Record: 554 for ID: karkaralinsk\n",
      "Processing Record: 555 for ID: niksar\n",
      "Processing Record: 556 for ID: lagoa\n",
      "Processing Record: 557 for ID: avera\n",
      "Processing Record: 558 for ID: lisakovsk\n",
      "Processing Record: 559 for ID: palora\n",
      "Processing Record: 560 for ID: samur\n",
      "Processing Record: 561 for ID: sisimiut\n",
      "Processing Record: 562 for ID: kindu\n",
      "Processing Record: 563 for ID: cortez\n",
      "Processing Record: 564 for ID: chaohu\n",
      "Processing Record: 565 for ID: puerto asis\n",
      "Processing Record: 566 for ID: lansing\n",
      "Processing Record: 567 for ID: necochea\n",
      "Processing Record: 568 for ID: butembo\n",
      "Processing Record: 569 for ID: satitoa\n",
      "Processing Record: 570 for ID: saskylakh\n",
      "Processing Record: 571 for ID: brae\n",
      "Processing Record: 572 for ID: payo\n",
      "Processing Record: 573 for ID: alyangula\n",
      "Processing Record: 574 for ID: methoni\n",
      "Processing Record: 575 for ID: puerto del rosario\n",
      "Processing Record: 576 for ID: iwanai\n",
      "Processing Record: 577 for ID: inuvik\n",
      "Processing Record: 578 for ID: seydi\n",
      "Processing Record: 579 for ID: port keats\n",
      "Processing Record: 580 for ID: saint-augustin\n",
      "Processing Record: 581 for ID: hami\n",
      "Processing Record: 582 for ID: jinchang\n",
      "Processing Record: 583 for ID: nara\n",
      "Processing Record: 584 for ID: ondorhaan\n",
      "Processing Record: 585 for ID: esil\n",
      "Processing Record: 586 for ID: grindavik\n",
      "Processing Record: 587 for ID: xitla\n",
      "Processing Record: 588 for ID: ciudad real\n",
      "Processing Record: 589 for ID: santa maria\n",
      "Processing Record: 590 for ID: hirata\n",
      "Processing Record: 591 for ID: karratha\n",
      "Processing Record: 592 for ID: opuwo\n",
      "Processing Record: 593 for ID: sault sainte marie\n",
      "Processing Record: 594 for ID: chateauroux\n",
      "Processing Record: 595 for ID: yokadouma\n",
      "Processing Record: 596 for ID: ilo\n",
      "Processing Record: 597 for ID: lazaro cardenas\n",
      "Processing Record: 598 for ID: sabha\n",
      "Processing Record: 599 for ID: anzhero-sudzhensk\n",
      "Processing Record: 600 for ID: sao jose da coroa grande\n",
      "Processing Record: 601 for ID: galle\n",
      "Processing Record: 602 for ID: abnub\n",
      "Processing Record: 603 for ID: bartica\n",
      "Processing Record: 604 for ID: havre\n",
      "Processing Record: 605 for ID: yerbogachen\n",
      "Processing Record: 606 for ID: marystown\n",
      "Processing Record: 607 for ID: bjorkelangen\n",
      "Processing Record: 608 for ID: matara\n"
     ]
    }
   ],
   "source": [
    "# 'http://api.openweathermap.org/data/2.5/weather?appid=194c964e5a1a1183aaa918d387570b66&q=Bujumbura&units=metric'\n",
    "\n",
    "#from config import weather_key\n",
    "\n",
    "# Build URL\n",
    "url = \"http://api.openweathermap.org/data/2.5/weather?appid=\" + weather_key + \"&q=\"\n",
    "\n",
    "# create list\n",
    "responses = []\n",
    "\n",
    "# Make a request for each city\n",
    "for x in range(len(cities)):\n",
    "    print(f\"Processing Record: {x} for ID: {cities[x]}\")\n",
    "\n",
    "    # Get one of the posts\n",
    "    post_response = requests.get(url + str(cities[x]))\n",
    "\n",
    "    # Save post's JSON\n",
    "    responses.append(post_response.json())\n",
    "    \n"
   ]
  },
  {
   "cell_type": "markdown",
   "metadata": {},
   "source": [
    "### Convert Raw Data to DataFrame\n",
    "* Export the city data into a .csv.\n",
    "* Display the DataFrame"
   ]
  },
  {
   "cell_type": "code",
   "execution_count": 4,
   "metadata": {},
   "outputs": [],
   "source": [
    "# Build query URL and request your results in Celsius\n",
    "\n",
    "url = \"http://api.openweathermap.org/data/2.5/weather?appid=\" + weather_key + \"&q=\"\n",
    "units = \"&units=imperial\"\n",
    "\n",
    "# create lists\n",
    "lat = []\n",
    "lng = []\n",
    "max_temp = []\n",
    "hum = []\n",
    "cloud = []\n",
    "wind = []\n",
    "country = []\n",
    "date = []\n",
    "\n",
    "for city in cities:\n",
    "    \n",
    "    # Create search query, make request and store in json\n",
    "    \n",
    "    response = requests.get(url + city + units)\n",
    "    response_json = response.json()\n",
    "    \n",
    "    try:\n",
    "        \n",
    "        lat.append(response_json['coord']['lat'])\n",
    "        lng.append(response_json['coord']['lon'])\n",
    "        max_temp.append(response_json['main']['temp_max'])\n",
    "        hum.append(response_json['main']['humidity'])\n",
    "        cloud.append(response_json['clouds']['all'])\n",
    "        wind.append(response_json['wind']['speed'])\n",
    "        country.append(response_json['sys']['country'])\n",
    "        date.append(response_json['dt'])\n",
    "\n",
    "    except:\n",
    "        # Append null values       \n",
    "        lat.append(None)\n",
    "        lng.append(None)\n",
    "        max_temp.append(None)\n",
    "        hum.append(None)\n",
    "        cloud.append(None)\n",
    "        wind.append(None)\n",
    "        country.append(None)\n",
    "        date.append(None)\n",
    "        \n",
    "# create dataframe\n",
    "city_data = pd.DataFrame({\n",
    "    \"City\": cities,\n",
    "    \"Latitude\": lat,\n",
    "    \"Longitude\": lng,\n",
    "    \"Max_Temp\": max_temp,\n",
    "    \"Humidity\": hum,\n",
    "    \"Cloudy\": cloud,\n",
    "    \"Wind\": wind,\n",
    "    \"Country\": country,\n",
    "    \"Date\": date\n",
    "})\n",
    "\n",
    "# Drop values with NaN and None values.\n",
    "city_data.dropna(inplace = True) \n",
    "\n"
   ]
  },
  {
   "cell_type": "code",
   "execution_count": 5,
   "metadata": {},
   "outputs": [
    {
     "data": {
      "text/html": [
       "<div>\n",
       "<style scoped>\n",
       "    .dataframe tbody tr th:only-of-type {\n",
       "        vertical-align: middle;\n",
       "    }\n",
       "\n",
       "    .dataframe tbody tr th {\n",
       "        vertical-align: top;\n",
       "    }\n",
       "\n",
       "    .dataframe thead th {\n",
       "        text-align: right;\n",
       "    }\n",
       "</style>\n",
       "<table border=\"1\" class=\"dataframe\">\n",
       "  <thead>\n",
       "    <tr style=\"text-align: right;\">\n",
       "      <th></th>\n",
       "      <th>City</th>\n",
       "      <th>Latitude</th>\n",
       "      <th>Longitude</th>\n",
       "      <th>Max_Temp</th>\n",
       "      <th>Humidity</th>\n",
       "      <th>Cloudy</th>\n",
       "      <th>Wind</th>\n",
       "      <th>Country</th>\n",
       "      <th>Date</th>\n",
       "    </tr>\n",
       "  </thead>\n",
       "  <tbody>\n",
       "    <tr>\n",
       "      <th>1</th>\n",
       "      <td>collie</td>\n",
       "      <td>-33.37</td>\n",
       "      <td>116.15</td>\n",
       "      <td>46.0</td>\n",
       "      <td>63.0</td>\n",
       "      <td>0.0</td>\n",
       "      <td>4.38</td>\n",
       "      <td>AU</td>\n",
       "      <td>1.592659e+09</td>\n",
       "    </tr>\n",
       "    <tr>\n",
       "      <th>2</th>\n",
       "      <td>yulara</td>\n",
       "      <td>-25.24</td>\n",
       "      <td>130.99</td>\n",
       "      <td>53.6</td>\n",
       "      <td>44.0</td>\n",
       "      <td>0.0</td>\n",
       "      <td>8.05</td>\n",
       "      <td>AU</td>\n",
       "      <td>1.592659e+09</td>\n",
       "    </tr>\n",
       "    <tr>\n",
       "      <th>3</th>\n",
       "      <td>westport</td>\n",
       "      <td>41.14</td>\n",
       "      <td>-73.36</td>\n",
       "      <td>75.0</td>\n",
       "      <td>83.0</td>\n",
       "      <td>1.0</td>\n",
       "      <td>4.70</td>\n",
       "      <td>US</td>\n",
       "      <td>1.592659e+09</td>\n",
       "    </tr>\n",
       "    <tr>\n",
       "      <th>4</th>\n",
       "      <td>ahome</td>\n",
       "      <td>25.92</td>\n",
       "      <td>-109.18</td>\n",
       "      <td>72.0</td>\n",
       "      <td>90.0</td>\n",
       "      <td>25.0</td>\n",
       "      <td>3.00</td>\n",
       "      <td>MX</td>\n",
       "      <td>1.592659e+09</td>\n",
       "    </tr>\n",
       "    <tr>\n",
       "      <th>5</th>\n",
       "      <td>cape town</td>\n",
       "      <td>-33.93</td>\n",
       "      <td>18.42</td>\n",
       "      <td>66.0</td>\n",
       "      <td>77.0</td>\n",
       "      <td>75.0</td>\n",
       "      <td>11.41</td>\n",
       "      <td>ZA</td>\n",
       "      <td>1.592659e+09</td>\n",
       "    </tr>\n",
       "  </tbody>\n",
       "</table>\n",
       "</div>"
      ],
      "text/plain": [
       "        City  Latitude  Longitude  Max_Temp  Humidity  Cloudy   Wind Country  \\\n",
       "1     collie    -33.37     116.15      46.0      63.0     0.0   4.38      AU   \n",
       "2     yulara    -25.24     130.99      53.6      44.0     0.0   8.05      AU   \n",
       "3   westport     41.14     -73.36      75.0      83.0     1.0   4.70      US   \n",
       "4      ahome     25.92    -109.18      72.0      90.0    25.0   3.00      MX   \n",
       "5  cape town    -33.93      18.42      66.0      77.0    75.0  11.41      ZA   \n",
       "\n",
       "           Date  \n",
       "1  1.592659e+09  \n",
       "2  1.592659e+09  \n",
       "3  1.592659e+09  \n",
       "4  1.592659e+09  \n",
       "5  1.592659e+09  "
      ]
     },
     "execution_count": 5,
     "metadata": {},
     "output_type": "execute_result"
    }
   ],
   "source": [
    "city_data.head()\n"
   ]
  },
  {
   "cell_type": "code",
   "execution_count": 6,
   "metadata": {},
   "outputs": [],
   "source": [
    "# Export the City_Data into a csv\n",
    "city_data.to_csv (\"../output_data/City_Weather.csv\", index = False, header=True)\n"
   ]
  },
  {
   "cell_type": "markdown",
   "metadata": {},
   "source": [
    "## Inspect the data and remove the cities where the humidity > 100%.\n",
    "----\n",
    "Skip this step if there are no cities that have humidity > 100%. "
   ]
  },
  {
   "cell_type": "code",
   "execution_count": 7,
   "metadata": {},
   "outputs": [
    {
     "data": {
      "text/html": [
       "<div>\n",
       "<style scoped>\n",
       "    .dataframe tbody tr th:only-of-type {\n",
       "        vertical-align: middle;\n",
       "    }\n",
       "\n",
       "    .dataframe tbody tr th {\n",
       "        vertical-align: top;\n",
       "    }\n",
       "\n",
       "    .dataframe thead th {\n",
       "        text-align: right;\n",
       "    }\n",
       "</style>\n",
       "<table border=\"1\" class=\"dataframe\">\n",
       "  <thead>\n",
       "    <tr style=\"text-align: right;\">\n",
       "      <th></th>\n",
       "      <th>Latitude</th>\n",
       "      <th>Longitude</th>\n",
       "      <th>Max_Temp</th>\n",
       "      <th>Humidity</th>\n",
       "      <th>Cloudy</th>\n",
       "      <th>Wind</th>\n",
       "      <th>Date</th>\n",
       "    </tr>\n",
       "  </thead>\n",
       "  <tbody>\n",
       "    <tr>\n",
       "      <th>count</th>\n",
       "      <td>570.000000</td>\n",
       "      <td>570.000000</td>\n",
       "      <td>570.000000</td>\n",
       "      <td>570.000000</td>\n",
       "      <td>570.000000</td>\n",
       "      <td>570.000000</td>\n",
       "      <td>5.700000e+02</td>\n",
       "    </tr>\n",
       "    <tr>\n",
       "      <th>mean</th>\n",
       "      <td>20.750649</td>\n",
       "      <td>17.974333</td>\n",
       "      <td>70.866175</td>\n",
       "      <td>67.185965</td>\n",
       "      <td>46.042105</td>\n",
       "      <td>8.175123</td>\n",
       "      <td>1.592659e+09</td>\n",
       "    </tr>\n",
       "    <tr>\n",
       "      <th>std</th>\n",
       "      <td>32.882490</td>\n",
       "      <td>89.647287</td>\n",
       "      <td>15.279676</td>\n",
       "      <td>23.153734</td>\n",
       "      <td>39.323877</td>\n",
       "      <td>5.537037</td>\n",
       "      <td>5.847017e+01</td>\n",
       "    </tr>\n",
       "    <tr>\n",
       "      <th>min</th>\n",
       "      <td>-54.800000</td>\n",
       "      <td>-175.200000</td>\n",
       "      <td>32.000000</td>\n",
       "      <td>3.000000</td>\n",
       "      <td>0.000000</td>\n",
       "      <td>0.290000</td>\n",
       "      <td>1.592659e+09</td>\n",
       "    </tr>\n",
       "    <tr>\n",
       "      <th>25%</th>\n",
       "      <td>-5.210000</td>\n",
       "      <td>-59.397500</td>\n",
       "      <td>59.000000</td>\n",
       "      <td>55.250000</td>\n",
       "      <td>1.000000</td>\n",
       "      <td>4.067500</td>\n",
       "      <td>1.592659e+09</td>\n",
       "    </tr>\n",
       "    <tr>\n",
       "      <th>50%</th>\n",
       "      <td>25.210000</td>\n",
       "      <td>22.330000</td>\n",
       "      <td>73.480000</td>\n",
       "      <td>73.000000</td>\n",
       "      <td>40.000000</td>\n",
       "      <td>6.910000</td>\n",
       "      <td>1.592659e+09</td>\n",
       "    </tr>\n",
       "    <tr>\n",
       "      <th>75%</th>\n",
       "      <td>47.985000</td>\n",
       "      <td>96.107500</td>\n",
       "      <td>80.792500</td>\n",
       "      <td>83.000000</td>\n",
       "      <td>90.000000</td>\n",
       "      <td>11.410000</td>\n",
       "      <td>1.592659e+09</td>\n",
       "    </tr>\n",
       "    <tr>\n",
       "      <th>max</th>\n",
       "      <td>78.220000</td>\n",
       "      <td>178.420000</td>\n",
       "      <td>114.530000</td>\n",
       "      <td>100.000000</td>\n",
       "      <td>100.000000</td>\n",
       "      <td>47.180000</td>\n",
       "      <td>1.592659e+09</td>\n",
       "    </tr>\n",
       "  </tbody>\n",
       "</table>\n",
       "</div>"
      ],
      "text/plain": [
       "         Latitude   Longitude    Max_Temp    Humidity      Cloudy        Wind  \\\n",
       "count  570.000000  570.000000  570.000000  570.000000  570.000000  570.000000   \n",
       "mean    20.750649   17.974333   70.866175   67.185965   46.042105    8.175123   \n",
       "std     32.882490   89.647287   15.279676   23.153734   39.323877    5.537037   \n",
       "min    -54.800000 -175.200000   32.000000    3.000000    0.000000    0.290000   \n",
       "25%     -5.210000  -59.397500   59.000000   55.250000    1.000000    4.067500   \n",
       "50%     25.210000   22.330000   73.480000   73.000000   40.000000    6.910000   \n",
       "75%     47.985000   96.107500   80.792500   83.000000   90.000000   11.410000   \n",
       "max     78.220000  178.420000  114.530000  100.000000  100.000000   47.180000   \n",
       "\n",
       "               Date  \n",
       "count  5.700000e+02  \n",
       "mean   1.592659e+09  \n",
       "std    5.847017e+01  \n",
       "min    1.592659e+09  \n",
       "25%    1.592659e+09  \n",
       "50%    1.592659e+09  \n",
       "75%    1.592659e+09  \n",
       "max    1.592659e+09  "
      ]
     },
     "execution_count": 7,
     "metadata": {},
     "output_type": "execute_result"
    }
   ],
   "source": [
    "# Check Max Humidity \n",
    "\n",
    "city_data.describe()\n"
   ]
  },
  {
   "cell_type": "code",
   "execution_count": 8,
   "metadata": {},
   "outputs": [
    {
     "name": "stdout",
     "output_type": "stream",
     "text": [
      "No data with humidity > 100%.  Max Humidity is 100%\n"
     ]
    }
   ],
   "source": [
    "#  Get the indices of cities that have humidity over 100%.\n",
    "\n",
    "print(\"No data with humidity > 100%.  Max Humidity is 100%\")\n"
   ]
  },
  {
   "cell_type": "code",
   "execution_count": 9,
   "metadata": {},
   "outputs": [
    {
     "name": "stdout",
     "output_type": "stream",
     "text": [
      "No data with humidity > 100%.  Max Humidity is 100%\n"
     ]
    }
   ],
   "source": [
    "# Make a new DataFrame equal to the city data to drop all humidity outliers by index.\n",
    "# Passing \"inplace=False\" will make a copy of the city_data DataFrame, which we call \"clean_city_data\".\n",
    "\n",
    "\n",
    "print(\"No data with humidity > 100%.  Max Humidity is 100%\")\n"
   ]
  },
  {
   "cell_type": "markdown",
   "metadata": {},
   "source": [
    "## Plotting the Data\n",
    "* Use proper labeling of the plots using plot titles (including date of analysis) and axes labels.\n",
    "* Save the plotted figures as .pngs."
   ]
  },
  {
   "cell_type": "markdown",
   "metadata": {},
   "source": [
    "## Latitude vs. Temperature Plot"
   ]
  },
  {
   "cell_type": "code",
   "execution_count": 12,
   "metadata": {
    "scrolled": true
   },
   "outputs": [
    {
     "data": {
      "image/png": "[encoded data removed]",
      "text/plain": [
       "<Figure size 432x288 with 1 Axes>"
      ]
     },
     "metadata": {
      "needs_background": "light"
     },
     "output_type": "display_data"
    }
   ],
   "source": [
    "x_values = city_data['Latitude']\n",
    "y_values = city_data['Max_Temp']\n",
    "\n",
    "# Display Plot\n",
    "plt.scatter(x_values,y_values)\n",
    "\n",
    "plt.title(\"City Latitude vs. Max Temperature (6/20/20)\")\n",
    "plt.xlabel('Latitude')\n",
    "plt.ylabel('Max Temperature (F)')\n",
    "plt.savefig(\"../output_data/LatitudevsTemperatureAll.png\")\n",
    "plt.show()\n"
   ]
  },
  {
   "cell_type": "code",
   "execution_count": 13,
   "metadata": {},
   "outputs": [
    {
     "name": "stdout",
     "output_type": "stream",
     "text": [
      "On the X axis the 0 point represents the equator.  As we get closer to the equator from the south (-60) and from the north (80) the temperature increases.\n"
     ]
    }
   ],
   "source": [
    "print(\"On the X axis the 0 point represents the equator.  As we get closer to the equator from the south (-60) and from the north (80) the temperature increases.\")"
   ]
  },
  {
   "cell_type": "markdown",
   "metadata": {},
   "source": [
    "## Latitude vs. Humidity Plot"
   ]
  },
  {
   "cell_type": "code",
   "execution_count": 14,
   "metadata": {},
   "outputs": [
    {
     "data": {
      "image/png": "[encoded data removed]",
      "text/plain": [
       "<Figure size 432x288 with 1 Axes>"
      ]
     },
     "metadata": {
      "needs_background": "light"
     },
     "output_type": "display_data"
    }
   ],
   "source": [
    "x_values = city_data['Latitude']\n",
    "y_values = city_data['Humidity']\n",
    "\n",
    "# Display Plot\n",
    "plt.scatter(x_values,y_values)\n",
    "\n",
    "plt.title(\"City Latitude vs. Humidity (6/20/20)\")\n",
    "plt.xlabel('Latitude')\n",
    "plt.ylabel('Humidity (%)')\n",
    "plt.savefig(\"../output_data/LatitudevsHumidityAll.png\")\n",
    "plt.show()"
   ]
  },
  {
   "cell_type": "code",
   "execution_count": 15,
   "metadata": {},
   "outputs": [
    {
     "name": "stdout",
     "output_type": "stream",
     "text": [
      "There is no relationship between latitude and humidity.  Humidity is pretty uniform as you travel the X axis\n"
     ]
    }
   ],
   "source": [
    "print(\"There is no relationship between latitude and humidity.  Humidity is pretty uniform as you travel the X axis\")"
   ]
  },
  {
   "cell_type": "markdown",
   "metadata": {},
   "source": [
    "## Latitude vs. Cloudiness Plot"
   ]
  },
  {
   "cell_type": "code",
   "execution_count": 16,
   "metadata": {},
   "outputs": [
    {
     "data": {
      "image/png": "[encoded data removed]",
      "text/plain": [
       "<Figure size 432x288 with 1 Axes>"
      ]
     },
     "metadata": {
      "needs_background": "light"
     },
     "output_type": "display_data"
    }
   ],
   "source": [
    "x_values = city_data['Latitude']\n",
    "y_values = city_data['Cloudy']\n",
    "\n",
    "# Display Plot\n",
    "plt.scatter(x_values,y_values)\n",
    "\n",
    "plt.title(\"City Latitude vs. Cloudiness (6/20/20)\")\n",
    "plt.xlabel('Latitude')\n",
    "plt.ylabel('Cloudiness (%)')\n",
    "plt.savefig(\"../output_data/LatitudevsCloudinessAll.png\")\n",
    "plt.show()"
   ]
  },
  {
   "cell_type": "code",
   "execution_count": 17,
   "metadata": {},
   "outputs": [
    {
     "name": "stdout",
     "output_type": "stream",
     "text": [
      "There appears to be no relationship between latitude and cloudiness.  Cloudiness is pretty uniform as you travel the X axis\n"
     ]
    }
   ],
   "source": [
    "print(\"There appears to be no relationship between latitude and cloudiness.  Cloudiness is pretty uniform as you travel the X axis\")"
   ]
  },
  {
   "cell_type": "markdown",
   "metadata": {},
   "source": [
    "## Latitude vs. Wind Speed Plot"
   ]
  },
  {
   "cell_type": "code",
   "execution_count": 18,
   "metadata": {},
   "outputs": [
    {
     "data": {
      "image/png": "[encoded data removed]",
      "text/plain": [
       "<Figure size 432x288 with 1 Axes>"
      ]
     },
     "metadata": {
      "needs_background": "light"
     },
     "output_type": "display_data"
    }
   ],
   "source": [
    "x_values = city_data['Latitude']\n",
    "y_values = city_data['Wind']\n",
    "\n",
    "# Display Plot\n",
    "plt.scatter(x_values,y_values)\n",
    "\n",
    "plt.title(\"City Latitude vs. Wind (6/20/20)\")\n",
    "plt.xlabel('Latitude')\n",
    "plt.ylabel('Wind Speed (mph)')\n",
    "plt.savefig(\"../output_data/LatitudevsWindSpeedAll.png\")\n",
    "plt.show()"
   ]
  },
  {
   "cell_type": "code",
   "execution_count": 19,
   "metadata": {},
   "outputs": [
    {
     "name": "stdout",
     "output_type": "stream",
     "text": [
      "There appears to be no relationship between latitude and wind.  Wind is pretty uniform as you travel the X axis\n"
     ]
    }
   ],
   "source": [
    "print(\"There appears to be no relationship between latitude and wind.  Wind is pretty uniform as you travel the X axis\")"
   ]
  },
  {
   "cell_type": "markdown",
   "metadata": {},
   "source": [
    "## Linear Regression"
   ]
  },
  {
   "cell_type": "code",
   "execution_count": 20,
   "metadata": {},
   "outputs": [],
   "source": [
    "# OPTIONAL: Create a function to create Linear Regression plots"
   ]
  },
  {
   "cell_type": "code",
   "execution_count": 21,
   "metadata": {},
   "outputs": [],
   "source": [
    "# Create Northern Hemisphere Dataframe\n",
    "north_hem_data = city_data.loc[(city_data['Latitude']>=0)]\n",
    "\n",
    "# Extract relevant fields from the data frame to lists\n",
    "\n",
    "# Create Souther Hemisphere Dataframe\n",
    "south_hem_data = city_data.loc[(city_data['Latitude']<0)]\n",
    "\n"
   ]
  },
  {
   "cell_type": "markdown",
   "metadata": {},
   "source": [
    "####  Northern Hemisphere - Max Temp vs. Latitude Linear Regression"
   ]
  },
  {
   "cell_type": "code",
   "execution_count": 22,
   "metadata": {},
   "outputs": [
    {
     "data": {
      "image/png": "[encoded data removed]",
      "text/plain": [
       "<Figure size 432x288 with 1 Axes>"
      ]
     },
     "metadata": {
      "needs_background": "light"
     },
     "output_type": "display_data"
    }
   ],
   "source": [
    "# Draw Scatter Plot for Northern Hem.\n",
    "x_values = north_hem_data['Latitude']\n",
    "y_values = north_hem_data['Max_Temp']\n",
    "\n",
    "# Display Plot\n",
    "plt.scatter(x_values,y_values)\n",
    "plt.title(\"Northern Hemisphere - Max Temp vs. Latitude (6/20/20)\")\n",
    "plt.xlabel('Latitude')\n",
    "plt.ylabel('Max Temp')\n",
    "plt.show()\n"
   ]
  },
  {
   "cell_type": "code",
   "execution_count": 23,
   "metadata": {},
   "outputs": [
    {
     "name": "stdout",
     "output_type": "stream",
     "text": [
      "In the Northern Hemisphere, the further you get away from the equator (0 on the X axis) the temperature decreases\n"
     ]
    }
   ],
   "source": [
    "print(\"In the Northern Hemisphere, the further you get away from the equator (0 on the X axis) the temperature decreases\")"
   ]
  },
  {
   "cell_type": "code",
   "execution_count": 24,
   "metadata": {},
   "outputs": [
    {
     "data": {
      "image/png": "[encoded data removed]",
      "text/plain": [
       "<Figure size 432x288 with 1 Axes>"
      ]
     },
     "metadata": {
      "needs_background": "light"
     },
     "output_type": "display_data"
    }
   ],
   "source": [
    "# Perform a linear regression on latitude versus Max Temp\n",
    "\n",
    "x_values = north_hem_data['Latitude']\n",
    "y_values = north_hem_data['Max_Temp']\n",
    "(slope, intercept, rvalue, pvalue, stderr) = linregress(x_values, y_values)\n",
    "regress_values = x_values * slope + intercept\n",
    "line_eq = \"y = \" + str(round(slope,2)) + \"x + \" + str(round(intercept,2))\n",
    "plt.scatter(x_values,y_values)\n",
    "plt.plot(x_values,regress_values,\"r-\")\n",
    "plt.annotate(line_eq,(0,50),fontsize=15,color=\"red\")\n",
    "\n",
    "plt.title(\"Northern Hemisphere - Max Temp vs. Latitude (6/20/20)\")\n",
    "plt.xlabel('Latitude')\n",
    "plt.ylabel('Max_Temp (F)')\n",
    "plt.savefig(\"../output_data/LatitudevsTemperatureNorth.png\")\n",
    "plt.show()"
   ]
  },
  {
   "cell_type": "code",
   "execution_count": 25,
   "metadata": {},
   "outputs": [
    {
     "name": "stdout",
     "output_type": "stream",
     "text": [
      "The r value is: -0.6546818167732021\n",
      "The r-squared is: 0.4286082812134606\n",
      "There is a Moderate Negative Strength of Correlation between Max Temp and Latitude in the Northern Hemisphere\n"
     ]
    }
   ],
   "source": [
    "print(f\"The r value is: {rvalue}\")\n",
    "print(f\"The r-squared is: {rvalue**2}\")\n",
    "\n",
    "print(\"There is a Moderate Negative Strength of Correlation between Max Temp and Latitude in the Northern Hemisphere\")"
   ]
  },
  {
   "cell_type": "markdown",
   "metadata": {},
   "source": [
    "####  Southern Hemisphere - Max Temp vs. Latitude Linear Regression"
   ]
  },
  {
   "cell_type": "code",
   "execution_count": 26,
   "metadata": {},
   "outputs": [
    {
     "data": {
      "image/png": "[encoded data removed]",
      "text/plain": [
       "<Figure size 432x288 with 1 Axes>"
      ]
     },
     "metadata": {
      "needs_background": "light"
     },
     "output_type": "display_data"
    }
   ],
   "source": [
    "# Draw Scatter Plot for Southern Hem.\n",
    "\n",
    "x_values = south_hem_data['Latitude']\n",
    "y_values = south_hem_data['Max_Temp']\n",
    "(slope, intercept, rvalue, pvalue, stderr) = linregress(x_values, y_values)\n",
    "regress_values = x_values * slope + intercept\n",
    "line_eq = \"y = \" + str(round(slope,2)) + \"x + \" + str(round(intercept,2))\n",
    "plt.scatter(x_values,y_values)\n",
    "plt.plot(x_values,regress_values,\"r-\")\n",
    "plt.annotate(line_eq,(0,50),fontsize=15,color=\"red\")\n",
    "\n",
    "plt.title(\"Southern Hemisphere - Max Temp vs. Latitude (6/20/20)\")\n",
    "plt.xlabel('Latitude')\n",
    "plt.ylabel('Max_Temp (F)')\n",
    "plt.savefig(\"../output_data/LatitudevsTemperatureSouth.png\")\n",
    "plt.show()\n"
   ]
  },
  {
   "cell_type": "code",
   "execution_count": 27,
   "metadata": {},
   "outputs": [
    {
     "name": "stdout",
     "output_type": "stream",
     "text": [
      "The r value is: 0.7868620344496671\n",
      "The r-squared is: 0.619151861258269\n",
      "There is a Moderate Positive Strength of Correlation between Max Temp and Latitude in the Southern Hemisphere\n"
     ]
    }
   ],
   "source": [
    "print(f\"The r value is: {rvalue}\")\n",
    "print(f\"The r-squared is: {rvalue**2}\")\n",
    "\n",
    "print(\"There is a Moderate Positive Strength of Correlation between Max Temp and Latitude in the Southern Hemisphere\")"
   ]
  },
  {
   "cell_type": "markdown",
   "metadata": {},
   "source": [
    "####  Northern Hemisphere - Humidity (%) vs. Latitude Linear Regression"
   ]
  },
  {
   "cell_type": "code",
   "execution_count": 28,
   "metadata": {},
   "outputs": [
    {
     "data": {
      "image/png": "[encoded data removed]",
      "text/plain": [
       "<Figure size 432x288 with 1 Axes>"
      ]
     },
     "metadata": {
      "needs_background": "light"
     },
     "output_type": "display_data"
    }
   ],
   "source": [
    "# Draw Scatter Plot for Northern Hem.\n",
    "\n",
    "x_values = north_hem_data['Latitude']\n",
    "y_values = north_hem_data['Humidity']\n",
    "(slope, intercept, rvalue, pvalue, stderr) = linregress(x_values, y_values)\n",
    "regress_values = x_values * slope + intercept\n",
    "line_eq = \"y = \" + str(round(slope,2)) + \"x + \" + str(round(intercept,2))\n",
    "plt.scatter(x_values,y_values)\n",
    "plt.plot(x_values,regress_values,\"r-\")\n",
    "plt.annotate(line_eq,(0,50),fontsize=15,color=\"red\")\n",
    "\n",
    "plt.title(\"Northern Hemisphere - Humidity (%) vs. Latitude (6/20/20)\")\n",
    "plt.xlabel('Latitude')\n",
    "plt.ylabel('Humidity (%)')\n",
    "plt.savefig(\"../output_data/LatitudevsHumidityNorth.png\")\n",
    "plt.show()\n"
   ]
  },
  {
   "cell_type": "code",
   "execution_count": 29,
   "metadata": {},
   "outputs": [
    {
     "name": "stdout",
     "output_type": "stream",
     "text": [
      "The r value is: -0.04289006878128029\n",
      "The r-squared is: 0.0018395580000629538\n",
      "There is a Weak Negative Strength of Correlation between Humidity and Latitude in the Northern Hemisphere\n"
     ]
    }
   ],
   "source": [
    "print(f\"The r value is: {rvalue}\")\n",
    "print(f\"The r-squared is: {rvalue**2}\")\n",
    "\n",
    "print(\"There is a Weak Negative Strength of Correlation between Humidity and Latitude in the Northern Hemisphere\")"
   ]
  },
  {
   "cell_type": "markdown",
   "metadata": {},
   "source": [
    "####  Southern Hemisphere - Humidity (%) vs. Latitude Linear Regression"
   ]
  },
  {
   "cell_type": "code",
   "execution_count": 30,
   "metadata": {},
   "outputs": [
    {
     "data": {
      "image/png": "[encoded data removed]",
      "text/plain": [
       "<Figure size 432x288 with 1 Axes>"
      ]
     },
     "metadata": {
      "needs_background": "light"
     },
     "output_type": "display_data"
    }
   ],
   "source": [
    "# Draw Scatter Plot for Northern Hem.\n",
    "x_values = south_hem_data['Latitude']\n",
    "y_values = south_hem_data['Humidity']\n",
    "\n",
    "(slope, intercept, rvalue, pvalue, stderr) = linregress(x_values, y_values)\n",
    "regress_values = x_values * slope + intercept\n",
    "line_eq = \"y = \" + str(round(slope,2)) + \"x + \" + str(round(intercept,2))\n",
    "\n",
    "plt.scatter(x_values,y_values)\n",
    "plt.plot(x_values,regress_values,\"r-\")\n",
    "plt.annotate(line_eq,(0,50),fontsize=15,color=\"red\")\n",
    "\n",
    "plt.title(\"Southern Hemisphere - Humidity (%) vs. Latitude (6/20/20)\")\n",
    "plt.xlabel('Latitude')\n",
    "plt.ylabel('Humidity (%)')\n",
    "plt.savefig(\"../output_data/LatitudevsHumiditySouth.png\")\n",
    "plt.show()"
   ]
  },
  {
   "cell_type": "code",
   "execution_count": 31,
   "metadata": {},
   "outputs": [
    {
     "name": "stdout",
     "output_type": "stream",
     "text": [
      "The r value is: 0.05839289610640204\n",
      "The r-squared is: 0.0034097303156930625\n",
      "There is a Weak Positive Strength of Correlation between Humidity and Latitude in the Southern Hemisphere\n"
     ]
    }
   ],
   "source": [
    "print(f\"The r value is: {rvalue}\")\n",
    "print(f\"The r-squared is: {rvalue**2}\")\n",
    "\n",
    "print(\"There is a Weak Positive Strength of Correlation between Humidity and Latitude in the Southern Hemisphere\")"
   ]
  },
  {
   "cell_type": "markdown",
   "metadata": {},
   "source": [
    "####  Northern Hemisphere - Cloudiness (%) vs. Latitude Linear Regression"
   ]
  },
  {
   "cell_type": "code",
   "execution_count": 32,
   "metadata": {},
   "outputs": [
    {
     "data": {
      "image/png": "[encoded data removed]",
      "text/plain": [
       "<Figure size 432x288 with 1 Axes>"
      ]
     },
     "metadata": {
      "needs_background": "light"
     },
     "output_type": "display_data"
    }
   ],
   "source": [
    "# Draw Scatter Plot for Northern Hem.\n",
    "\n",
    "x_values = north_hem_data['Latitude']\n",
    "y_values = north_hem_data['Cloudy']\n",
    "(slope, intercept, rvalue, pvalue, stderr) = linregress(x_values, y_values)\n",
    "regress_values = x_values * slope + intercept\n",
    "line_eq = \"y = \" + str(round(slope,2)) + \"x + \" + str(round(intercept,2))\n",
    "plt.scatter(x_values,y_values)\n",
    "plt.plot(x_values,regress_values,\"r-\")\n",
    "plt.annotate(line_eq,(0,50),fontsize=15,color=\"red\")\n",
    "\n",
    "plt.title(\"Northern Hemisphere - Cloudiness (%) vs. Latitude (6/20/20)\")\n",
    "plt.xlabel('Latitude')\n",
    "plt.ylabel('Cloudiness (%)')\n",
    "plt.savefig(\"../output_data/LatitudevsCloudNorth.png\")\n",
    "plt.show()\n"
   ]
  },
  {
   "cell_type": "code",
   "execution_count": 33,
   "metadata": {},
   "outputs": [
    {
     "name": "stdout",
     "output_type": "stream",
     "text": [
      "The r value is: 0.014805329117674496\n",
      "The r-squared is: 0.00021919777028266027\n",
      "There is a Weak Negative Strength of Correlation between Cloudiness and Latitude in the Northern Hemisphere\n"
     ]
    }
   ],
   "source": [
    "print(f\"The r value is: {rvalue}\")\n",
    "print(f\"The r-squared is: {rvalue**2}\")\n",
    "\n",
    "print(\"There is a Weak Negative Strength of Correlation between Cloudiness and Latitude in the Northern Hemisphere\")"
   ]
  },
  {
   "cell_type": "markdown",
   "metadata": {},
   "source": [
    "####  Southern Hemisphere - Cloudiness (%) vs. Latitude Linear Regression"
   ]
  },
  {
   "cell_type": "code",
   "execution_count": 34,
   "metadata": {},
   "outputs": [
    {
     "data": {
      "image/png": "[encoded data removed]",
      "text/plain": [
       "<Figure size 432x288 with 1 Axes>"
      ]
     },
     "metadata": {
      "needs_background": "light"
     },
     "output_type": "display_data"
    }
   ],
   "source": [
    "# Draw Scatter Plot for Southern Hem.\n",
    "\n",
    "x_values = south_hem_data['Latitude']\n",
    "y_values = south_hem_data['Cloudy']\n",
    "(slope, intercept, rvalue, pvalue, stderr) = linregress(x_values, y_values)\n",
    "regress_values = x_values * slope + intercept\n",
    "line_eq = \"y = \" + str(round(slope,2)) + \"x + \" + str(round(intercept,2))\n",
    "plt.scatter(x_values,y_values)\n",
    "plt.plot(x_values,regress_values,\"r-\")\n",
    "plt.annotate(line_eq,(0,50),fontsize=15,color=\"red\")\n",
    "\n",
    "plt.title(\"Southern Hemisphere - Cloudiness (%) vs. Latitude (6/20/20)\")\n",
    "plt.xlabel('Latitude')\n",
    "plt.ylabel('Cloudiness (%)')\n",
    "plt.savefig(\"../output_data/LatitudevsCloudSouth.png\")\n",
    "plt.show()"
   ]
  },
  {
   "cell_type": "code",
   "execution_count": 35,
   "metadata": {},
   "outputs": [
    {
     "name": "stdout",
     "output_type": "stream",
     "text": [
      "The r value is: 0.1105440884709348\n",
      "The r-squared is: 0.012219995495869862\n",
      "There is a Weak Positive Strength of Correlation between Cloudiness and Latitude in the Southern Hemisphere\n"
     ]
    }
   ],
   "source": [
    "print(f\"The r value is: {rvalue}\")\n",
    "print(f\"The r-squared is: {rvalue**2}\")\n",
    "\n",
    "print(\"There is a Weak Positive Strength of Correlation between Cloudiness and Latitude in the Southern Hemisphere\")"
   ]
  },
  {
   "cell_type": "markdown",
   "metadata": {},
   "source": [
    "####  Northern Hemisphere - Wind Speed (mph) vs. Latitude Linear Regression"
   ]
  },
  {
   "cell_type": "code",
   "execution_count": 36,
   "metadata": {},
   "outputs": [
    {
     "data": {
      "image/png": "[encoded data removed]",
      "text/plain": [
       "<Figure size 432x288 with 1 Axes>"
      ]
     },
     "metadata": {
      "needs_background": "light"
     },
     "output_type": "display_data"
    }
   ],
   "source": [
    "# Draw Scatter Plot for Northern Hem.\n",
    "\n",
    "x_values = north_hem_data['Latitude']\n",
    "y_values = north_hem_data['Wind']\n",
    "(slope, intercept, rvalue, pvalue, stderr) = linregress(x_values, y_values)\n",
    "regress_values = x_values * slope + intercept\n",
    "line_eq = \"y = \" + str(round(slope,2)) + \"x + \" + str(round(intercept,2))\n",
    "plt.scatter(x_values,y_values)\n",
    "plt.plot(x_values,regress_values,\"r-\")\n",
    "plt.annotate(line_eq,(0,50),fontsize=15,color=\"red\")\n",
    "\n",
    "plt.title(\"Northern Hemisphere - Wind Speed(mph) vs. Latitude (6/20/20)\")\n",
    "plt.xlabel('Latitude')\n",
    "plt.ylabel('Wind Speed')\n",
    "plt.savefig(\"../output_data/LatitudevsWindNorth.png\")\n",
    "plt.show()\n"
   ]
  },
  {
   "cell_type": "code",
   "execution_count": 37,
   "metadata": {},
   "outputs": [
    {
     "name": "stdout",
     "output_type": "stream",
     "text": [
      "The r value is: 0.036037148237462104\n",
      "The r-squared is: 0.001298676053088818\n",
      "There is a Weak Negative Strength of Correlation between Wind Speed and Latitude in the Northern Hemisphere\n"
     ]
    }
   ],
   "source": [
    "print(f\"The r value is: {rvalue}\")\n",
    "print(f\"The r-squared is: {rvalue**2}\")\n",
    "\n",
    "print(\"There is a Weak Negative Strength of Correlation between Wind Speed and Latitude in the Northern Hemisphere\")"
   ]
  },
  {
   "cell_type": "markdown",
   "metadata": {},
   "source": [
    "####  Southern Hemisphere - Wind Speed (mph) vs. Latitude Linear Regression"
   ]
  },
  {
   "cell_type": "code",
   "execution_count": 38,
   "metadata": {},
   "outputs": [
    {
     "data": {
      "image/png": "[encoded data removed]",
      "text/plain": [
       "<Figure size 432x288 with 1 Axes>"
      ]
     },
     "metadata": {
      "needs_background": "light"
     },
     "output_type": "display_data"
    }
   ],
   "source": [
    "# Draw Scatter Plot for Northern Hem.\n",
    "\n",
    "x_values = south_hem_data['Latitude']\n",
    "y_values = south_hem_data['Wind']\n",
    "(slope, intercept, rvalue, pvalue, stderr) = linregress(x_values, y_values)\n",
    "regress_values = x_values * slope + intercept\n",
    "line_eq = \"y = \" + str(round(slope,2)) + \"x + \" + str(round(intercept,2))\n",
    "plt.scatter(x_values,y_values)\n",
    "plt.plot(x_values,regress_values,\"r-\")\n",
    "plt.annotate(line_eq,(0,50),fontsize=15,color=\"red\")\n",
    "\n",
    "plt.title(\"Southern Hemisphere - Wind Speed(mph) vs. Latitude (6/20/20)\")\n",
    "plt.xlabel('Latitude')\n",
    "plt.ylabel('Wind Speed')\n",
    "plt.savefig(\"../output_data/LatitudevsWindSouth.png\")\n",
    "plt.show()"
   ]
  },
  {
   "cell_type": "code",
   "execution_count": 39,
   "metadata": {},
   "outputs": [
    {
     "name": "stdout",
     "output_type": "stream",
     "text": [
      "The r value is: 0.10323105428632048\n",
      "The r-squared is: 0.010656650569065246\n",
      "There is a Weak Negative Strength of Correlation between Wind Speed and Latitude in the Southern Hemisphere\n"
     ]
    }
   ],
   "source": [
    "print(f\"The r value is: {rvalue}\")\n",
    "print(f\"The r-squared is: {rvalue**2}\")\n",
    "\n",
    "print(\"There is a Weak Negative Strength of Correlation between Wind Speed and Latitude in the Southern Hemisphere\")"
   ]
  },
  {
   "cell_type": "code",
   "execution_count": null,
   "metadata": {},
   "outputs": [],
   "source": []
  }
 ],
 "metadata": {
  "anaconda-cloud": {},
  "kernel_info": {
   "name": "python3"
  },
  "kernelspec": {
   "display_name": "Python 3",
   "language": "python",
   "name": "python3"
  },
  "language_info": {
   "codemirror_mode": {
    "name": "ipython",
    "version": 3
   },
   "file_extension": ".py",
   "mimetype": "text/x-python",
   "name": "python",
   "nbconvert_exporter": "python",
   "pygments_lexer": "ipython3",
   "version": "3.7.7"
  },
  "latex_envs": {
   "LaTeX_envs_menu_present": true,
   "autoclose": false,
   "autocomplete": true,
   "bibliofile": "biblio.bib",
   "cite_by": "apalike",
   "current_citInitial": 1,
   "eqLabelWithNumbers": true,
   "eqNumInitial": 1,
   "hotkeys": {
    "equation": "Ctrl-E",
    "itemize": "Ctrl-I"
   },
   "labels_anchors": false,
   "latex_user_defs": false,
   "report_style_numbering": false,
   "user_envs_cfg": false
  },
  "nteract": {
   "version": "0.12.3"
  }
 },
 "nbformat": 4,
 "nbformat_minor": 2
}
